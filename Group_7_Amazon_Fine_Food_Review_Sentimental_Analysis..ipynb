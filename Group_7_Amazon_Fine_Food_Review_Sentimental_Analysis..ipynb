{
 "cells": [
  {
   "cell_type": "markdown",
   "metadata": {},
   "source": [
    "GROUP - 7\n",
    "\n",
    "Anisha Siwas - 025007\n",
    "\n",
    "Sarthak Jain - 025029\n",
    "\n",
    "Tanya Goel - 025034"
   ]
  },
  {
   "cell_type": "code",
   "execution_count": 1,
   "metadata": {
    "id": "UHY3r-QKo9QV"
   },
   "outputs": [],
   "source": [
    "import pandas as pd\n",
    "import numpy as np\n",
    "import os\n",
    "import matplotlib.pyplot as plt\n",
    "import seaborn as sns\n",
    "from sklearn.feature_extraction.text import CountVectorizer\n",
    "from sklearn.feature_extraction.text import TfidfVectorizer\n",
    "from sklearn.linear_model import LogisticRegression\n",
    "from sklearn.model_selection import train_test_split\n",
    "from sklearn.dummy import DummyClassifier\n",
    "from string import punctuation\n",
    "from sklearn import svm\n",
    "from nltk.corpus import stopwords\n",
    "from nltk.stem import WordNetLemmatizer\n",
    "import nltk\n",
    "from nltk import ngrams\n",
    "from itertools import chain\n",
    "from wordcloud import WordCloud"
   ]
  },
  {
   "cell_type": "markdown",
   "metadata": {
    "id": "sYguXHS2pUWz"
   },
   "source": [
    "**Dataset:** https://www.kaggle.com/datasets/snap/amazon-fine-food-reviews?resource=download"
   ]
  },
  {
   "cell_type": "code",
   "execution_count": 2,
   "metadata": {
    "colab": {
     "base_uri": "https://localhost:8080/"
    },
    "id": "QMNa13mpo-Bj",
    "outputId": "0b6fa8e3-f111-45e8-fc4a-6f40cacfb9d8"
   },
   "outputs": [
    {
     "name": "stdout",
     "output_type": "stream",
     "text": [
      "Mounted at /content/drive\n"
     ]
    }
   ],
   "source": [
    "from google.colab import drive\n",
    "drive.mount('/content/drive')"
   ]
  },
  {
   "cell_type": "code",
   "execution_count": 3,
   "metadata": {
    "id": "0D5Ng9FNpBJl"
   },
   "outputs": [],
   "source": [
    "path = \"/content/drive/MyDrive/Project 1\""
   ]
  },
  {
   "cell_type": "code",
   "execution_count": 4,
   "metadata": {
    "id": "rPEU4MJgpedU"
   },
   "outputs": [],
   "source": [
    "os.chdir(\"/content/drive/MyDrive/Project 1\")"
   ]
  },
  {
   "cell_type": "code",
   "execution_count": 5,
   "metadata": {
    "colab": {
     "base_uri": "https://localhost:8080/"
    },
    "id": "pJ2Um-zlpg83",
    "outputId": "b2bdcfe0-bc59-4f35-b189-1669c20c0f9a"
   },
   "outputs": [
    {
     "data": {
      "text/plain": [
       "['Reviews.csv', 'database.sqlite', 'hashes.txt', 'model_plot.png']"
      ]
     },
     "execution_count": 5,
     "metadata": {},
     "output_type": "execute_result"
    }
   ],
   "source": [
    "os.listdir()"
   ]
  },
  {
   "cell_type": "markdown",
   "metadata": {
    "id": "l_cxfGgyFj5G"
   },
   "source": [
    "Now we load in the dataset and add some columns for upvote metrics:"
   ]
  },
  {
   "cell_type": "code",
   "execution_count": 6,
   "metadata": {
    "id": "0tOLya8RJqCf"
   },
   "outputs": [],
   "source": [
    "df = pd.read_csv('Reviews.csv')"
   ]
  },
  {
   "cell_type": "code",
   "execution_count": 7,
   "metadata": {
    "colab": {
     "base_uri": "https://localhost:8080/"
    },
    "id": "JpHRG-oKJrsJ",
    "outputId": "7530affa-0fb5-4942-b4ed-d22a31550814"
   },
   "outputs": [
    {
     "data": {
      "text/plain": [
       "(568454, 10)"
      ]
     },
     "execution_count": 7,
     "metadata": {},
     "output_type": "execute_result"
    }
   ],
   "source": [
    "df.shape"
   ]
  },
  {
   "cell_type": "markdown",
   "metadata": {
    "id": "asntEAGeCG_j"
   },
   "source": [
    "HelpfulnessNumerator: Number of users who found the review helpful\n",
    "\n",
    "HelpfulnessDenominator: Number of users who indicated whether they found the review helpful or not\n",
    "\n",
    "Helpful%: %age of people who find the review helpful\n",
    "\n",
    " % Upvote: Category division for Helpful% "
   ]
  },
  {
   "cell_type": "markdown",
   "metadata": {
    "id": "vCoD-5JiR6o8"
   },
   "source": [
    "Because we have limited computational resources we decided to work on 1/10th of the entire dataset."
   ]
  },
  {
   "cell_type": "code",
   "execution_count": 8,
   "metadata": {
    "colab": {
     "base_uri": "https://localhost:8080/",
     "height": 354
    },
    "id": "RQX8uwjfps1N",
    "outputId": "68af4ba9-56f3-4463-b16d-79d17d8e66c8"
   },
   "outputs": [
    {
     "data": {
      "text/html": [
       "\n",
       "  <div id=\"df-a8938fbe-04d1-4ce7-a0ea-71928a27ca3f\">\n",
       "    <div class=\"colab-df-container\">\n",
       "      <div>\n",
       "<style scoped>\n",
       "    .dataframe tbody tr th:only-of-type {\n",
       "        vertical-align: middle;\n",
       "    }\n",
       "\n",
       "    .dataframe tbody tr th {\n",
       "        vertical-align: top;\n",
       "    }\n",
       "\n",
       "    .dataframe thead th {\n",
       "        text-align: right;\n",
       "    }\n",
       "</style>\n",
       "<table border=\"1\" class=\"dataframe\">\n",
       "  <thead>\n",
       "    <tr style=\"text-align: right;\">\n",
       "      <th></th>\n",
       "      <th>Id</th>\n",
       "      <th>ProductId</th>\n",
       "      <th>UserId</th>\n",
       "      <th>ProfileName</th>\n",
       "      <th>HelpfulnessNumerator</th>\n",
       "      <th>HelpfulnessDenominator</th>\n",
       "      <th>Score</th>\n",
       "      <th>Time</th>\n",
       "      <th>Summary</th>\n",
       "      <th>Text</th>\n",
       "      <th>Helpful %</th>\n",
       "      <th>% Upvote</th>\n",
       "    </tr>\n",
       "  </thead>\n",
       "  <tbody>\n",
       "    <tr>\n",
       "      <th>124918</th>\n",
       "      <td>124919</td>\n",
       "      <td>B005BHIESC</td>\n",
       "      <td>A1ZSE31RSEU9BR</td>\n",
       "      <td>Lora Applegarth</td>\n",
       "      <td>0</td>\n",
       "      <td>1</td>\n",
       "      <td>1</td>\n",
       "      <td>1325894400</td>\n",
       "      <td>Never again!</td>\n",
       "      <td>I purchased this thinking \"what a great deal!\"...</td>\n",
       "      <td>0.0</td>\n",
       "      <td>Empty</td>\n",
       "    </tr>\n",
       "    <tr>\n",
       "      <th>147399</th>\n",
       "      <td>147400</td>\n",
       "      <td>B002R89LHQ</td>\n",
       "      <td>A3OXHLG6DIBRW8</td>\n",
       "      <td>C. F. Hill \"CFH\"</td>\n",
       "      <td>1</td>\n",
       "      <td>1</td>\n",
       "      <td>4</td>\n",
       "      <td>1285459200</td>\n",
       "      <td>Good Tasting, Diabetic Friendly - Recommended</td>\n",
       "      <td>These thinkThin \"100 Chocolate Toffee Nut Bite...</td>\n",
       "      <td>1.0</td>\n",
       "      <td>80-100%</td>\n",
       "    </tr>\n",
       "    <tr>\n",
       "      <th>5435</th>\n",
       "      <td>5436</td>\n",
       "      <td>B008YGWIZM</td>\n",
       "      <td>AC1G9PEVXK8JJ</td>\n",
       "      <td>Yitbos78</td>\n",
       "      <td>1</td>\n",
       "      <td>1</td>\n",
       "      <td>5</td>\n",
       "      <td>1346025600</td>\n",
       "      <td>A change of pace!</td>\n",
       "      <td>I purchased some of this special habanero sauc...</td>\n",
       "      <td>1.0</td>\n",
       "      <td>80-100%</td>\n",
       "    </tr>\n",
       "    <tr>\n",
       "      <th>497248</th>\n",
       "      <td>497249</td>\n",
       "      <td>B004E4EBMG</td>\n",
       "      <td>A3K98GERRFRE07</td>\n",
       "      <td>Mom of Three</td>\n",
       "      <td>0</td>\n",
       "      <td>0</td>\n",
       "      <td>3</td>\n",
       "      <td>1343260800</td>\n",
       "      <td>Tasty, Uses Natural Flavoring, But Don't Care ...</td>\n",
       "      <td>My daughter loves this stuff.  I thought it ta...</td>\n",
       "      <td>-1.0</td>\n",
       "      <td>Empty</td>\n",
       "    </tr>\n",
       "    <tr>\n",
       "      <th>219223</th>\n",
       "      <td>219224</td>\n",
       "      <td>B007Y6P7ZG</td>\n",
       "      <td>A22NAHUYYAYC94</td>\n",
       "      <td>Musicluvr</td>\n",
       "      <td>0</td>\n",
       "      <td>0</td>\n",
       "      <td>4</td>\n",
       "      <td>1346976000</td>\n",
       "      <td>Pleasing taste</td>\n",
       "      <td>I have tried virtually every variety of the Bo...</td>\n",
       "      <td>-1.0</td>\n",
       "      <td>Empty</td>\n",
       "    </tr>\n",
       "  </tbody>\n",
       "</table>\n",
       "</div>\n",
       "      <button class=\"colab-df-convert\" onclick=\"convertToInteractive('df-a8938fbe-04d1-4ce7-a0ea-71928a27ca3f')\"\n",
       "              title=\"Convert this dataframe to an interactive table.\"\n",
       "              style=\"display:none;\">\n",
       "        \n",
       "  <svg xmlns=\"http://www.w3.org/2000/svg\" height=\"24px\"viewBox=\"0 0 24 24\"\n",
       "       width=\"24px\">\n",
       "    <path d=\"M0 0h24v24H0V0z\" fill=\"none\"/>\n",
       "    <path d=\"M18.56 5.44l.94 2.06.94-2.06 2.06-.94-2.06-.94-.94-2.06-.94 2.06-2.06.94zm-11 1L8.5 8.5l.94-2.06 2.06-.94-2.06-.94L8.5 2.5l-.94 2.06-2.06.94zm10 10l.94 2.06.94-2.06 2.06-.94-2.06-.94-.94-2.06-.94 2.06-2.06.94z\"/><path d=\"M17.41 7.96l-1.37-1.37c-.4-.4-.92-.59-1.43-.59-.52 0-1.04.2-1.43.59L10.3 9.45l-7.72 7.72c-.78.78-.78 2.05 0 2.83L4 21.41c.39.39.9.59 1.41.59.51 0 1.02-.2 1.41-.59l7.78-7.78 2.81-2.81c.8-.78.8-2.07 0-2.86zM5.41 20L4 18.59l7.72-7.72 1.47 1.35L5.41 20z\"/>\n",
       "  </svg>\n",
       "      </button>\n",
       "      \n",
       "  <style>\n",
       "    .colab-df-container {\n",
       "      display:flex;\n",
       "      flex-wrap:wrap;\n",
       "      gap: 12px;\n",
       "    }\n",
       "\n",
       "    .colab-df-convert {\n",
       "      background-color: #E8F0FE;\n",
       "      border: none;\n",
       "      border-radius: 50%;\n",
       "      cursor: pointer;\n",
       "      display: none;\n",
       "      fill: #1967D2;\n",
       "      height: 32px;\n",
       "      padding: 0 0 0 0;\n",
       "      width: 32px;\n",
       "    }\n",
       "\n",
       "    .colab-df-convert:hover {\n",
       "      background-color: #E2EBFA;\n",
       "      box-shadow: 0px 1px 2px rgba(60, 64, 67, 0.3), 0px 1px 3px 1px rgba(60, 64, 67, 0.15);\n",
       "      fill: #174EA6;\n",
       "    }\n",
       "\n",
       "    [theme=dark] .colab-df-convert {\n",
       "      background-color: #3B4455;\n",
       "      fill: #D2E3FC;\n",
       "    }\n",
       "\n",
       "    [theme=dark] .colab-df-convert:hover {\n",
       "      background-color: #434B5C;\n",
       "      box-shadow: 0px 1px 3px 1px rgba(0, 0, 0, 0.15);\n",
       "      filter: drop-shadow(0px 1px 2px rgba(0, 0, 0, 0.3));\n",
       "      fill: #FFFFFF;\n",
       "    }\n",
       "  </style>\n",
       "\n",
       "      <script>\n",
       "        const buttonEl =\n",
       "          document.querySelector('#df-a8938fbe-04d1-4ce7-a0ea-71928a27ca3f button.colab-df-convert');\n",
       "        buttonEl.style.display =\n",
       "          google.colab.kernel.accessAllowed ? 'block' : 'none';\n",
       "\n",
       "        async function convertToInteractive(key) {\n",
       "          const element = document.querySelector('#df-a8938fbe-04d1-4ce7-a0ea-71928a27ca3f');\n",
       "          const dataTable =\n",
       "            await google.colab.kernel.invokeFunction('convertToInteractive',\n",
       "                                                     [key], {});\n",
       "          if (!dataTable) return;\n",
       "\n",
       "          const docLinkHtml = 'Like what you see? Visit the ' +\n",
       "            '<a target=\"_blank\" href=https://colab.research.google.com/notebooks/data_table.ipynb>data table notebook</a>'\n",
       "            + ' to learn more about interactive tables.';\n",
       "          element.innerHTML = '';\n",
       "          dataTable['output_type'] = 'display_data';\n",
       "          await google.colab.output.renderOutput(dataTable, element);\n",
       "          const docLink = document.createElement('div');\n",
       "          docLink.innerHTML = docLinkHtml;\n",
       "          element.appendChild(docLink);\n",
       "        }\n",
       "      </script>\n",
       "    </div>\n",
       "  </div>\n",
       "  "
      ],
      "text/plain": [
       "            Id   ProductId          UserId       ProfileName  \\\n",
       "124918  124919  B005BHIESC  A1ZSE31RSEU9BR   Lora Applegarth   \n",
       "147399  147400  B002R89LHQ  A3OXHLG6DIBRW8  C. F. Hill \"CFH\"   \n",
       "5435      5436  B008YGWIZM   AC1G9PEVXK8JJ          Yitbos78   \n",
       "497248  497249  B004E4EBMG  A3K98GERRFRE07      Mom of Three   \n",
       "219223  219224  B007Y6P7ZG  A22NAHUYYAYC94         Musicluvr   \n",
       "\n",
       "        HelpfulnessNumerator  HelpfulnessDenominator  Score        Time  \\\n",
       "124918                     0                       1      1  1325894400   \n",
       "147399                     1                       1      4  1285459200   \n",
       "5435                       1                       1      5  1346025600   \n",
       "497248                     0                       0      3  1343260800   \n",
       "219223                     0                       0      4  1346976000   \n",
       "\n",
       "                                                  Summary  \\\n",
       "124918                                       Never again!   \n",
       "147399      Good Tasting, Diabetic Friendly - Recommended   \n",
       "5435                                    A change of pace!   \n",
       "497248  Tasty, Uses Natural Flavoring, But Don't Care ...   \n",
       "219223                                     Pleasing taste   \n",
       "\n",
       "                                                     Text  Helpful % % Upvote  \n",
       "124918  I purchased this thinking \"what a great deal!\"...        0.0    Empty  \n",
       "147399  These thinkThin \"100 Chocolate Toffee Nut Bite...        1.0  80-100%  \n",
       "5435    I purchased some of this special habanero sauc...        1.0  80-100%  \n",
       "497248  My daughter loves this stuff.  I thought it ta...       -1.0    Empty  \n",
       "219223  I have tried virtually every variety of the Bo...       -1.0    Empty  "
      ]
     },
     "execution_count": 8,
     "metadata": {},
     "output_type": "execute_result"
    }
   ],
   "source": [
    "#Taking 56,845 out of 568,450 reviews\n",
    "reviewsData= df.sample(frac = 0.1)\n",
    "reviewsData['Helpful %'] = np.where(reviewsData['HelpfulnessDenominator'] > 0, reviewsData['HelpfulnessNumerator'] / reviewsData['HelpfulnessDenominator'], -1)\n",
    "reviewsData['% Upvote'] = pd.cut(reviewsData['Helpful %'], bins = [-1, 0, 0.2, 0.4, 0.6, 0.8, 1.0], labels = ['Empty', '0-20%', '20-40%', '40-60%', '60-80%', '80-100%'], include_lowest = True)\n",
    "reviewsData.head()"
   ]
  },
  {
   "cell_type": "markdown",
   "metadata": {
    "id": "pqGMpQkOI1OA"
   },
   "source": [
    "\n",
    "**Data Exploration**"
   ]
  },
  {
   "cell_type": "code",
   "execution_count": 9,
   "metadata": {
    "colab": {
     "base_uri": "https://localhost:8080/"
    },
    "id": "N5pHn63ZIzRs",
    "outputId": "574042f6-da82-49a8-96f3-704890080e71"
   },
   "outputs": [
    {
     "data": {
      "text/plain": [
       "Index(['Id', 'ProductId', 'UserId', 'ProfileName', 'HelpfulnessNumerator',\n",
       "       'HelpfulnessDenominator', 'Score', 'Time', 'Summary', 'Text'],\n",
       "      dtype='object')"
      ]
     },
     "execution_count": 9,
     "metadata": {},
     "output_type": "execute_result"
    }
   ],
   "source": [
    "df.columns"
   ]
  },
  {
   "cell_type": "code",
   "execution_count": 10,
   "metadata": {
    "colab": {
     "base_uri": "https://localhost:8080/"
    },
    "id": "mmDzRhL_I5sx",
    "outputId": "0688ab43-22c9-4545-e008-77baa9ac9c79"
   },
   "outputs": [
    {
     "data": {
      "text/plain": [
       "(568454, 10)"
      ]
     },
     "execution_count": 10,
     "metadata": {},
     "output_type": "execute_result"
    }
   ],
   "source": [
    "df.shape"
   ]
  },
  {
   "cell_type": "code",
   "execution_count": 11,
   "metadata": {
    "colab": {
     "base_uri": "https://localhost:8080/"
    },
    "id": "fNnAQmjfJbut",
    "outputId": "ad5a5224-0c40-4ac8-ddc7-ff0b71b4bd71"
   },
   "outputs": [
    {
     "data": {
      "text/plain": [
       "(56845, 12)"
      ]
     },
     "execution_count": 11,
     "metadata": {},
     "output_type": "execute_result"
    }
   ],
   "source": [
    "reviewsData.shape"
   ]
  },
  {
   "cell_type": "code",
   "execution_count": 12,
   "metadata": {
    "colab": {
     "base_uri": "https://localhost:8080/"
    },
    "id": "hqhx3fgMJ9_F",
    "outputId": "1d484e09-21de-411f-d6c9-fb2a3acc495a"
   },
   "outputs": [
    {
     "data": {
      "text/plain": [
       "Id                           int64\n",
       "ProductId                   object\n",
       "UserId                      object\n",
       "ProfileName                 object\n",
       "HelpfulnessNumerator         int64\n",
       "HelpfulnessDenominator       int64\n",
       "Score                        int64\n",
       "Time                         int64\n",
       "Summary                     object\n",
       "Text                        object\n",
       "Helpful %                  float64\n",
       "% Upvote                  category\n",
       "dtype: object"
      ]
     },
     "execution_count": 12,
     "metadata": {},
     "output_type": "execute_result"
    }
   ],
   "source": [
    "reviewsData.dtypes"
   ]
  },
  {
   "cell_type": "code",
   "execution_count": 13,
   "metadata": {
    "colab": {
     "base_uri": "https://localhost:8080/"
    },
    "id": "CdJoiiIhKLn8",
    "outputId": "d697cb5a-0b9f-48d5-9783-3a48d0bfc80e"
   },
   "outputs": [
    {
     "name": "stdout",
     "output_type": "stream",
     "text": [
      "<class 'pandas.core.frame.DataFrame'>\n",
      "Int64Index: 56845 entries, 124918 to 80261\n",
      "Data columns (total 12 columns):\n",
      " #   Column                  Non-Null Count  Dtype   \n",
      "---  ------                  --------------  -----   \n",
      " 0   Id                      56845 non-null  int64   \n",
      " 1   ProductId               56845 non-null  object  \n",
      " 2   UserId                  56845 non-null  object  \n",
      " 3   ProfileName             56842 non-null  object  \n",
      " 4   HelpfulnessNumerator    56845 non-null  int64   \n",
      " 5   HelpfulnessDenominator  56845 non-null  int64   \n",
      " 6   Score                   56845 non-null  int64   \n",
      " 7   Time                    56845 non-null  int64   \n",
      " 8   Summary                 56841 non-null  object  \n",
      " 9   Text                    56845 non-null  object  \n",
      " 10  Helpful %               56845 non-null  float64 \n",
      " 11  % Upvote                56845 non-null  category\n",
      "dtypes: category(1), float64(1), int64(5), object(5)\n",
      "memory usage: 5.3+ MB\n"
     ]
    }
   ],
   "source": [
    "reviewsData.info()"
   ]
  },
  {
   "cell_type": "code",
   "execution_count": 14,
   "metadata": {
    "colab": {
     "base_uri": "https://localhost:8080/",
     "height": 300
    },
    "id": "V8KZDQPgKZs8",
    "outputId": "0a16ec26-9388-4b71-bd1a-e74fde10ab22"
   },
   "outputs": [
    {
     "data": {
      "text/html": [
       "\n",
       "  <div id=\"df-9ccdcd6a-6ca4-4d38-acb8-754b45d901d3\">\n",
       "    <div class=\"colab-df-container\">\n",
       "      <div>\n",
       "<style scoped>\n",
       "    .dataframe tbody tr th:only-of-type {\n",
       "        vertical-align: middle;\n",
       "    }\n",
       "\n",
       "    .dataframe tbody tr th {\n",
       "        vertical-align: top;\n",
       "    }\n",
       "\n",
       "    .dataframe thead th {\n",
       "        text-align: right;\n",
       "    }\n",
       "</style>\n",
       "<table border=\"1\" class=\"dataframe\">\n",
       "  <thead>\n",
       "    <tr style=\"text-align: right;\">\n",
       "      <th></th>\n",
       "      <th>Id</th>\n",
       "      <th>HelpfulnessNumerator</th>\n",
       "      <th>HelpfulnessDenominator</th>\n",
       "      <th>Score</th>\n",
       "      <th>Time</th>\n",
       "      <th>Helpful %</th>\n",
       "    </tr>\n",
       "  </thead>\n",
       "  <tbody>\n",
       "    <tr>\n",
       "      <th>count</th>\n",
       "      <td>56845.000000</td>\n",
       "      <td>56845.000000</td>\n",
       "      <td>56845.000000</td>\n",
       "      <td>56845.000000</td>\n",
       "      <td>5.684500e+04</td>\n",
       "      <td>56845.000000</td>\n",
       "    </tr>\n",
       "    <tr>\n",
       "      <th>mean</th>\n",
       "      <td>284490.951324</td>\n",
       "      <td>1.778028</td>\n",
       "      <td>2.265775</td>\n",
       "      <td>4.184027</td>\n",
       "      <td>1.296113e+09</td>\n",
       "      <td>-0.061455</td>\n",
       "    </tr>\n",
       "    <tr>\n",
       "      <th>std</th>\n",
       "      <td>163908.195278</td>\n",
       "      <td>8.319819</td>\n",
       "      <td>8.912112</td>\n",
       "      <td>1.309140</td>\n",
       "      <td>4.806461e+07</td>\n",
       "      <td>0.922100</td>\n",
       "    </tr>\n",
       "    <tr>\n",
       "      <th>min</th>\n",
       "      <td>2.000000</td>\n",
       "      <td>0.000000</td>\n",
       "      <td>0.000000</td>\n",
       "      <td>1.000000</td>\n",
       "      <td>9.482400e+08</td>\n",
       "      <td>-1.000000</td>\n",
       "    </tr>\n",
       "    <tr>\n",
       "      <th>25%</th>\n",
       "      <td>142328.000000</td>\n",
       "      <td>0.000000</td>\n",
       "      <td>0.000000</td>\n",
       "      <td>4.000000</td>\n",
       "      <td>1.271290e+09</td>\n",
       "      <td>-1.000000</td>\n",
       "    </tr>\n",
       "    <tr>\n",
       "      <th>50%</th>\n",
       "      <td>284884.000000</td>\n",
       "      <td>0.000000</td>\n",
       "      <td>1.000000</td>\n",
       "      <td>5.000000</td>\n",
       "      <td>1.310688e+09</td>\n",
       "      <td>0.000000</td>\n",
       "    </tr>\n",
       "    <tr>\n",
       "      <th>75%</th>\n",
       "      <td>426152.000000</td>\n",
       "      <td>2.000000</td>\n",
       "      <td>2.000000</td>\n",
       "      <td>5.000000</td>\n",
       "      <td>1.332634e+09</td>\n",
       "      <td>1.000000</td>\n",
       "    </tr>\n",
       "    <tr>\n",
       "      <th>max</th>\n",
       "      <td>568441.000000</td>\n",
       "      <td>559.000000</td>\n",
       "      <td>562.000000</td>\n",
       "      <td>5.000000</td>\n",
       "      <td>1.351210e+09</td>\n",
       "      <td>1.000000</td>\n",
       "    </tr>\n",
       "  </tbody>\n",
       "</table>\n",
       "</div>\n",
       "      <button class=\"colab-df-convert\" onclick=\"convertToInteractive('df-9ccdcd6a-6ca4-4d38-acb8-754b45d901d3')\"\n",
       "              title=\"Convert this dataframe to an interactive table.\"\n",
       "              style=\"display:none;\">\n",
       "        \n",
       "  <svg xmlns=\"http://www.w3.org/2000/svg\" height=\"24px\"viewBox=\"0 0 24 24\"\n",
       "       width=\"24px\">\n",
       "    <path d=\"M0 0h24v24H0V0z\" fill=\"none\"/>\n",
       "    <path d=\"M18.56 5.44l.94 2.06.94-2.06 2.06-.94-2.06-.94-.94-2.06-.94 2.06-2.06.94zm-11 1L8.5 8.5l.94-2.06 2.06-.94-2.06-.94L8.5 2.5l-.94 2.06-2.06.94zm10 10l.94 2.06.94-2.06 2.06-.94-2.06-.94-.94-2.06-.94 2.06-2.06.94z\"/><path d=\"M17.41 7.96l-1.37-1.37c-.4-.4-.92-.59-1.43-.59-.52 0-1.04.2-1.43.59L10.3 9.45l-7.72 7.72c-.78.78-.78 2.05 0 2.83L4 21.41c.39.39.9.59 1.41.59.51 0 1.02-.2 1.41-.59l7.78-7.78 2.81-2.81c.8-.78.8-2.07 0-2.86zM5.41 20L4 18.59l7.72-7.72 1.47 1.35L5.41 20z\"/>\n",
       "  </svg>\n",
       "      </button>\n",
       "      \n",
       "  <style>\n",
       "    .colab-df-container {\n",
       "      display:flex;\n",
       "      flex-wrap:wrap;\n",
       "      gap: 12px;\n",
       "    }\n",
       "\n",
       "    .colab-df-convert {\n",
       "      background-color: #E8F0FE;\n",
       "      border: none;\n",
       "      border-radius: 50%;\n",
       "      cursor: pointer;\n",
       "      display: none;\n",
       "      fill: #1967D2;\n",
       "      height: 32px;\n",
       "      padding: 0 0 0 0;\n",
       "      width: 32px;\n",
       "    }\n",
       "\n",
       "    .colab-df-convert:hover {\n",
       "      background-color: #E2EBFA;\n",
       "      box-shadow: 0px 1px 2px rgba(60, 64, 67, 0.3), 0px 1px 3px 1px rgba(60, 64, 67, 0.15);\n",
       "      fill: #174EA6;\n",
       "    }\n",
       "\n",
       "    [theme=dark] .colab-df-convert {\n",
       "      background-color: #3B4455;\n",
       "      fill: #D2E3FC;\n",
       "    }\n",
       "\n",
       "    [theme=dark] .colab-df-convert:hover {\n",
       "      background-color: #434B5C;\n",
       "      box-shadow: 0px 1px 3px 1px rgba(0, 0, 0, 0.15);\n",
       "      filter: drop-shadow(0px 1px 2px rgba(0, 0, 0, 0.3));\n",
       "      fill: #FFFFFF;\n",
       "    }\n",
       "  </style>\n",
       "\n",
       "      <script>\n",
       "        const buttonEl =\n",
       "          document.querySelector('#df-9ccdcd6a-6ca4-4d38-acb8-754b45d901d3 button.colab-df-convert');\n",
       "        buttonEl.style.display =\n",
       "          google.colab.kernel.accessAllowed ? 'block' : 'none';\n",
       "\n",
       "        async function convertToInteractive(key) {\n",
       "          const element = document.querySelector('#df-9ccdcd6a-6ca4-4d38-acb8-754b45d901d3');\n",
       "          const dataTable =\n",
       "            await google.colab.kernel.invokeFunction('convertToInteractive',\n",
       "                                                     [key], {});\n",
       "          if (!dataTable) return;\n",
       "\n",
       "          const docLinkHtml = 'Like what you see? Visit the ' +\n",
       "            '<a target=\"_blank\" href=https://colab.research.google.com/notebooks/data_table.ipynb>data table notebook</a>'\n",
       "            + ' to learn more about interactive tables.';\n",
       "          element.innerHTML = '';\n",
       "          dataTable['output_type'] = 'display_data';\n",
       "          await google.colab.output.renderOutput(dataTable, element);\n",
       "          const docLink = document.createElement('div');\n",
       "          docLink.innerHTML = docLinkHtml;\n",
       "          element.appendChild(docLink);\n",
       "        }\n",
       "      </script>\n",
       "    </div>\n",
       "  </div>\n",
       "  "
      ],
      "text/plain": [
       "                  Id  HelpfulnessNumerator  HelpfulnessDenominator  \\\n",
       "count   56845.000000          56845.000000            56845.000000   \n",
       "mean   284490.951324              1.778028                2.265775   \n",
       "std    163908.195278              8.319819                8.912112   \n",
       "min         2.000000              0.000000                0.000000   \n",
       "25%    142328.000000              0.000000                0.000000   \n",
       "50%    284884.000000              0.000000                1.000000   \n",
       "75%    426152.000000              2.000000                2.000000   \n",
       "max    568441.000000            559.000000              562.000000   \n",
       "\n",
       "              Score          Time     Helpful %  \n",
       "count  56845.000000  5.684500e+04  56845.000000  \n",
       "mean       4.184027  1.296113e+09     -0.061455  \n",
       "std        1.309140  4.806461e+07      0.922100  \n",
       "min        1.000000  9.482400e+08     -1.000000  \n",
       "25%        4.000000  1.271290e+09     -1.000000  \n",
       "50%        5.000000  1.310688e+09      0.000000  \n",
       "75%        5.000000  1.332634e+09      1.000000  \n",
       "max        5.000000  1.351210e+09      1.000000  "
      ]
     },
     "execution_count": 14,
     "metadata": {},
     "output_type": "execute_result"
    }
   ],
   "source": [
    "reviewsData.describe()"
   ]
  },
  {
   "cell_type": "code",
   "execution_count": 15,
   "metadata": {
    "id": "IlLciFVBVZZ2"
   },
   "outputs": [],
   "source": [
    "##Removing the Duplicates if any\n",
    "reviewsData.duplicated().sum()\n",
    "reviewsData.drop_duplicates(inplace=True)"
   ]
  },
  {
   "cell_type": "code",
   "execution_count": 16,
   "metadata": {
    "colab": {
     "base_uri": "https://localhost:8080/"
    },
    "id": "eqSm-I6EV_OL",
    "outputId": "8c87869a-4a5b-44ee-9bd2-9b5961995749"
   },
   "outputs": [
    {
     "data": {
      "text/plain": [
       "Id                        0\n",
       "ProductId                 0\n",
       "UserId                    0\n",
       "ProfileName               3\n",
       "HelpfulnessNumerator      0\n",
       "HelpfulnessDenominator    0\n",
       "Score                     0\n",
       "Time                      0\n",
       "Summary                   4\n",
       "Text                      0\n",
       "Helpful %                 0\n",
       "% Upvote                  0\n",
       "dtype: int64"
      ]
     },
     "execution_count": 16,
     "metadata": {},
     "output_type": "execute_result"
    }
   ],
   "source": [
    "#Check for the null values in each column\n",
    "reviewsData.isnull().sum()"
   ]
  },
  {
   "cell_type": "code",
   "execution_count": 17,
   "metadata": {
    "id": "EY4Zthm4WJUI"
   },
   "outputs": [],
   "source": [
    "##Remove the NaN values from the dataset\n",
    "reviewsData.isnull().sum()\n",
    "reviewsData.dropna(how='any',inplace=True)"
   ]
  },
  {
   "cell_type": "code",
   "execution_count": 18,
   "metadata": {
    "colab": {
     "base_uri": "https://localhost:8080/"
    },
    "id": "e5mhHYI3sFLm",
    "outputId": "94584c81-32c4-4881-ab92-fb4e2d41b831"
   },
   "outputs": [
    {
     "data": {
      "text/plain": [
       "Id                        0\n",
       "ProductId                 0\n",
       "UserId                    0\n",
       "ProfileName               0\n",
       "HelpfulnessNumerator      0\n",
       "HelpfulnessDenominator    0\n",
       "Score                     0\n",
       "Time                      0\n",
       "Summary                   0\n",
       "Text                      0\n",
       "Helpful %                 0\n",
       "% Upvote                  0\n",
       "dtype: int64"
      ]
     },
     "execution_count": 18,
     "metadata": {},
     "output_type": "execute_result"
    }
   ],
   "source": [
    "#Check for the null values in each column\n",
    "reviewsData.isnull().sum()"
   ]
  },
  {
   "cell_type": "code",
   "execution_count": 19,
   "metadata": {
    "colab": {
     "base_uri": "https://localhost:8080/",
     "height": 696
    },
    "id": "7FJmiGQuWcGM",
    "outputId": "d53d9634-77c7-42f0-e9ac-2466a79d2b77"
   },
   "outputs": [
    {
     "name": "stderr",
     "output_type": "stream",
     "text": [
      "/usr/local/lib/python3.7/dist-packages/seaborn/_decorators.py:43: FutureWarning: Pass the following variable as a keyword arg: x. From version 0.12, the only valid positional argument will be `data`, and passing other arguments without an explicit keyword will result in an error or misinterpretation.\n",
      "  FutureWarning\n"
     ]
    },
    {
     "data": {
      "text/plain": [
       "Text(0.5, 1.0, 'Score')"
      ]
     },
     "execution_count": 19,
     "metadata": {},
     "output_type": "execute_result"
    },
    {
     "data": {
      "image/png": "[encoded data removed]",
      "text/plain": [
       "<Figure size 720x720 with 1 Axes>"
      ]
     },
     "metadata": {
      "needs_background": "light"
     },
     "output_type": "display_data"
    }
   ],
   "source": [
    "import seaborn as sns\n",
    "sns.countplot(reviewsData['Score'], palette=\"plasma\")\n",
    "fig = plt.gcf()\n",
    "fig.set_size_inches(10,10)\n",
    "plt.title('Score')"
   ]
  },
  {
   "cell_type": "code",
   "execution_count": 20,
   "metadata": {
    "colab": {
     "base_uri": "https://localhost:8080/",
     "height": 224
    },
    "id": "TUnUImyEdlFS",
    "outputId": "38eaa5e6-add1-40f8-e51f-ea5447298631"
   },
   "outputs": [
    {
     "name": "stdout",
     "output_type": "stream",
     "text": [
      "(56838, 2)\n"
     ]
    },
    {
     "data": {
      "text/html": [
       "\n",
       "  <div id=\"df-889012c9-e8ed-49c9-8910-6a524b4bcebb\">\n",
       "    <div class=\"colab-df-container\">\n",
       "      <div>\n",
       "<style scoped>\n",
       "    .dataframe tbody tr th:only-of-type {\n",
       "        vertical-align: middle;\n",
       "    }\n",
       "\n",
       "    .dataframe tbody tr th {\n",
       "        vertical-align: top;\n",
       "    }\n",
       "\n",
       "    .dataframe thead th {\n",
       "        text-align: right;\n",
       "    }\n",
       "</style>\n",
       "<table border=\"1\" class=\"dataframe\">\n",
       "  <thead>\n",
       "    <tr style=\"text-align: right;\">\n",
       "      <th></th>\n",
       "      <th>Score</th>\n",
       "      <th>Text</th>\n",
       "    </tr>\n",
       "  </thead>\n",
       "  <tbody>\n",
       "    <tr>\n",
       "      <th>124918</th>\n",
       "      <td>1</td>\n",
       "      <td>I purchased this thinking \"what a great deal!\"...</td>\n",
       "    </tr>\n",
       "    <tr>\n",
       "      <th>147399</th>\n",
       "      <td>4</td>\n",
       "      <td>These thinkThin \"100 Chocolate Toffee Nut Bite...</td>\n",
       "    </tr>\n",
       "    <tr>\n",
       "      <th>5435</th>\n",
       "      <td>5</td>\n",
       "      <td>I purchased some of this special habanero sauc...</td>\n",
       "    </tr>\n",
       "    <tr>\n",
       "      <th>497248</th>\n",
       "      <td>3</td>\n",
       "      <td>My daughter loves this stuff.  I thought it ta...</td>\n",
       "    </tr>\n",
       "    <tr>\n",
       "      <th>219223</th>\n",
       "      <td>4</td>\n",
       "      <td>I have tried virtually every variety of the Bo...</td>\n",
       "    </tr>\n",
       "  </tbody>\n",
       "</table>\n",
       "</div>\n",
       "      <button class=\"colab-df-convert\" onclick=\"convertToInteractive('df-889012c9-e8ed-49c9-8910-6a524b4bcebb')\"\n",
       "              title=\"Convert this dataframe to an interactive table.\"\n",
       "              style=\"display:none;\">\n",
       "        \n",
       "  <svg xmlns=\"http://www.w3.org/2000/svg\" height=\"24px\"viewBox=\"0 0 24 24\"\n",
       "       width=\"24px\">\n",
       "    <path d=\"M0 0h24v24H0V0z\" fill=\"none\"/>\n",
       "    <path d=\"M18.56 5.44l.94 2.06.94-2.06 2.06-.94-2.06-.94-.94-2.06-.94 2.06-2.06.94zm-11 1L8.5 8.5l.94-2.06 2.06-.94-2.06-.94L8.5 2.5l-.94 2.06-2.06.94zm10 10l.94 2.06.94-2.06 2.06-.94-2.06-.94-.94-2.06-.94 2.06-2.06.94z\"/><path d=\"M17.41 7.96l-1.37-1.37c-.4-.4-.92-.59-1.43-.59-.52 0-1.04.2-1.43.59L10.3 9.45l-7.72 7.72c-.78.78-.78 2.05 0 2.83L4 21.41c.39.39.9.59 1.41.59.51 0 1.02-.2 1.41-.59l7.78-7.78 2.81-2.81c.8-.78.8-2.07 0-2.86zM5.41 20L4 18.59l7.72-7.72 1.47 1.35L5.41 20z\"/>\n",
       "  </svg>\n",
       "      </button>\n",
       "      \n",
       "  <style>\n",
       "    .colab-df-container {\n",
       "      display:flex;\n",
       "      flex-wrap:wrap;\n",
       "      gap: 12px;\n",
       "    }\n",
       "\n",
       "    .colab-df-convert {\n",
       "      background-color: #E8F0FE;\n",
       "      border: none;\n",
       "      border-radius: 50%;\n",
       "      cursor: pointer;\n",
       "      display: none;\n",
       "      fill: #1967D2;\n",
       "      height: 32px;\n",
       "      padding: 0 0 0 0;\n",
       "      width: 32px;\n",
       "    }\n",
       "\n",
       "    .colab-df-convert:hover {\n",
       "      background-color: #E2EBFA;\n",
       "      box-shadow: 0px 1px 2px rgba(60, 64, 67, 0.3), 0px 1px 3px 1px rgba(60, 64, 67, 0.15);\n",
       "      fill: #174EA6;\n",
       "    }\n",
       "\n",
       "    [theme=dark] .colab-df-convert {\n",
       "      background-color: #3B4455;\n",
       "      fill: #D2E3FC;\n",
       "    }\n",
       "\n",
       "    [theme=dark] .colab-df-convert:hover {\n",
       "      background-color: #434B5C;\n",
       "      box-shadow: 0px 1px 3px 1px rgba(0, 0, 0, 0.15);\n",
       "      filter: drop-shadow(0px 1px 2px rgba(0, 0, 0, 0.3));\n",
       "      fill: #FFFFFF;\n",
       "    }\n",
       "  </style>\n",
       "\n",
       "      <script>\n",
       "        const buttonEl =\n",
       "          document.querySelector('#df-889012c9-e8ed-49c9-8910-6a524b4bcebb button.colab-df-convert');\n",
       "        buttonEl.style.display =\n",
       "          google.colab.kernel.accessAllowed ? 'block' : 'none';\n",
       "\n",
       "        async function convertToInteractive(key) {\n",
       "          const element = document.querySelector('#df-889012c9-e8ed-49c9-8910-6a524b4bcebb');\n",
       "          const dataTable =\n",
       "            await google.colab.kernel.invokeFunction('convertToInteractive',\n",
       "                                                     [key], {});\n",
       "          if (!dataTable) return;\n",
       "\n",
       "          const docLinkHtml = 'Like what you see? Visit the ' +\n",
       "            '<a target=\"_blank\" href=https://colab.research.google.com/notebooks/data_table.ipynb>data table notebook</a>'\n",
       "            + ' to learn more about interactive tables.';\n",
       "          element.innerHTML = '';\n",
       "          dataTable['output_type'] = 'display_data';\n",
       "          await google.colab.output.renderOutput(dataTable, element);\n",
       "          const docLink = document.createElement('div');\n",
       "          docLink.innerHTML = docLinkHtml;\n",
       "          element.appendChild(docLink);\n",
       "        }\n",
       "      </script>\n",
       "    </div>\n",
       "  </div>\n",
       "  "
      ],
      "text/plain": [
       "        Score                                               Text\n",
       "124918      1  I purchased this thinking \"what a great deal!\"...\n",
       "147399      4  These thinkThin \"100 Chocolate Toffee Nut Bite...\n",
       "5435        5  I purchased some of this special habanero sauc...\n",
       "497248      3  My daughter loves this stuff.  I thought it ta...\n",
       "219223      4  I have tried virtually every variety of the Bo..."
      ]
     },
     "execution_count": 20,
     "metadata": {},
     "output_type": "execute_result"
    }
   ],
   "source": [
    "rating_df = pd.DataFrame(reviewsData, columns=['Score', 'Text'])\n",
    "print(rating_df.shape)\n",
    "rating_df.head()"
   ]
  },
  {
   "cell_type": "code",
   "execution_count": 21,
   "metadata": {
    "colab": {
     "base_uri": "https://localhost:8080/"
    },
    "id": "rx79URaxJZOw",
    "outputId": "afebe799-efb4-44e0-9eb9-cf7f5ea4e42c"
   },
   "outputs": [
    {
     "data": {
      "text/plain": [
       "5    36305\n",
       "4     8093\n",
       "1     5193\n",
       "3     4234\n",
       "2     3013\n",
       "Name: Score, dtype: int64"
      ]
     },
     "execution_count": 21,
     "metadata": {},
     "output_type": "execute_result"
    }
   ],
   "source": [
    "rating_df['Score'].value_counts()"
   ]
  },
  {
   "cell_type": "code",
   "execution_count": 22,
   "metadata": {
    "colab": {
     "base_uri": "https://localhost:8080/",
     "height": 206
    },
    "id": "NkiGtnmRrdfc",
    "outputId": "bba6f865-46d3-417d-9022-b6d71d30111b"
   },
   "outputs": [
    {
     "data": {
      "text/html": [
       "\n",
       "  <div id=\"df-09392e48-80da-435b-87b2-2cf4615648eb\">\n",
       "    <div class=\"colab-df-container\">\n",
       "      <div>\n",
       "<style scoped>\n",
       "    .dataframe tbody tr th:only-of-type {\n",
       "        vertical-align: middle;\n",
       "    }\n",
       "\n",
       "    .dataframe tbody tr th {\n",
       "        vertical-align: top;\n",
       "    }\n",
       "\n",
       "    .dataframe thead th {\n",
       "        text-align: right;\n",
       "    }\n",
       "</style>\n",
       "<table border=\"1\" class=\"dataframe\">\n",
       "  <thead>\n",
       "    <tr style=\"text-align: right;\">\n",
       "      <th></th>\n",
       "      <th>1</th>\n",
       "      <th>2</th>\n",
       "      <th>3</th>\n",
       "      <th>4</th>\n",
       "      <th>5</th>\n",
       "    </tr>\n",
       "  </thead>\n",
       "  <tbody>\n",
       "    <tr>\n",
       "      <th>124918</th>\n",
       "      <td>1</td>\n",
       "      <td>0</td>\n",
       "      <td>0</td>\n",
       "      <td>0</td>\n",
       "      <td>0</td>\n",
       "    </tr>\n",
       "    <tr>\n",
       "      <th>147399</th>\n",
       "      <td>0</td>\n",
       "      <td>0</td>\n",
       "      <td>0</td>\n",
       "      <td>1</td>\n",
       "      <td>0</td>\n",
       "    </tr>\n",
       "    <tr>\n",
       "      <th>5435</th>\n",
       "      <td>0</td>\n",
       "      <td>0</td>\n",
       "      <td>0</td>\n",
       "      <td>0</td>\n",
       "      <td>1</td>\n",
       "    </tr>\n",
       "    <tr>\n",
       "      <th>497248</th>\n",
       "      <td>0</td>\n",
       "      <td>0</td>\n",
       "      <td>1</td>\n",
       "      <td>0</td>\n",
       "      <td>0</td>\n",
       "    </tr>\n",
       "    <tr>\n",
       "      <th>219223</th>\n",
       "      <td>0</td>\n",
       "      <td>0</td>\n",
       "      <td>0</td>\n",
       "      <td>1</td>\n",
       "      <td>0</td>\n",
       "    </tr>\n",
       "  </tbody>\n",
       "</table>\n",
       "</div>\n",
       "      <button class=\"colab-df-convert\" onclick=\"convertToInteractive('df-09392e48-80da-435b-87b2-2cf4615648eb')\"\n",
       "              title=\"Convert this dataframe to an interactive table.\"\n",
       "              style=\"display:none;\">\n",
       "        \n",
       "  <svg xmlns=\"http://www.w3.org/2000/svg\" height=\"24px\"viewBox=\"0 0 24 24\"\n",
       "       width=\"24px\">\n",
       "    <path d=\"M0 0h24v24H0V0z\" fill=\"none\"/>\n",
       "    <path d=\"M18.56 5.44l.94 2.06.94-2.06 2.06-.94-2.06-.94-.94-2.06-.94 2.06-2.06.94zm-11 1L8.5 8.5l.94-2.06 2.06-.94-2.06-.94L8.5 2.5l-.94 2.06-2.06.94zm10 10l.94 2.06.94-2.06 2.06-.94-2.06-.94-.94-2.06-.94 2.06-2.06.94z\"/><path d=\"M17.41 7.96l-1.37-1.37c-.4-.4-.92-.59-1.43-.59-.52 0-1.04.2-1.43.59L10.3 9.45l-7.72 7.72c-.78.78-.78 2.05 0 2.83L4 21.41c.39.39.9.59 1.41.59.51 0 1.02-.2 1.41-.59l7.78-7.78 2.81-2.81c.8-.78.8-2.07 0-2.86zM5.41 20L4 18.59l7.72-7.72 1.47 1.35L5.41 20z\"/>\n",
       "  </svg>\n",
       "      </button>\n",
       "      \n",
       "  <style>\n",
       "    .colab-df-container {\n",
       "      display:flex;\n",
       "      flex-wrap:wrap;\n",
       "      gap: 12px;\n",
       "    }\n",
       "\n",
       "    .colab-df-convert {\n",
       "      background-color: #E8F0FE;\n",
       "      border: none;\n",
       "      border-radius: 50%;\n",
       "      cursor: pointer;\n",
       "      display: none;\n",
       "      fill: #1967D2;\n",
       "      height: 32px;\n",
       "      padding: 0 0 0 0;\n",
       "      width: 32px;\n",
       "    }\n",
       "\n",
       "    .colab-df-convert:hover {\n",
       "      background-color: #E2EBFA;\n",
       "      box-shadow: 0px 1px 2px rgba(60, 64, 67, 0.3), 0px 1px 3px 1px rgba(60, 64, 67, 0.15);\n",
       "      fill: #174EA6;\n",
       "    }\n",
       "\n",
       "    [theme=dark] .colab-df-convert {\n",
       "      background-color: #3B4455;\n",
       "      fill: #D2E3FC;\n",
       "    }\n",
       "\n",
       "    [theme=dark] .colab-df-convert:hover {\n",
       "      background-color: #434B5C;\n",
       "      box-shadow: 0px 1px 3px 1px rgba(0, 0, 0, 0.15);\n",
       "      filter: drop-shadow(0px 1px 2px rgba(0, 0, 0, 0.3));\n",
       "      fill: #FFFFFF;\n",
       "    }\n",
       "  </style>\n",
       "\n",
       "      <script>\n",
       "        const buttonEl =\n",
       "          document.querySelector('#df-09392e48-80da-435b-87b2-2cf4615648eb button.colab-df-convert');\n",
       "        buttonEl.style.display =\n",
       "          google.colab.kernel.accessAllowed ? 'block' : 'none';\n",
       "\n",
       "        async function convertToInteractive(key) {\n",
       "          const element = document.querySelector('#df-09392e48-80da-435b-87b2-2cf4615648eb');\n",
       "          const dataTable =\n",
       "            await google.colab.kernel.invokeFunction('convertToInteractive',\n",
       "                                                     [key], {});\n",
       "          if (!dataTable) return;\n",
       "\n",
       "          const docLinkHtml = 'Like what you see? Visit the ' +\n",
       "            '<a target=\"_blank\" href=https://colab.research.google.com/notebooks/data_table.ipynb>data table notebook</a>'\n",
       "            + ' to learn more about interactive tables.';\n",
       "          element.innerHTML = '';\n",
       "          dataTable['output_type'] = 'display_data';\n",
       "          await google.colab.output.renderOutput(dataTable, element);\n",
       "          const docLink = document.createElement('div');\n",
       "          docLink.innerHTML = docLinkHtml;\n",
       "          element.appendChild(docLink);\n",
       "        }\n",
       "      </script>\n",
       "    </div>\n",
       "  </div>\n",
       "  "
      ],
      "text/plain": [
       "        1  2  3  4  5\n",
       "124918  1  0  0  0  0\n",
       "147399  0  0  0  1  0\n",
       "5435    0  0  0  0  1\n",
       "497248  0  0  1  0  0\n",
       "219223  0  0  0  1  0"
      ]
     },
     "execution_count": 22,
     "metadata": {},
     "output_type": "execute_result"
    }
   ],
   "source": [
    "dummies = pd.get_dummies(rating_df['Score'])\n",
    "dummies.head()"
   ]
  },
  {
   "cell_type": "code",
   "execution_count": 23,
   "metadata": {
    "colab": {
     "base_uri": "https://localhost:8080/",
     "height": 639
    },
    "id": "N_unTVM_pv2o",
    "outputId": "e552caf8-934b-427a-ec3c-99bea4806fd5"
   },
   "outputs": [
    {
     "data": {
      "text/plain": [
       "Text(0.5, 1.0, 'How helpful users find among user scores')"
      ]
     },
     "execution_count": 23,
     "metadata": {},
     "output_type": "execute_result"
    },
    {
     "data": {
      "image/png": "[encoded data removed]",
      "text/plain": [
       "<Figure size 1080x720 with 2 Axes>"
      ]
     },
     "metadata": {
      "needs_background": "light"
     },
     "output_type": "display_data"
    }
   ],
   "source": [
    "df_s = reviewsData.groupby(['Score', '% Upvote']).agg({'Id': 'count'})\n",
    "df_s = df_s.unstack()\n",
    "df_s.columns = df_s.columns.get_level_values(1)\n",
    "fig = plt.figure(figsize=(15,10))\n",
    "sns.heatmap(df_s[df_s.columns[::-1]].T, cmap = 'YlGnBu', linewidths=.5, annot = True, fmt = 'd', cbar_kws={'label': '# reviews'})\n",
    "plt.yticks(rotation=0)\n",
    "plt.title('How helpful users find among user scores')"
   ]
  },
  {
   "cell_type": "markdown",
   "metadata": {
    "id": "XAPUCmD-Fx80"
   },
   "source": [
    "Key message from above:\n",
    "1.   Reviews are skewed towards positive\n",
    "2.   More than half of the reviews are with zero votes\n",
    "3.   Many people agree with score 5 reviews\n",
    "\n",
    "\n",
    "Then we get rid of score 3 reviews (neutral), and separate the remaining reviews into binary class (1 = positive, 0 = negative):"
   ]
  },
  {
   "cell_type": "markdown",
   "metadata": {
    "id": "f2XpYRh4tG4T"
   },
   "source": [
    "**Text** **Preprocessing/Cleaning**"
   ]
  },
  {
   "cell_type": "code",
   "execution_count": 24,
   "metadata": {
    "colab": {
     "base_uri": "https://localhost:8080/"
    },
    "id": "upLGYbxH1BgC",
    "outputId": "efe4f960-1c1b-4942-e46c-87ad37c4e24f"
   },
   "outputs": [
    {
     "name": "stderr",
     "output_type": "stream",
     "text": [
      "[nltk_data] Downloading package punkt to /root/nltk_data...\n",
      "[nltk_data]   Unzipping tokenizers/punkt.zip.\n",
      "[nltk_data] Downloading package stopwords to /root/nltk_data...\n",
      "[nltk_data]   Unzipping corpora/stopwords.zip.\n",
      "[nltk_data] Downloading package wordnet to /root/nltk_data...\n",
      "[nltk_data] Downloading package omw-1.4 to /root/nltk_data...\n"
     ]
    }
   ],
   "source": [
    "import re\n",
    "\n",
    "import nltk\n",
    "nltk.download('punkt')\n",
    "\n",
    "from nltk.tokenize import word_tokenize\n",
    "\n",
    "nltk.download('stopwords')\n",
    "from nltk.corpus import stopwords\n",
    "stop_words = set(stopwords.words(\"english\"))\n",
    "\n",
    "#stop_words.extend(['crypto','even','early'])\n",
    "\n",
    "import nltk\n",
    "nltk.download('wordnet')\n",
    "nltk.download('omw-1.4')\n",
    "from nltk.stem import WordNetLemmatizer\n",
    "\n",
    "lemmatizer = WordNetLemmatizer()"
   ]
  },
  {
   "cell_type": "code",
   "execution_count": 25,
   "metadata": {
    "colab": {
     "base_uri": "https://localhost:8080/"
    },
    "id": "gTtHyLtf1WlP",
    "outputId": "d5689f5d-cbb1-4f3b-e0c0-c2bbd52efdbb"
   },
   "outputs": [
    {
     "name": "stdout",
     "output_type": "stream",
     "text": [
      "Looking in indexes: https://pypi.org/simple, https://us-python.pkg.dev/colab-wheels/public/simple/\n",
      "Collecting demoji\n",
      "  Downloading demoji-1.1.0-py3-none-any.whl (42 kB)\n",
      "\u001b[K     |████████████████████████████████| 42 kB 1.0 MB/s \n",
      "\u001b[?25hInstalling collected packages: demoji\n",
      "Successfully installed demoji-1.1.0\n"
     ]
    }
   ],
   "source": [
    "!pip install demoji"
   ]
  },
  {
   "cell_type": "code",
   "execution_count": 26,
   "metadata": {
    "id": "y0zuX4Ydtu77"
   },
   "outputs": [],
   "source": [
    "import demoji\n",
    "def handle_emoji(string):\n",
    "    #x = string.to_string(header=False, index=False)\n",
    "    emojis = demoji.findall(string)\n",
    "    #print(emojis)\n",
    "    for emoji in emojis:\n",
    "        string = string.replace(emoji, \" \" + emojis[emoji].split(\":\")[0])\n",
    "\n",
    "    return string"
   ]
  },
  {
   "cell_type": "code",
   "execution_count": 27,
   "metadata": {
    "id": "Edl74pA2cZIr"
   },
   "outputs": [],
   "source": [
    "def text_cleaner(review):\n",
    "  # removing the not required texts\n",
    "  cleaned_review = re.sub(re.compile('<.*?>'), '', review) #removing HTML tags\n",
    "  cleaned_review = re.sub('[^A-Za-z]+', ' ', cleaned_review) #taking only words\n",
    "  cleaned_review = handle_emoji(cleaned_review)\n",
    "  cleaned_review = re.sub(r\"http\\S+\", \"\", cleaned_review) \n",
    "  cleaned_review = cleaned_review.lower()\n",
    "\n",
    "  tokens = nltk.word_tokenize(cleaned_review)\n",
    "\n",
    "  filtered_review = [word for word in tokens if word not in stop_words] # removing stop words\n",
    "\n",
    "  lemm_review = [lemmatizer.lemmatize(word) for word in filtered_review]\n",
    "  review = \" \".join(lemm_review)\n",
    "  return(review)"
   ]
  },
  {
   "cell_type": "code",
   "execution_count": 28,
   "metadata": {
    "colab": {
     "base_uri": "https://localhost:8080/",
     "height": 206
    },
    "id": "459Q4NJYdWHX",
    "outputId": "4999677d-4cdf-4061-b719-7d60d3acaf40"
   },
   "outputs": [
    {
     "data": {
      "text/html": [
       "\n",
       "  <div id=\"df-505be612-d466-4da6-ae1c-a80d42f67095\">\n",
       "    <div class=\"colab-df-container\">\n",
       "      <div>\n",
       "<style scoped>\n",
       "    .dataframe tbody tr th:only-of-type {\n",
       "        vertical-align: middle;\n",
       "    }\n",
       "\n",
       "    .dataframe tbody tr th {\n",
       "        vertical-align: top;\n",
       "    }\n",
       "\n",
       "    .dataframe thead th {\n",
       "        text-align: right;\n",
       "    }\n",
       "</style>\n",
       "<table border=\"1\" class=\"dataframe\">\n",
       "  <thead>\n",
       "    <tr style=\"text-align: right;\">\n",
       "      <th></th>\n",
       "      <th>Score</th>\n",
       "      <th>Text</th>\n",
       "      <th>cleanText</th>\n",
       "    </tr>\n",
       "  </thead>\n",
       "  <tbody>\n",
       "    <tr>\n",
       "      <th>124918</th>\n",
       "      <td>1</td>\n",
       "      <td>I purchased this thinking \"what a great deal!\"...</td>\n",
       "      <td>purchased thinking great deal know really bad ...</td>\n",
       "    </tr>\n",
       "    <tr>\n",
       "      <th>147399</th>\n",
       "      <td>4</td>\n",
       "      <td>These thinkThin \"100 Chocolate Toffee Nut Bite...</td>\n",
       "      <td>thinkthin chocolate toffee nut bite good tasti...</td>\n",
       "    </tr>\n",
       "    <tr>\n",
       "      <th>5435</th>\n",
       "      <td>5</td>\n",
       "      <td>I purchased some of this special habanero sauc...</td>\n",
       "      <td>purchased special habanero sauce past year sup...</td>\n",
       "    </tr>\n",
       "    <tr>\n",
       "      <th>497248</th>\n",
       "      <td>3</td>\n",
       "      <td>My daughter loves this stuff.  I thought it ta...</td>\n",
       "      <td>daughter love stuff thought tasted pretty good...</td>\n",
       "    </tr>\n",
       "    <tr>\n",
       "      <th>219223</th>\n",
       "      <td>4</td>\n",
       "      <td>I have tried virtually every variety of the Bo...</td>\n",
       "      <td>tried virtually every variety body armor brand...</td>\n",
       "    </tr>\n",
       "  </tbody>\n",
       "</table>\n",
       "</div>\n",
       "      <button class=\"colab-df-convert\" onclick=\"convertToInteractive('df-505be612-d466-4da6-ae1c-a80d42f67095')\"\n",
       "              title=\"Convert this dataframe to an interactive table.\"\n",
       "              style=\"display:none;\">\n",
       "        \n",
       "  <svg xmlns=\"http://www.w3.org/2000/svg\" height=\"24px\"viewBox=\"0 0 24 24\"\n",
       "       width=\"24px\">\n",
       "    <path d=\"M0 0h24v24H0V0z\" fill=\"none\"/>\n",
       "    <path d=\"M18.56 5.44l.94 2.06.94-2.06 2.06-.94-2.06-.94-.94-2.06-.94 2.06-2.06.94zm-11 1L8.5 8.5l.94-2.06 2.06-.94-2.06-.94L8.5 2.5l-.94 2.06-2.06.94zm10 10l.94 2.06.94-2.06 2.06-.94-2.06-.94-.94-2.06-.94 2.06-2.06.94z\"/><path d=\"M17.41 7.96l-1.37-1.37c-.4-.4-.92-.59-1.43-.59-.52 0-1.04.2-1.43.59L10.3 9.45l-7.72 7.72c-.78.78-.78 2.05 0 2.83L4 21.41c.39.39.9.59 1.41.59.51 0 1.02-.2 1.41-.59l7.78-7.78 2.81-2.81c.8-.78.8-2.07 0-2.86zM5.41 20L4 18.59l7.72-7.72 1.47 1.35L5.41 20z\"/>\n",
       "  </svg>\n",
       "      </button>\n",
       "      \n",
       "  <style>\n",
       "    .colab-df-container {\n",
       "      display:flex;\n",
       "      flex-wrap:wrap;\n",
       "      gap: 12px;\n",
       "    }\n",
       "\n",
       "    .colab-df-convert {\n",
       "      background-color: #E8F0FE;\n",
       "      border: none;\n",
       "      border-radius: 50%;\n",
       "      cursor: pointer;\n",
       "      display: none;\n",
       "      fill: #1967D2;\n",
       "      height: 32px;\n",
       "      padding: 0 0 0 0;\n",
       "      width: 32px;\n",
       "    }\n",
       "\n",
       "    .colab-df-convert:hover {\n",
       "      background-color: #E2EBFA;\n",
       "      box-shadow: 0px 1px 2px rgba(60, 64, 67, 0.3), 0px 1px 3px 1px rgba(60, 64, 67, 0.15);\n",
       "      fill: #174EA6;\n",
       "    }\n",
       "\n",
       "    [theme=dark] .colab-df-convert {\n",
       "      background-color: #3B4455;\n",
       "      fill: #D2E3FC;\n",
       "    }\n",
       "\n",
       "    [theme=dark] .colab-df-convert:hover {\n",
       "      background-color: #434B5C;\n",
       "      box-shadow: 0px 1px 3px 1px rgba(0, 0, 0, 0.15);\n",
       "      filter: drop-shadow(0px 1px 2px rgba(0, 0, 0, 0.3));\n",
       "      fill: #FFFFFF;\n",
       "    }\n",
       "  </style>\n",
       "\n",
       "      <script>\n",
       "        const buttonEl =\n",
       "          document.querySelector('#df-505be612-d466-4da6-ae1c-a80d42f67095 button.colab-df-convert');\n",
       "        buttonEl.style.display =\n",
       "          google.colab.kernel.accessAllowed ? 'block' : 'none';\n",
       "\n",
       "        async function convertToInteractive(key) {\n",
       "          const element = document.querySelector('#df-505be612-d466-4da6-ae1c-a80d42f67095');\n",
       "          const dataTable =\n",
       "            await google.colab.kernel.invokeFunction('convertToInteractive',\n",
       "                                                     [key], {});\n",
       "          if (!dataTable) return;\n",
       "\n",
       "          const docLinkHtml = 'Like what you see? Visit the ' +\n",
       "            '<a target=\"_blank\" href=https://colab.research.google.com/notebooks/data_table.ipynb>data table notebook</a>'\n",
       "            + ' to learn more about interactive tables.';\n",
       "          element.innerHTML = '';\n",
       "          dataTable['output_type'] = 'display_data';\n",
       "          await google.colab.output.renderOutput(dataTable, element);\n",
       "          const docLink = document.createElement('div');\n",
       "          docLink.innerHTML = docLinkHtml;\n",
       "          element.appendChild(docLink);\n",
       "        }\n",
       "      </script>\n",
       "    </div>\n",
       "  </div>\n",
       "  "
      ],
      "text/plain": [
       "        Score                                               Text  \\\n",
       "124918      1  I purchased this thinking \"what a great deal!\"...   \n",
       "147399      4  These thinkThin \"100 Chocolate Toffee Nut Bite...   \n",
       "5435        5  I purchased some of this special habanero sauc...   \n",
       "497248      3  My daughter loves this stuff.  I thought it ta...   \n",
       "219223      4  I have tried virtually every variety of the Bo...   \n",
       "\n",
       "                                                cleanText  \n",
       "124918  purchased thinking great deal know really bad ...  \n",
       "147399  thinkthin chocolate toffee nut bite good tasti...  \n",
       "5435    purchased special habanero sauce past year sup...  \n",
       "497248  daughter love stuff thought tasted pretty good...  \n",
       "219223  tried virtually every variety body armor brand...  "
      ]
     },
     "execution_count": 28,
     "metadata": {},
     "output_type": "execute_result"
    }
   ],
   "source": [
    "cleanText=[]\n",
    "\n",
    "for t in rating_df['Text']:\n",
    " cleanText.append(text_cleaner(t))\n",
    "\n",
    "rating_df[\"cleanText\"] = cleanText\n",
    "rating_df.head()"
   ]
  },
  {
   "cell_type": "markdown",
   "metadata": {
    "id": "UlXUPAYQzOHF"
   },
   "source": [
    "**VADER Model**"
   ]
  },
  {
   "cell_type": "code",
   "execution_count": 37,
   "metadata": {
    "colab": {
     "base_uri": "https://localhost:8080/"
    },
    "id": "fVvwzwIqqkSQ",
    "outputId": "151bd57f-42e9-428d-a60f-ce22586d3c17"
   },
   "outputs": [
    {
     "name": "stderr",
     "output_type": "stream",
     "text": [
      "[nltk_data] Downloading package vader_lexicon to /root/nltk_data...\n"
     ]
    }
   ],
   "source": [
    "from nltk.sentiment import SentimentIntensityAnalyzer\n",
    "from tqdm.notebook import tqdm\n",
    "import nltk\n",
    "nltk.download('vader_lexicon')\n",
    "sia = SentimentIntensityAnalyzer()"
   ]
  },
  {
   "cell_type": "markdown",
   "metadata": {
    "id": "qnUzM2aXzqz4"
   },
   "source": [
    "Checking VADER model"
   ]
  },
  {
   "cell_type": "code",
   "execution_count": 38,
   "metadata": {
    "colab": {
     "base_uri": "https://localhost:8080/"
    },
    "id": "4soBjq_kzmdF",
    "outputId": "29f119d5-5a8e-46c6-9d52-3701386160d0"
   },
   "outputs": [
    {
     "data": {
      "text/plain": [
       "{'neg': 0.0, 'neu': 0.318, 'pos': 0.682, 'compound': 0.6468}"
      ]
     },
     "execution_count": 38,
     "metadata": {},
     "output_type": "execute_result"
    }
   ],
   "source": [
    "sia.polarity_scores('I am so happy!')"
   ]
  },
  {
   "cell_type": "code",
   "execution_count": 39,
   "metadata": {
    "colab": {
     "base_uri": "https://localhost:8080/"
    },
    "id": "ouJ99vsSzqKd",
    "outputId": "f9139970-e3e5-4842-91d3-850aaf96628c"
   },
   "outputs": [
    {
     "data": {
      "text/plain": [
       "{'neg': 0.451, 'neu': 0.549, 'pos': 0.0, 'compound': -0.6249}"
      ]
     },
     "execution_count": 39,
     "metadata": {},
     "output_type": "execute_result"
    }
   ],
   "source": [
    "sia.polarity_scores('This is the worst thing ever.')"
   ]
  },
  {
   "cell_type": "code",
   "execution_count": 40,
   "metadata": {
    "id": "dSIF3eIP0mcF"
   },
   "outputs": [],
   "source": [
    "analyzer = SentimentIntensityAnalyzer()\n",
    "rating_df['compound'] = [analyzer.polarity_scores(x)['compound'] for x in rating_df['cleanText']]\n",
    "rating_df['neg'] = [analyzer.polarity_scores(x)['neg'] for x in rating_df['cleanText']]\n",
    "rating_df['neu'] = [analyzer.polarity_scores(x)['neu'] for x in rating_df['cleanText']]\n",
    "rating_df['pos'] = [analyzer.polarity_scores(x)['pos'] for x in rating_df['cleanText']]"
   ]
  },
  {
   "cell_type": "code",
   "execution_count": 41,
   "metadata": {
    "colab": {
     "base_uri": "https://localhost:8080/",
     "height": 206
    },
    "id": "bVlV0bs-2M79",
    "outputId": "a914487a-ddfc-4a05-debc-1bf43eec1d7a"
   },
   "outputs": [
    {
     "data": {
      "text/html": [
       "\n",
       "  <div id=\"df-c8578e4d-59bb-4ab6-acb6-ee787259f16c\">\n",
       "    <div class=\"colab-df-container\">\n",
       "      <div>\n",
       "<style scoped>\n",
       "    .dataframe tbody tr th:only-of-type {\n",
       "        vertical-align: middle;\n",
       "    }\n",
       "\n",
       "    .dataframe tbody tr th {\n",
       "        vertical-align: top;\n",
       "    }\n",
       "\n",
       "    .dataframe thead th {\n",
       "        text-align: right;\n",
       "    }\n",
       "</style>\n",
       "<table border=\"1\" class=\"dataframe\">\n",
       "  <thead>\n",
       "    <tr style=\"text-align: right;\">\n",
       "      <th></th>\n",
       "      <th>Score</th>\n",
       "      <th>Text</th>\n",
       "      <th>cleanText</th>\n",
       "      <th>compound</th>\n",
       "      <th>neg</th>\n",
       "      <th>neu</th>\n",
       "      <th>pos</th>\n",
       "    </tr>\n",
       "  </thead>\n",
       "  <tbody>\n",
       "    <tr>\n",
       "      <th>124918</th>\n",
       "      <td>1</td>\n",
       "      <td>I purchased this thinking \"what a great deal!\"...</td>\n",
       "      <td>purchased thinking great deal know really bad ...</td>\n",
       "      <td>-0.7275</td>\n",
       "      <td>0.342</td>\n",
       "      <td>0.388</td>\n",
       "      <td>0.270</td>\n",
       "    </tr>\n",
       "    <tr>\n",
       "      <th>147399</th>\n",
       "      <td>4</td>\n",
       "      <td>These thinkThin \"100 Chocolate Toffee Nut Bite...</td>\n",
       "      <td>thinkthin chocolate toffee nut bite good tasti...</td>\n",
       "      <td>0.9118</td>\n",
       "      <td>0.046</td>\n",
       "      <td>0.708</td>\n",
       "      <td>0.245</td>\n",
       "    </tr>\n",
       "    <tr>\n",
       "      <th>5435</th>\n",
       "      <td>5</td>\n",
       "      <td>I purchased some of this special habanero sauc...</td>\n",
       "      <td>purchased special habanero sauce past year sup...</td>\n",
       "      <td>0.9938</td>\n",
       "      <td>0.041</td>\n",
       "      <td>0.460</td>\n",
       "      <td>0.499</td>\n",
       "    </tr>\n",
       "    <tr>\n",
       "      <th>497248</th>\n",
       "      <td>3</td>\n",
       "      <td>My daughter loves this stuff.  I thought it ta...</td>\n",
       "      <td>daughter love stuff thought tasted pretty good...</td>\n",
       "      <td>0.9927</td>\n",
       "      <td>0.000</td>\n",
       "      <td>0.613</td>\n",
       "      <td>0.387</td>\n",
       "    </tr>\n",
       "    <tr>\n",
       "      <th>219223</th>\n",
       "      <td>4</td>\n",
       "      <td>I have tried virtually every variety of the Bo...</td>\n",
       "      <td>tried virtually every variety body armor brand...</td>\n",
       "      <td>0.9865</td>\n",
       "      <td>0.030</td>\n",
       "      <td>0.650</td>\n",
       "      <td>0.320</td>\n",
       "    </tr>\n",
       "  </tbody>\n",
       "</table>\n",
       "</div>\n",
       "      <button class=\"colab-df-convert\" onclick=\"convertToInteractive('df-c8578e4d-59bb-4ab6-acb6-ee787259f16c')\"\n",
       "              title=\"Convert this dataframe to an interactive table.\"\n",
       "              style=\"display:none;\">\n",
       "        \n",
       "  <svg xmlns=\"http://www.w3.org/2000/svg\" height=\"24px\"viewBox=\"0 0 24 24\"\n",
       "       width=\"24px\">\n",
       "    <path d=\"M0 0h24v24H0V0z\" fill=\"none\"/>\n",
       "    <path d=\"M18.56 5.44l.94 2.06.94-2.06 2.06-.94-2.06-.94-.94-2.06-.94 2.06-2.06.94zm-11 1L8.5 8.5l.94-2.06 2.06-.94-2.06-.94L8.5 2.5l-.94 2.06-2.06.94zm10 10l.94 2.06.94-2.06 2.06-.94-2.06-.94-.94-2.06-.94 2.06-2.06.94z\"/><path d=\"M17.41 7.96l-1.37-1.37c-.4-.4-.92-.59-1.43-.59-.52 0-1.04.2-1.43.59L10.3 9.45l-7.72 7.72c-.78.78-.78 2.05 0 2.83L4 21.41c.39.39.9.59 1.41.59.51 0 1.02-.2 1.41-.59l7.78-7.78 2.81-2.81c.8-.78.8-2.07 0-2.86zM5.41 20L4 18.59l7.72-7.72 1.47 1.35L5.41 20z\"/>\n",
       "  </svg>\n",
       "      </button>\n",
       "      \n",
       "  <style>\n",
       "    .colab-df-container {\n",
       "      display:flex;\n",
       "      flex-wrap:wrap;\n",
       "      gap: 12px;\n",
       "    }\n",
       "\n",
       "    .colab-df-convert {\n",
       "      background-color: #E8F0FE;\n",
       "      border: none;\n",
       "      border-radius: 50%;\n",
       "      cursor: pointer;\n",
       "      display: none;\n",
       "      fill: #1967D2;\n",
       "      height: 32px;\n",
       "      padding: 0 0 0 0;\n",
       "      width: 32px;\n",
       "    }\n",
       "\n",
       "    .colab-df-convert:hover {\n",
       "      background-color: #E2EBFA;\n",
       "      box-shadow: 0px 1px 2px rgba(60, 64, 67, 0.3), 0px 1px 3px 1px rgba(60, 64, 67, 0.15);\n",
       "      fill: #174EA6;\n",
       "    }\n",
       "\n",
       "    [theme=dark] .colab-df-convert {\n",
       "      background-color: #3B4455;\n",
       "      fill: #D2E3FC;\n",
       "    }\n",
       "\n",
       "    [theme=dark] .colab-df-convert:hover {\n",
       "      background-color: #434B5C;\n",
       "      box-shadow: 0px 1px 3px 1px rgba(0, 0, 0, 0.15);\n",
       "      filter: drop-shadow(0px 1px 2px rgba(0, 0, 0, 0.3));\n",
       "      fill: #FFFFFF;\n",
       "    }\n",
       "  </style>\n",
       "\n",
       "      <script>\n",
       "        const buttonEl =\n",
       "          document.querySelector('#df-c8578e4d-59bb-4ab6-acb6-ee787259f16c button.colab-df-convert');\n",
       "        buttonEl.style.display =\n",
       "          google.colab.kernel.accessAllowed ? 'block' : 'none';\n",
       "\n",
       "        async function convertToInteractive(key) {\n",
       "          const element = document.querySelector('#df-c8578e4d-59bb-4ab6-acb6-ee787259f16c');\n",
       "          const dataTable =\n",
       "            await google.colab.kernel.invokeFunction('convertToInteractive',\n",
       "                                                     [key], {});\n",
       "          if (!dataTable) return;\n",
       "\n",
       "          const docLinkHtml = 'Like what you see? Visit the ' +\n",
       "            '<a target=\"_blank\" href=https://colab.research.google.com/notebooks/data_table.ipynb>data table notebook</a>'\n",
       "            + ' to learn more about interactive tables.';\n",
       "          element.innerHTML = '';\n",
       "          dataTable['output_type'] = 'display_data';\n",
       "          await google.colab.output.renderOutput(dataTable, element);\n",
       "          const docLink = document.createElement('div');\n",
       "          docLink.innerHTML = docLinkHtml;\n",
       "          element.appendChild(docLink);\n",
       "        }\n",
       "      </script>\n",
       "    </div>\n",
       "  </div>\n",
       "  "
      ],
      "text/plain": [
       "        Score                                               Text  \\\n",
       "124918      1  I purchased this thinking \"what a great deal!\"...   \n",
       "147399      4  These thinkThin \"100 Chocolate Toffee Nut Bite...   \n",
       "5435        5  I purchased some of this special habanero sauc...   \n",
       "497248      3  My daughter loves this stuff.  I thought it ta...   \n",
       "219223      4  I have tried virtually every variety of the Bo...   \n",
       "\n",
       "                                                cleanText  compound    neg  \\\n",
       "124918  purchased thinking great deal know really bad ...   -0.7275  0.342   \n",
       "147399  thinkthin chocolate toffee nut bite good tasti...    0.9118  0.046   \n",
       "5435    purchased special habanero sauce past year sup...    0.9938  0.041   \n",
       "497248  daughter love stuff thought tasted pretty good...    0.9927  0.000   \n",
       "219223  tried virtually every variety body armor brand...    0.9865  0.030   \n",
       "\n",
       "          neu    pos  \n",
       "124918  0.388  0.270  \n",
       "147399  0.708  0.245  \n",
       "5435    0.460  0.499  \n",
       "497248  0.613  0.387  \n",
       "219223  0.650  0.320  "
      ]
     },
     "execution_count": 41,
     "metadata": {},
     "output_type": "execute_result"
    }
   ],
   "source": [
    "rating_df.head()"
   ]
  },
  {
   "cell_type": "code",
   "execution_count": 42,
   "metadata": {
    "colab": {
     "base_uri": "https://localhost:8080/",
     "height": 295
    },
    "id": "6bHmYIu1z1Zw",
    "outputId": "8c74fcf0-3964-4fca-cc16-cdd1ba30c88c"
   },
   "outputs": [
    {
     "data": {
      "image/png": "[encoded data removed]",
      "text/plain": [
       "<Figure size 432x288 with 1 Axes>"
      ]
     },
     "metadata": {
      "needs_background": "light"
     },
     "output_type": "display_data"
    }
   ],
   "source": [
    "ax = sns.barplot(data=rating_df, x='Score', y='compound')\n",
    "ax.set_title('Compund Score by Amazon Star Review')\n",
    "plt.show()"
   ]
  },
  {
   "cell_type": "code",
   "execution_count": 43,
   "metadata": {
    "colab": {
     "base_uri": "https://localhost:8080/",
     "height": 225
    },
    "id": "eMcNY7Vd2uLz",
    "outputId": "021c1abc-955b-4cc5-8ee1-04ef66bb3348"
   },
   "outputs": [
    {
     "data": {
      "image/png": "[encoded data removed]",
      "text/plain": [
       "<Figure size 864x216 with 3 Axes>"
      ]
     },
     "metadata": {
      "needs_background": "light"
     },
     "output_type": "display_data"
    }
   ],
   "source": [
    "fig, axs = plt.subplots(1, 3, figsize=(12, 3))\n",
    "sns.barplot(data=rating_df, x='Score', y='pos', ax=axs[0])\n",
    "sns.barplot(data=rating_df, x='Score', y='neu', ax=axs[1])\n",
    "sns.barplot(data=rating_df, x='Score', y='neg', ax=axs[2])\n",
    "axs[0].set_title('Positive')\n",
    "axs[1].set_title('Neutral')\n",
    "axs[2].set_title('Negative')\n",
    "plt.tight_layout()\n",
    "plt.show()"
   ]
  },
  {
   "cell_type": "markdown",
   "metadata": {
    "id": "KIcD2o4Ej3aB"
   },
   "source": [
    "***Business Insights***\n",
    "\n",
    "The highest positive sentiments are coming from score 5 and there are positive sentiments for score as less as 1 and 2 because these reviews might contain a few positive words or may be sarcastic reviews because many people consider themselves as ***Chandler Bing***.\n",
    "\n",
    "And vice-versa for negative sentiments. Our insights here is that people might be saying a few negative words for example, \"the product is good but the service is bad\". So, here a small amount of negative sentiment is picked up because while the customer is satisfied with the product and gave score= 5 but, they are not satisfied with the services. "
   ]
  },
  {
   "cell_type": "markdown",
   "metadata": {
    "id": "Sm-_WJUO3M20"
   },
   "source": [
    "Transformer Pipeline"
   ]
  },
  {
   "cell_type": "code",
   "execution_count": 44,
   "metadata": {
    "colab": {
     "base_uri": "https://localhost:8080/"
    },
    "id": "UvhLcZQD3TqD",
    "outputId": "188cadef-873d-4490-d4b4-b50406a4a77f"
   },
   "outputs": [
    {
     "name": "stdout",
     "output_type": "stream",
     "text": [
      "Looking in indexes: https://pypi.org/simple, https://us-python.pkg.dev/colab-wheels/public/simple/\n",
      "Collecting transformers\n",
      "  Downloading transformers-4.22.1-py3-none-any.whl (4.9 MB)\n",
      "\u001b[K     |████████████████████████████████| 4.9 MB 5.4 MB/s \n",
      "\u001b[?25hRequirement already satisfied: numpy>=1.17 in /usr/local/lib/python3.7/dist-packages (from transformers) (1.21.6)\n",
      "Requirement already satisfied: tqdm>=4.27 in /usr/local/lib/python3.7/dist-packages (from transformers) (4.64.1)\n",
      "Requirement already satisfied: filelock in /usr/local/lib/python3.7/dist-packages (from transformers) (3.8.0)\n",
      "Requirement already satisfied: regex!=2019.12.17 in /usr/local/lib/python3.7/dist-packages (from transformers) (2022.6.2)\n",
      "Requirement already satisfied: importlib-metadata in /usr/local/lib/python3.7/dist-packages (from transformers) (4.12.0)\n",
      "Collecting tokenizers!=0.11.3,<0.13,>=0.11.1\n",
      "  Downloading tokenizers-0.12.1-cp37-cp37m-manylinux_2_12_x86_64.manylinux2010_x86_64.whl (6.6 MB)\n",
      "\u001b[K     |████████████████████████████████| 6.6 MB 33.1 MB/s \n",
      "\u001b[?25hRequirement already satisfied: requests in /usr/local/lib/python3.7/dist-packages (from transformers) (2.23.0)\n",
      "Requirement already satisfied: packaging>=20.0 in /usr/local/lib/python3.7/dist-packages (from transformers) (21.3)\n",
      "Collecting huggingface-hub<1.0,>=0.9.0\n",
      "  Downloading huggingface_hub-0.9.1-py3-none-any.whl (120 kB)\n",
      "\u001b[K     |████████████████████████████████| 120 kB 47.8 MB/s \n",
      "\u001b[?25hRequirement already satisfied: pyyaml>=5.1 in /usr/local/lib/python3.7/dist-packages (from transformers) (6.0)\n",
      "Requirement already satisfied: typing-extensions>=3.7.4.3 in /usr/local/lib/python3.7/dist-packages (from huggingface-hub<1.0,>=0.9.0->transformers) (4.1.1)\n",
      "Requirement already satisfied: pyparsing!=3.0.5,>=2.0.2 in /usr/local/lib/python3.7/dist-packages (from packaging>=20.0->transformers) (3.0.9)\n",
      "Requirement already satisfied: zipp>=0.5 in /usr/local/lib/python3.7/dist-packages (from importlib-metadata->transformers) (3.8.1)\n",
      "Requirement already satisfied: certifi>=2017.4.17 in /usr/local/lib/python3.7/dist-packages (from requests->transformers) (2022.6.15)\n",
      "Requirement already satisfied: chardet<4,>=3.0.2 in /usr/local/lib/python3.7/dist-packages (from requests->transformers) (3.0.4)\n",
      "Requirement already satisfied: urllib3!=1.25.0,!=1.25.1,<1.26,>=1.21.1 in /usr/local/lib/python3.7/dist-packages (from requests->transformers) (1.24.3)\n",
      "Requirement already satisfied: idna<3,>=2.5 in /usr/local/lib/python3.7/dist-packages (from requests->transformers) (2.10)\n",
      "Installing collected packages: tokenizers, huggingface-hub, transformers\n",
      "Successfully installed huggingface-hub-0.9.1 tokenizers-0.12.1 transformers-4.22.1\n"
     ]
    }
   ],
   "source": [
    "pip install transformers"
   ]
  },
  {
   "cell_type": "code",
   "execution_count": 45,
   "metadata": {
    "colab": {
     "base_uri": "https://localhost:8080/",
     "height": 270,
     "referenced_widgets": [
      "ea1bfd3206ca431a89ebf3c0098fd970",
      "b625c8130ace4535a1f80f522a14d47f",
      "5e9a07b0aef7450c9d9fbbafb76c272a",
      "cb09d1c7a24e4312846c2f416900e25a",
      "0ac20837d4134da1a2a3cc2f60ae65da",
      "a716d74333be4c9993888c9d70ff0e8d",
      "4bd70d167b894f15b6de53011e2a27de",
      "cee491595b81447ebcc26a5cf117c39a",
      "4291626e61964cbe9f2c0b9c4c43275f",
      "d78a383a9f4e47bab16982fed6be6e73",
      "6065504b62324d069a9519bd390b6dcd",
      "04a21c4899b54a3da62cb04a377988fb",
      "c364b4c53fbc4abfa0a9e5346c93d8ca",
      "d060f68a092744abb5400cb51e9bde60",
      "e853364885084cd28092a5d673bb4e4c",
      "90b9452ca831466b95a1a47b3807919d",
      "9cc5d9082df8426fb747b60b634902d9",
      "924ee0d79bb84fa18d99ed7159058292",
      "8cf3f8cbf5454245a5ae8f892b23ba49",
      "c74de56032ea4181b443642e2f91ba16",
      "105d8c9e4f3c435b8d460e66c2415392",
      "fe5ed21536154cd2ab3b4ec6a3f0d2a6",
      "dd8fa013bb1c4126b6fd00374559e724",
      "65f51cbfb9a24204b8a26cc2c0e6f41e",
      "1bd9a5f85245479bb01d1efc28705c33",
      "64e15b674d294136a6c514c3d11fc6aa",
      "8fd41a5bbb9a48dda69a1b28e3f3f44c",
      "c38529505dec4d868cf556481885a9fd",
      "819f861bf7364c2a85f56287e986597b",
      "157cd1f150a343d2a6a8f2a67abc8cde",
      "b817d7cd1d4c4303810b360a017a4997",
      "246de737617b4cf99366ce34563bb039",
      "a73f389d9edd48ceb24a0d4b5d8e6138",
      "6287cfe0e52a40f6a646d18ba527616d",
      "d5e8e5ec4ab74518961c1988b0264270",
      "f6079cb8a63145118d8ed130587a004c",
      "2379405948e64aa19a7846b3c27d1dc2",
      "222902ffcd814e7d8c2d43e8ebd01489",
      "beea2415bd7f4b3e9592e190b76a5a9d",
      "8e065b6fe90f4c0d9930f78d199d1969",
      "edb367ea52044487862f0a4b29450665",
      "f4f510f8a3434719816e19c0a9f2a7e7",
      "592e513612704cfe8935bfe380a9aeff",
      "9235d98a749d48e18bfe56a88bf94f6b",
      "4f7376296a5f4b92860a79e233d2dffd",
      "e0c1e3d44cf8462ea64915a423dc6695",
      "68b00cbf5e844b128513b5d2492c236b",
      "0eb8e5edeb82460782d31da2461dc658",
      "08a016e825394afaba8bd2ba6e1a032c",
      "d4c5c5194c344a308f0d0d8d90f520de",
      "446eb6b3e0244ada935e669bf106dfbf",
      "95f7fd99d78a4a8dad46cba0876f8b58",
      "1bf2b3d59daf42abb45d07e1c2e62878",
      "63ab57ba8a924754834ea63300901c8e",
      "397e32c2cdb74e17b80fb2f005e8305c"
     ]
    },
    "id": "7SZfFZNx3Dz2",
    "outputId": "ef034d84-2a8e-49e6-93ab-e4637dd8533f"
   },
   "outputs": [
    {
     "name": "stderr",
     "output_type": "stream",
     "text": [
      "The cache for model files in Transformers v4.22.0 has been updated. Migrating your old cache. This is a one-time only operation. You can interrupt this and resume the migration later on by calling `transformers.utils.move_cache()`.\n"
     ]
    },
    {
     "name": "stdout",
     "output_type": "stream",
     "text": [
      "Moving 0 files to the new cache system\n"
     ]
    },
    {
     "data": {
      "application/vnd.jupyter.widget-view+json": {
       "model_id": "ea1bfd3206ca431a89ebf3c0098fd970",
       "version_major": 2,
       "version_minor": 0
      },
      "text/plain": [
       "0it [00:00, ?it/s]"
      ]
     },
     "metadata": {},
     "output_type": "display_data"
    },
    {
     "name": "stderr",
     "output_type": "stream",
     "text": [
      "No model was supplied, defaulted to distilbert-base-uncased-finetuned-sst-2-english and revision af0f99b (https://huggingface.co/distilbert-base-uncased-finetuned-sst-2-english).\n",
      "Using a pipeline without specifying a model name and revision in production is not recommended.\n"
     ]
    },
    {
     "data": {
      "application/vnd.jupyter.widget-view+json": {
       "model_id": "04a21c4899b54a3da62cb04a377988fb",
       "version_major": 2,
       "version_minor": 0
      },
      "text/plain": [
       "Downloading:   0%|          | 0.00/629 [00:00<?, ?B/s]"
      ]
     },
     "metadata": {},
     "output_type": "display_data"
    },
    {
     "data": {
      "application/vnd.jupyter.widget-view+json": {
       "model_id": "dd8fa013bb1c4126b6fd00374559e724",
       "version_major": 2,
       "version_minor": 0
      },
      "text/plain": [
       "Downloading:   0%|          | 0.00/268M [00:00<?, ?B/s]"
      ]
     },
     "metadata": {},
     "output_type": "display_data"
    },
    {
     "data": {
      "application/vnd.jupyter.widget-view+json": {
       "model_id": "6287cfe0e52a40f6a646d18ba527616d",
       "version_major": 2,
       "version_minor": 0
      },
      "text/plain": [
       "Downloading:   0%|          | 0.00/48.0 [00:00<?, ?B/s]"
      ]
     },
     "metadata": {},
     "output_type": "display_data"
    },
    {
     "data": {
      "application/vnd.jupyter.widget-view+json": {
       "model_id": "4f7376296a5f4b92860a79e233d2dffd",
       "version_major": 2,
       "version_minor": 0
      },
      "text/plain": [
       "Downloading:   0%|          | 0.00/232k [00:00<?, ?B/s]"
      ]
     },
     "metadata": {},
     "output_type": "display_data"
    }
   ],
   "source": [
    "from transformers import pipeline\n",
    "\n",
    "sent_pipeline = pipeline(\"sentiment-analysis\")"
   ]
  },
  {
   "cell_type": "code",
   "execution_count": 46,
   "metadata": {
    "colab": {
     "base_uri": "https://localhost:8080/"
    },
    "id": "CH0hPQAC4DgI",
    "outputId": "846ebed5-0af3-47ab-da7c-94de12a6cd79"
   },
   "outputs": [
    {
     "data": {
      "text/plain": [
       "[{'label': 'POSITIVE', 'score': 0.9989376664161682}]"
      ]
     },
     "execution_count": 46,
     "metadata": {},
     "output_type": "execute_result"
    }
   ],
   "source": [
    "sent_pipeline('I like sentimental analysis!')"
   ]
  },
  {
   "cell_type": "code",
   "execution_count": 47,
   "metadata": {
    "colab": {
     "base_uri": "https://localhost:8080/"
    },
    "id": "ZuVD74yj06gI",
    "outputId": "0ffc8993-f675-4c83-a225-6429cee7b91d"
   },
   "outputs": [
    {
     "data": {
      "text/plain": [
       "[{'label': 'NEGATIVE', 'score': 0.998892605304718},\n",
       " {'label': 'NEGATIVE', 'score': 0.9425846934318542},\n",
       " {'label': 'POSITIVE', 'score': 0.9879618287086487},\n",
       " {'label': 'POSITIVE', 'score': 0.9717860817909241},\n",
       " {'label': 'POSITIVE', 'score': 0.5365245342254639},\n",
       " {'label': 'NEGATIVE', 'score': 0.9988357424736023},\n",
       " {'label': 'NEGATIVE', 'score': 0.8742316961288452},\n",
       " {'label': 'NEGATIVE', 'score': 0.9869824647903442},\n",
       " {'label': 'POSITIVE', 'score': 0.9998354911804199},\n",
       " {'label': 'NEGATIVE', 'score': 0.9993320107460022},\n",
       " {'label': 'NEGATIVE', 'score': 0.9913894534111023},\n",
       " {'label': 'POSITIVE', 'score': 0.9973645806312561},\n",
       " {'label': 'POSITIVE', 'score': 0.9971874356269836},\n",
       " {'label': 'POSITIVE', 'score': 0.9967701435089111},\n",
       " {'label': 'POSITIVE', 'score': 0.9991366267204285},\n",
       " {'label': 'NEGATIVE', 'score': 0.8985950946807861},\n",
       " {'label': 'NEGATIVE', 'score': 0.9853346347808838},\n",
       " {'label': 'NEGATIVE', 'score': 0.9963585734367371},\n",
       " {'label': 'NEGATIVE', 'score': 0.9995110034942627},\n",
       " {'label': 'NEGATIVE', 'score': 0.9874210357666016},\n",
       " {'label': 'POSITIVE', 'score': 0.9241316318511963},\n",
       " {'label': 'NEGATIVE', 'score': 0.995849609375},\n",
       " {'label': 'POSITIVE', 'score': 0.9997182488441467},\n",
       " {'label': 'POSITIVE', 'score': 0.9931803941726685},\n",
       " {'label': 'POSITIVE', 'score': 0.9845417737960815},\n",
       " {'label': 'POSITIVE', 'score': 0.9997333884239197},\n",
       " {'label': 'POSITIVE', 'score': 0.9982813596725464},\n",
       " {'label': 'POSITIVE', 'score': 0.9996795654296875},\n",
       " {'label': 'NEGATIVE', 'score': 0.9840705394744873},\n",
       " {'label': 'POSITIVE', 'score': 0.9894435405731201},\n",
       " {'label': 'POSITIVE', 'score': 0.9998610019683838},\n",
       " {'label': 'NEGATIVE', 'score': 0.9816842675209045},\n",
       " {'label': 'POSITIVE', 'score': 0.882594883441925},\n",
       " {'label': 'POSITIVE', 'score': 0.9947354197502136},\n",
       " {'label': 'POSITIVE', 'score': 0.9979033470153809},\n",
       " {'label': 'NEGATIVE', 'score': 0.9981004595756531},\n",
       " {'label': 'NEGATIVE', 'score': 0.9904823303222656},\n",
       " {'label': 'POSITIVE', 'score': 0.9980283379554749},\n",
       " {'label': 'POSITIVE', 'score': 0.9994213581085205},\n",
       " {'label': 'POSITIVE', 'score': 0.9943941831588745},\n",
       " {'label': 'NEGATIVE', 'score': 0.9957868456840515},\n",
       " {'label': 'POSITIVE', 'score': 0.9996849298477173},\n",
       " {'label': 'POSITIVE', 'score': 0.9913666844367981},\n",
       " {'label': 'NEGATIVE', 'score': 0.8757306337356567},\n",
       " {'label': 'POSITIVE', 'score': 0.9971963167190552},\n",
       " {'label': 'POSITIVE', 'score': 0.6147510409355164},\n",
       " {'label': 'POSITIVE', 'score': 0.9988172650337219},\n",
       " {'label': 'POSITIVE', 'score': 0.9997928738594055},\n",
       " {'label': 'POSITIVE', 'score': 0.9267727732658386},\n",
       " {'label': 'POSITIVE', 'score': 0.9673265218734741},\n",
       " {'label': 'POSITIVE', 'score': 0.5842673778533936},\n",
       " {'label': 'POSITIVE', 'score': 0.9022043943405151},\n",
       " {'label': 'NEGATIVE', 'score': 0.9979361295700073},\n",
       " {'label': 'POSITIVE', 'score': 0.9972142577171326},\n",
       " {'label': 'NEGATIVE', 'score': 0.8326106667518616},\n",
       " {'label': 'NEGATIVE', 'score': 0.9987989664077759},\n",
       " {'label': 'POSITIVE', 'score': 0.9986200332641602},\n",
       " {'label': 'POSITIVE', 'score': 0.9973475933074951},\n",
       " {'label': 'POSITIVE', 'score': 0.9150124192237854},\n",
       " {'label': 'POSITIVE', 'score': 0.7549930214881897},\n",
       " {'label': 'POSITIVE', 'score': 0.8018099069595337},\n",
       " {'label': 'POSITIVE', 'score': 0.9989438652992249},\n",
       " {'label': 'NEGATIVE', 'score': 0.6247391104698181},\n",
       " {'label': 'NEGATIVE', 'score': 0.9870219826698303},\n",
       " {'label': 'NEGATIVE', 'score': 0.9926714897155762},\n",
       " {'label': 'POSITIVE', 'score': 0.9427133798599243},\n",
       " {'label': 'NEGATIVE', 'score': 0.9774726629257202},\n",
       " {'label': 'POSITIVE', 'score': 0.9923297762870789},\n",
       " {'label': 'POSITIVE', 'score': 0.9994059801101685},\n",
       " {'label': 'NEGATIVE', 'score': 0.7185340523719788},\n",
       " {'label': 'POSITIVE', 'score': 0.9944577217102051},\n",
       " {'label': 'POSITIVE', 'score': 0.9996798038482666},\n",
       " {'label': 'NEGATIVE', 'score': 0.9981303811073303},\n",
       " {'label': 'POSITIVE', 'score': 0.9981707334518433},\n",
       " {'label': 'NEGATIVE', 'score': 0.9988933205604553},\n",
       " {'label': 'NEGATIVE', 'score': 0.9983391761779785},\n",
       " {'label': 'POSITIVE', 'score': 0.9979081153869629},\n",
       " {'label': 'POSITIVE', 'score': 0.9756143093109131},\n",
       " {'label': 'POSITIVE', 'score': 0.9902349710464478},\n",
       " {'label': 'POSITIVE', 'score': 0.9984033703804016},\n",
       " {'label': 'POSITIVE', 'score': 0.9988892674446106},\n",
       " {'label': 'NEGATIVE', 'score': 0.9302123188972473},\n",
       " {'label': 'NEGATIVE', 'score': 0.9988579750061035},\n",
       " {'label': 'POSITIVE', 'score': 0.9603450298309326},\n",
       " {'label': 'NEGATIVE', 'score': 0.9830737709999084},\n",
       " {'label': 'NEGATIVE', 'score': 0.9923269152641296},\n",
       " {'label': 'NEGATIVE', 'score': 0.9994373917579651},\n",
       " {'label': 'NEGATIVE', 'score': 0.9815430045127869},\n",
       " {'label': 'NEGATIVE', 'score': 0.8635512590408325},\n",
       " {'label': 'NEGATIVE', 'score': 0.9936794638633728},\n",
       " {'label': 'NEGATIVE', 'score': 0.9995883107185364},\n",
       " {'label': 'NEGATIVE', 'score': 0.9986053109169006},\n",
       " {'label': 'NEGATIVE', 'score': 0.9888808727264404},\n",
       " {'label': 'POSITIVE', 'score': 0.939951479434967},\n",
       " {'label': 'NEGATIVE', 'score': 0.9976333379745483},\n",
       " {'label': 'NEGATIVE', 'score': 0.9845222234725952},\n",
       " {'label': 'POSITIVE', 'score': 0.9991264939308167},\n",
       " {'label': 'POSITIVE', 'score': 0.9874979853630066},\n",
       " {'label': 'NEGATIVE', 'score': 0.933036744594574},\n",
       " {'label': 'POSITIVE', 'score': 0.9966714382171631},\n",
       " {'label': 'POSITIVE', 'score': 0.9811315536499023},\n",
       " {'label': 'NEGATIVE', 'score': 0.9920135140419006},\n",
       " {'label': 'POSITIVE', 'score': 0.9935165643692017},\n",
       " {'label': 'NEGATIVE', 'score': 0.9813257455825806},\n",
       " {'label': 'POSITIVE', 'score': 0.9997902512550354},\n",
       " {'label': 'NEGATIVE', 'score': 0.7538386583328247},\n",
       " {'label': 'NEGATIVE', 'score': 0.9829227924346924},\n",
       " {'label': 'NEGATIVE', 'score': 0.9984675049781799},\n",
       " {'label': 'NEGATIVE', 'score': 0.9958518743515015},\n",
       " {'label': 'POSITIVE', 'score': 0.971141517162323},\n",
       " {'label': 'NEGATIVE', 'score': 0.9968236684799194},\n",
       " {'label': 'NEGATIVE', 'score': 0.7621743083000183},\n",
       " {'label': 'NEGATIVE', 'score': 0.9997988343238831},\n",
       " {'label': 'NEGATIVE', 'score': 0.8669764995574951},\n",
       " {'label': 'POSITIVE', 'score': 0.9909355044364929},\n",
       " {'label': 'NEGATIVE', 'score': 0.9761701822280884},\n",
       " {'label': 'NEGATIVE', 'score': 0.8725063800811768},\n",
       " {'label': 'POSITIVE', 'score': 0.9994354844093323},\n",
       " {'label': 'NEGATIVE', 'score': 0.9935917258262634},\n",
       " {'label': 'NEGATIVE', 'score': 0.9971370697021484},\n",
       " {'label': 'NEGATIVE', 'score': 0.9994487166404724},\n",
       " {'label': 'POSITIVE', 'score': 0.9986316561698914},\n",
       " {'label': 'NEGATIVE', 'score': 0.9916791319847107},\n",
       " {'label': 'POSITIVE', 'score': 0.9997575879096985},\n",
       " {'label': 'NEGATIVE', 'score': 0.7007270455360413},\n",
       " {'label': 'NEGATIVE', 'score': 0.9963625073432922},\n",
       " {'label': 'NEGATIVE', 'score': 0.6933369040489197},\n",
       " {'label': 'NEGATIVE', 'score': 0.9367720484733582},\n",
       " {'label': 'NEGATIVE', 'score': 0.9970692992210388},\n",
       " {'label': 'POSITIVE', 'score': 0.9603253602981567},\n",
       " {'label': 'POSITIVE', 'score': 0.9926633834838867},\n",
       " {'label': 'POSITIVE', 'score': 0.9877468347549438},\n",
       " {'label': 'POSITIVE', 'score': 0.9960780739784241},\n",
       " {'label': 'NEGATIVE', 'score': 0.9936339855194092},\n",
       " {'label': 'NEGATIVE', 'score': 0.9594143629074097},\n",
       " {'label': 'NEGATIVE', 'score': 0.9906558394432068},\n",
       " {'label': 'NEGATIVE', 'score': 0.6717191338539124},\n",
       " {'label': 'NEGATIVE', 'score': 0.9822236895561218},\n",
       " {'label': 'POSITIVE', 'score': 0.9972729086875916},\n",
       " {'label': 'NEGATIVE', 'score': 0.9804291725158691},\n",
       " {'label': 'NEGATIVE', 'score': 0.9914628863334656},\n",
       " {'label': 'POSITIVE', 'score': 0.9959409236907959},\n",
       " {'label': 'NEGATIVE', 'score': 0.9963290095329285},\n",
       " {'label': 'POSITIVE', 'score': 0.62159264087677},\n",
       " {'label': 'NEGATIVE', 'score': 0.965415894985199},\n",
       " {'label': 'POSITIVE', 'score': 0.9517689347267151},\n",
       " {'label': 'POSITIVE', 'score': 0.9910706281661987},\n",
       " {'label': 'NEGATIVE', 'score': 0.9967435002326965},\n",
       " {'label': 'NEGATIVE', 'score': 0.9727070331573486},\n",
       " {'label': 'POSITIVE', 'score': 0.5940902233123779},\n",
       " {'label': 'NEGATIVE', 'score': 0.9975939393043518},\n",
       " {'label': 'POSITIVE', 'score': 0.9998254179954529},\n",
       " {'label': 'NEGATIVE', 'score': 0.9836388826370239},\n",
       " {'label': 'NEGATIVE', 'score': 0.9951360821723938},\n",
       " {'label': 'POSITIVE', 'score': 0.7789445519447327},\n",
       " {'label': 'POSITIVE', 'score': 0.9890134334564209},\n",
       " {'label': 'NEGATIVE', 'score': 0.9870043396949768},\n",
       " {'label': 'POSITIVE', 'score': 0.9985113739967346},\n",
       " {'label': 'POSITIVE', 'score': 0.9997594952583313},\n",
       " {'label': 'NEGATIVE', 'score': 0.9743014574050903},\n",
       " {'label': 'POSITIVE', 'score': 0.998552143573761},\n",
       " {'label': 'NEGATIVE', 'score': 0.9649588465690613},\n",
       " {'label': 'POSITIVE', 'score': 0.8982471823692322},\n",
       " {'label': 'POSITIVE', 'score': 0.5279552936553955},\n",
       " {'label': 'POSITIVE', 'score': 0.9888938069343567},\n",
       " {'label': 'POSITIVE', 'score': 0.9975149631500244},\n",
       " {'label': 'POSITIVE', 'score': 0.901440441608429},\n",
       " {'label': 'NEGATIVE', 'score': 0.9972848892211914},\n",
       " {'label': 'NEGATIVE', 'score': 0.9989998936653137},\n",
       " {'label': 'NEGATIVE', 'score': 0.9978749752044678},\n",
       " {'label': 'POSITIVE', 'score': 0.9927281141281128},\n",
       " {'label': 'NEGATIVE', 'score': 0.9989253878593445},\n",
       " {'label': 'POSITIVE', 'score': 0.9997394680976868},\n",
       " {'label': 'NEGATIVE', 'score': 0.9828285574913025},\n",
       " {'label': 'NEGATIVE', 'score': 0.9860783815383911},\n",
       " {'label': 'NEGATIVE', 'score': 0.9588019251823425},\n",
       " {'label': 'POSITIVE', 'score': 0.9988681077957153},\n",
       " {'label': 'NEGATIVE', 'score': 0.9913676381111145},\n",
       " {'label': 'POSITIVE', 'score': 0.9935732483863831},\n",
       " {'label': 'POSITIVE', 'score': 0.9993911981582642},\n",
       " {'label': 'NEGATIVE', 'score': 0.9993727803230286},\n",
       " {'label': 'POSITIVE', 'score': 0.9957497119903564},\n",
       " {'label': 'NEGATIVE', 'score': 0.9911795258522034},\n",
       " {'label': 'POSITIVE', 'score': 0.9945242404937744},\n",
       " {'label': 'POSITIVE', 'score': 0.8626636862754822},\n",
       " {'label': 'POSITIVE', 'score': 0.9779817461967468},\n",
       " {'label': 'NEGATIVE', 'score': 0.9985236525535583},\n",
       " {'label': 'POSITIVE', 'score': 0.8838968276977539},\n",
       " {'label': 'NEGATIVE', 'score': 0.9867429733276367},\n",
       " {'label': 'POSITIVE', 'score': 0.9987778067588806},\n",
       " {'label': 'POSITIVE', 'score': 0.796882152557373},\n",
       " {'label': 'NEGATIVE', 'score': 0.998635470867157},\n",
       " {'label': 'NEGATIVE', 'score': 0.9937596917152405},\n",
       " {'label': 'POSITIVE', 'score': 0.9966244697570801},\n",
       " {'label': 'POSITIVE', 'score': 0.9978452920913696},\n",
       " {'label': 'NEGATIVE', 'score': 0.9926326870918274},\n",
       " {'label': 'NEGATIVE', 'score': 0.9910127520561218},\n",
       " {'label': 'POSITIVE', 'score': 0.9935110211372375},\n",
       " {'label': 'NEGATIVE', 'score': 0.9354694485664368},\n",
       " {'label': 'POSITIVE', 'score': 0.9802874326705933}]"
      ]
     },
     "execution_count": 47,
     "metadata": {},
     "output_type": "execute_result"
    }
   ],
   "source": [
    "sent_pipeline(cleanText[:200])"
   ]
  },
  {
   "cell_type": "markdown",
   "metadata": {
    "id": "XxiCAPzkXDte"
   },
   "source": [
    "***Using PATTERN Model***"
   ]
  },
  {
   "cell_type": "code",
   "execution_count": 48,
   "metadata": {
    "colab": {
     "base_uri": "https://localhost:8080/"
    },
    "id": "vrWTPVYOW7ll",
    "outputId": "024c8f93-cf96-48da-fe99-cb134e7ce456"
   },
   "outputs": [
    {
     "name": "stdout",
     "output_type": "stream",
     "text": [
      "Looking in indexes: https://pypi.org/simple, https://us-python.pkg.dev/colab-wheels/public/simple/\n",
      "Collecting pattern\n",
      "  Downloading Pattern-3.6.0.tar.gz (22.2 MB)\n",
      "\u001b[K     |████████████████████████████████| 22.2 MB 41.8 MB/s \n",
      "\u001b[?25hRequirement already satisfied: future in /usr/local/lib/python3.7/dist-packages (from pattern) (0.16.0)\n",
      "Collecting backports.csv\n",
      "  Downloading backports.csv-1.0.7-py2.py3-none-any.whl (12 kB)\n",
      "Collecting mysqlclient\n",
      "  Downloading mysqlclient-2.1.1.tar.gz (88 kB)\n",
      "\u001b[K     |████████████████████████████████| 88 kB 3.4 MB/s \n",
      "\u001b[?25hRequirement already satisfied: beautifulsoup4 in /usr/local/lib/python3.7/dist-packages (from pattern) (4.6.3)\n",
      "Requirement already satisfied: lxml in /usr/local/lib/python3.7/dist-packages (from pattern) (4.9.1)\n",
      "Collecting feedparser\n",
      "  Downloading feedparser-6.0.10-py3-none-any.whl (81 kB)\n",
      "\u001b[K     |████████████████████████████████| 81 kB 9.1 MB/s \n",
      "\u001b[?25hCollecting pdfminer.six\n",
      "  Downloading pdfminer.six-20220524-py3-none-any.whl (5.6 MB)\n",
      "\u001b[K     |████████████████████████████████| 5.6 MB 35.5 MB/s \n",
      "\u001b[?25hRequirement already satisfied: numpy in /usr/local/lib/python3.7/dist-packages (from pattern) (1.21.6)\n",
      "Requirement already satisfied: scipy in /usr/local/lib/python3.7/dist-packages (from pattern) (1.7.3)\n",
      "Requirement already satisfied: nltk in /usr/local/lib/python3.7/dist-packages (from pattern) (3.7)\n",
      "Collecting python-docx\n",
      "  Downloading python-docx-0.8.11.tar.gz (5.6 MB)\n",
      "\u001b[K     |████████████████████████████████| 5.6 MB 22.4 MB/s \n",
      "\u001b[?25hCollecting cherrypy\n",
      "  Downloading CherryPy-18.8.0-py2.py3-none-any.whl (348 kB)\n",
      "\u001b[K     |████████████████████████████████| 348 kB 28.7 MB/s \n",
      "\u001b[?25hRequirement already satisfied: requests in /usr/local/lib/python3.7/dist-packages (from pattern) (2.23.0)\n",
      "Collecting cheroot>=8.2.1\n",
      "  Downloading cheroot-8.6.0-py2.py3-none-any.whl (104 kB)\n",
      "\u001b[K     |████████████████████████████████| 104 kB 28.0 MB/s \n",
      "\u001b[?25hRequirement already satisfied: more-itertools in /usr/local/lib/python3.7/dist-packages (from cherrypy->pattern) (8.14.0)\n",
      "Collecting portend>=2.1.1\n",
      "  Downloading portend-3.1.0-py3-none-any.whl (5.3 kB)\n",
      "Collecting jaraco.collections\n",
      "  Downloading jaraco.collections-3.5.2-py3-none-any.whl (10 kB)\n",
      "Collecting zc.lockfile\n",
      "  Downloading zc.lockfile-2.0-py2.py3-none-any.whl (9.7 kB)\n",
      "Collecting jaraco.functools\n",
      "  Downloading jaraco.functools-3.5.1-py3-none-any.whl (7.3 kB)\n",
      "Requirement already satisfied: six>=1.11.0 in /usr/local/lib/python3.7/dist-packages (from cheroot>=8.2.1->cherrypy->pattern) (1.15.0)\n",
      "Collecting tempora>=1.8\n",
      "  Downloading tempora-5.0.2-py3-none-any.whl (15 kB)\n",
      "Requirement already satisfied: pytz in /usr/local/lib/python3.7/dist-packages (from tempora>=1.8->portend>=2.1.1->cherrypy->pattern) (2022.2.1)\n",
      "Collecting sgmllib3k\n",
      "  Downloading sgmllib3k-1.0.0.tar.gz (5.8 kB)\n",
      "Collecting jaraco.text\n",
      "  Downloading jaraco.text-3.9.1-py3-none-any.whl (10 kB)\n",
      "Collecting jaraco.classes\n",
      "  Downloading jaraco.classes-3.2.2-py3-none-any.whl (6.0 kB)\n",
      "Collecting autocommand\n",
      "  Downloading autocommand-2.2.1-py3-none-any.whl (22 kB)\n",
      "Collecting jaraco.context>=4.1\n",
      "  Downloading jaraco.context-4.1.2-py3-none-any.whl (4.7 kB)\n",
      "Requirement already satisfied: importlib-resources in /usr/local/lib/python3.7/dist-packages (from jaraco.text->jaraco.collections->cherrypy->pattern) (5.9.0)\n",
      "Requirement already satisfied: inflect in /usr/local/lib/python3.7/dist-packages (from jaraco.text->jaraco.collections->cherrypy->pattern) (2.1.0)\n",
      "Requirement already satisfied: zipp>=3.1.0 in /usr/local/lib/python3.7/dist-packages (from importlib-resources->jaraco.text->jaraco.collections->cherrypy->pattern) (3.8.1)\n",
      "Requirement already satisfied: tqdm in /usr/local/lib/python3.7/dist-packages (from nltk->pattern) (4.64.1)\n",
      "Requirement already satisfied: click in /usr/local/lib/python3.7/dist-packages (from nltk->pattern) (7.1.2)\n",
      "Requirement already satisfied: regex>=2021.8.3 in /usr/local/lib/python3.7/dist-packages (from nltk->pattern) (2022.6.2)\n",
      "Requirement already satisfied: joblib in /usr/local/lib/python3.7/dist-packages (from nltk->pattern) (1.1.0)\n",
      "Requirement already satisfied: charset-normalizer>=2.0.0 in /usr/local/lib/python3.7/dist-packages (from pdfminer.six->pattern) (2.1.1)\n",
      "Collecting cryptography>=36.0.0\n",
      "  Downloading cryptography-38.0.1-cp36-abi3-manylinux_2_24_x86_64.whl (4.0 MB)\n",
      "\u001b[K     |████████████████████████████████| 4.0 MB 37.5 MB/s \n",
      "\u001b[?25hRequirement already satisfied: cffi>=1.12 in /usr/local/lib/python3.7/dist-packages (from cryptography>=36.0.0->pdfminer.six->pattern) (1.15.1)\n",
      "Requirement already satisfied: pycparser in /usr/local/lib/python3.7/dist-packages (from cffi>=1.12->cryptography>=36.0.0->pdfminer.six->pattern) (2.21)\n",
      "Requirement already satisfied: idna<3,>=2.5 in /usr/local/lib/python3.7/dist-packages (from requests->pattern) (2.10)\n",
      "Requirement already satisfied: certifi>=2017.4.17 in /usr/local/lib/python3.7/dist-packages (from requests->pattern) (2022.6.15)\n",
      "Requirement already satisfied: urllib3!=1.25.0,!=1.25.1,<1.26,>=1.21.1 in /usr/local/lib/python3.7/dist-packages (from requests->pattern) (1.24.3)\n",
      "Requirement already satisfied: chardet<4,>=3.0.2 in /usr/local/lib/python3.7/dist-packages (from requests->pattern) (3.0.4)\n",
      "Requirement already satisfied: setuptools in /usr/local/lib/python3.7/dist-packages (from zc.lockfile->cherrypy->pattern) (57.4.0)\n",
      "Building wheels for collected packages: pattern, mysqlclient, python-docx, sgmllib3k\n",
      "  Building wheel for pattern (setup.py) ... \u001b[?25l\u001b[?25hdone\n",
      "  Created wheel for pattern: filename=Pattern-3.6-py3-none-any.whl size=22332721 sha256=50f5a4a3af4042e75d0397ed70321ad7be3209402ad7f592b0babace737ac6ce\n",
      "  Stored in directory: /root/.cache/pip/wheels/8d/1f/4e/9b67afd2430d55dee90bd57618dd7d899f1323e5852c465682\n",
      "  Building wheel for mysqlclient (setup.py) ... \u001b[?25l\u001b[?25hdone\n",
      "  Created wheel for mysqlclient: filename=mysqlclient-2.1.1-cp37-cp37m-linux_x86_64.whl size=99972 sha256=520468421b677e71899b5da87ea6a6aca4d7582c3bfdfa87f6fb510b2ab478f3\n",
      "  Stored in directory: /root/.cache/pip/wheels/95/2d/67/2cb3f82e435fc8e055cb2761a15a0812bf086068f6fb835462\n",
      "  Building wheel for python-docx (setup.py) ... \u001b[?25l\u001b[?25hdone\n",
      "  Created wheel for python-docx: filename=python_docx-0.8.11-py3-none-any.whl size=184507 sha256=21b4f36a978da8e3d7b427e17f30b11599d657be74dab1eaee16bd483daa4307\n",
      "  Stored in directory: /root/.cache/pip/wheels/f6/6f/b9/d798122a8b55b74ad30b5f52b01482169b445fbb84a11797a6\n",
      "  Building wheel for sgmllib3k (setup.py) ... \u001b[?25l\u001b[?25hdone\n",
      "  Created wheel for sgmllib3k: filename=sgmllib3k-1.0.0-py3-none-any.whl size=6066 sha256=881945ec7ca0aca55888a174ddb21733aec9a8950d260dec92bfe9e4914bfeb0\n",
      "  Stored in directory: /root/.cache/pip/wheels/73/ad/a4/0dff4a6ef231fc0dfa12ffbac2a36cebfdddfe059f50e019aa\n",
      "Successfully built pattern mysqlclient python-docx sgmllib3k\n",
      "Installing collected packages: jaraco.functools, jaraco.context, autocommand, tempora, jaraco.text, jaraco.classes, zc.lockfile, sgmllib3k, portend, jaraco.collections, cryptography, cheroot, python-docx, pdfminer.six, mysqlclient, feedparser, cherrypy, backports.csv, pattern\n",
      "Successfully installed autocommand-2.2.1 backports.csv-1.0.7 cheroot-8.6.0 cherrypy-18.8.0 cryptography-38.0.1 feedparser-6.0.10 jaraco.classes-3.2.2 jaraco.collections-3.5.2 jaraco.context-4.1.2 jaraco.functools-3.5.1 jaraco.text-3.9.1 mysqlclient-2.1.1 pattern-3.6 pdfminer.six-20220524 portend-3.1.0 python-docx-0.8.11 sgmllib3k-1.0.0 tempora-5.0.2 zc.lockfile-2.0\n"
     ]
    }
   ],
   "source": [
    "pip install pattern"
   ]
  },
  {
   "cell_type": "code",
   "execution_count": 49,
   "metadata": {
    "colab": {
     "base_uri": "https://localhost:8080/"
    },
    "id": "7RcNPGLVW-n4",
    "outputId": "684d6978-811b-419d-e37d-ae1f7b6898cf"
   },
   "outputs": [
    {
     "name": "stdout",
     "output_type": "stream",
     "text": [
      "(-0.15000000000000002, 0.8)\n"
     ]
    }
   ],
   "source": [
    "from pattern.en import sentiment"
   ]
  },
  {
   "cell_type": "code",
   "execution_count": 52,
   "metadata": {
    "id": "bvpW7NnLYPaY"
   },
   "outputs": [],
   "source": [
    "rating_Pattern = pd.DataFrame(rating_df, columns=['Score', 'Text','cleanText'])"
   ]
  },
  {
   "cell_type": "code",
   "execution_count": 53,
   "metadata": {
    "colab": {
     "base_uri": "https://localhost:8080/",
     "height": 424
    },
    "id": "4aZ856gqZ0X4",
    "outputId": "2a99236f-cb5c-4129-cd7b-1143a71796c1"
   },
   "outputs": [
    {
     "data": {
      "text/html": [
       "\n",
       "  <div id=\"df-dda5d9b5-799a-480b-b6f4-848ffbdc7f76\">\n",
       "    <div class=\"colab-df-container\">\n",
       "      <div>\n",
       "<style scoped>\n",
       "    .dataframe tbody tr th:only-of-type {\n",
       "        vertical-align: middle;\n",
       "    }\n",
       "\n",
       "    .dataframe tbody tr th {\n",
       "        vertical-align: top;\n",
       "    }\n",
       "\n",
       "    .dataframe thead th {\n",
       "        text-align: right;\n",
       "    }\n",
       "</style>\n",
       "<table border=\"1\" class=\"dataframe\">\n",
       "  <thead>\n",
       "    <tr style=\"text-align: right;\">\n",
       "      <th></th>\n",
       "      <th>Score</th>\n",
       "      <th>Text</th>\n",
       "      <th>cleanText</th>\n",
       "    </tr>\n",
       "  </thead>\n",
       "  <tbody>\n",
       "    <tr>\n",
       "      <th>124918</th>\n",
       "      <td>1</td>\n",
       "      <td>I purchased this thinking \"what a great deal!\"...</td>\n",
       "      <td>purchased thinking great deal know really bad ...</td>\n",
       "    </tr>\n",
       "    <tr>\n",
       "      <th>147399</th>\n",
       "      <td>4</td>\n",
       "      <td>These thinkThin \"100 Chocolate Toffee Nut Bite...</td>\n",
       "      <td>thinkthin chocolate toffee nut bite good tasti...</td>\n",
       "    </tr>\n",
       "    <tr>\n",
       "      <th>5435</th>\n",
       "      <td>5</td>\n",
       "      <td>I purchased some of this special habanero sauc...</td>\n",
       "      <td>purchased special habanero sauce past year sup...</td>\n",
       "    </tr>\n",
       "    <tr>\n",
       "      <th>497248</th>\n",
       "      <td>3</td>\n",
       "      <td>My daughter loves this stuff.  I thought it ta...</td>\n",
       "      <td>daughter love stuff thought tasted pretty good...</td>\n",
       "    </tr>\n",
       "    <tr>\n",
       "      <th>219223</th>\n",
       "      <td>4</td>\n",
       "      <td>I have tried virtually every variety of the Bo...</td>\n",
       "      <td>tried virtually every variety body armor brand...</td>\n",
       "    </tr>\n",
       "    <tr>\n",
       "      <th>...</th>\n",
       "      <td>...</td>\n",
       "      <td>...</td>\n",
       "      <td>...</td>\n",
       "    </tr>\n",
       "    <tr>\n",
       "      <th>286291</th>\n",
       "      <td>3</td>\n",
       "      <td>I am an expat living in Thailand so I know a t...</td>\n",
       "      <td>expat living thailand know thing two thai spic...</td>\n",
       "    </tr>\n",
       "    <tr>\n",
       "      <th>390514</th>\n",
       "      <td>3</td>\n",
       "      <td>This product is widely available in my area at...</td>\n",
       "      <td>product widely available area local grocery st...</td>\n",
       "    </tr>\n",
       "    <tr>\n",
       "      <th>295707</th>\n",
       "      <td>2</td>\n",
       "      <td>My main beef with this product is with the lab...</td>\n",
       "      <td>main beef product labeling box labeled decepti...</td>\n",
       "    </tr>\n",
       "    <tr>\n",
       "      <th>465988</th>\n",
       "      <td>4</td>\n",
       "      <td>I have been drinking this tea every night just...</td>\n",
       "      <td>drinking tea every night benefit claim produce...</td>\n",
       "    </tr>\n",
       "    <tr>\n",
       "      <th>80261</th>\n",
       "      <td>5</td>\n",
       "      <td>Wonderful hot cocoa! Great flavor, its very im...</td>\n",
       "      <td>wonderful hot cocoa great flavor important sha...</td>\n",
       "    </tr>\n",
       "  </tbody>\n",
       "</table>\n",
       "<p>56838 rows × 3 columns</p>\n",
       "</div>\n",
       "      <button class=\"colab-df-convert\" onclick=\"convertToInteractive('df-dda5d9b5-799a-480b-b6f4-848ffbdc7f76')\"\n",
       "              title=\"Convert this dataframe to an interactive table.\"\n",
       "              style=\"display:none;\">\n",
       "        \n",
       "  <svg xmlns=\"http://www.w3.org/2000/svg\" height=\"24px\"viewBox=\"0 0 24 24\"\n",
       "       width=\"24px\">\n",
       "    <path d=\"M0 0h24v24H0V0z\" fill=\"none\"/>\n",
       "    <path d=\"M18.56 5.44l.94 2.06.94-2.06 2.06-.94-2.06-.94-.94-2.06-.94 2.06-2.06.94zm-11 1L8.5 8.5l.94-2.06 2.06-.94-2.06-.94L8.5 2.5l-.94 2.06-2.06.94zm10 10l.94 2.06.94-2.06 2.06-.94-2.06-.94-.94-2.06-.94 2.06-2.06.94z\"/><path d=\"M17.41 7.96l-1.37-1.37c-.4-.4-.92-.59-1.43-.59-.52 0-1.04.2-1.43.59L10.3 9.45l-7.72 7.72c-.78.78-.78 2.05 0 2.83L4 21.41c.39.39.9.59 1.41.59.51 0 1.02-.2 1.41-.59l7.78-7.78 2.81-2.81c.8-.78.8-2.07 0-2.86zM5.41 20L4 18.59l7.72-7.72 1.47 1.35L5.41 20z\"/>\n",
       "  </svg>\n",
       "      </button>\n",
       "      \n",
       "  <style>\n",
       "    .colab-df-container {\n",
       "      display:flex;\n",
       "      flex-wrap:wrap;\n",
       "      gap: 12px;\n",
       "    }\n",
       "\n",
       "    .colab-df-convert {\n",
       "      background-color: #E8F0FE;\n",
       "      border: none;\n",
       "      border-radius: 50%;\n",
       "      cursor: pointer;\n",
       "      display: none;\n",
       "      fill: #1967D2;\n",
       "      height: 32px;\n",
       "      padding: 0 0 0 0;\n",
       "      width: 32px;\n",
       "    }\n",
       "\n",
       "    .colab-df-convert:hover {\n",
       "      background-color: #E2EBFA;\n",
       "      box-shadow: 0px 1px 2px rgba(60, 64, 67, 0.3), 0px 1px 3px 1px rgba(60, 64, 67, 0.15);\n",
       "      fill: #174EA6;\n",
       "    }\n",
       "\n",
       "    [theme=dark] .colab-df-convert {\n",
       "      background-color: #3B4455;\n",
       "      fill: #D2E3FC;\n",
       "    }\n",
       "\n",
       "    [theme=dark] .colab-df-convert:hover {\n",
       "      background-color: #434B5C;\n",
       "      box-shadow: 0px 1px 3px 1px rgba(0, 0, 0, 0.15);\n",
       "      filter: drop-shadow(0px 1px 2px rgba(0, 0, 0, 0.3));\n",
       "      fill: #FFFFFF;\n",
       "    }\n",
       "  </style>\n",
       "\n",
       "      <script>\n",
       "        const buttonEl =\n",
       "          document.querySelector('#df-dda5d9b5-799a-480b-b6f4-848ffbdc7f76 button.colab-df-convert');\n",
       "        buttonEl.style.display =\n",
       "          google.colab.kernel.accessAllowed ? 'block' : 'none';\n",
       "\n",
       "        async function convertToInteractive(key) {\n",
       "          const element = document.querySelector('#df-dda5d9b5-799a-480b-b6f4-848ffbdc7f76');\n",
       "          const dataTable =\n",
       "            await google.colab.kernel.invokeFunction('convertToInteractive',\n",
       "                                                     [key], {});\n",
       "          if (!dataTable) return;\n",
       "\n",
       "          const docLinkHtml = 'Like what you see? Visit the ' +\n",
       "            '<a target=\"_blank\" href=https://colab.research.google.com/notebooks/data_table.ipynb>data table notebook</a>'\n",
       "            + ' to learn more about interactive tables.';\n",
       "          element.innerHTML = '';\n",
       "          dataTable['output_type'] = 'display_data';\n",
       "          await google.colab.output.renderOutput(dataTable, element);\n",
       "          const docLink = document.createElement('div');\n",
       "          docLink.innerHTML = docLinkHtml;\n",
       "          element.appendChild(docLink);\n",
       "        }\n",
       "      </script>\n",
       "    </div>\n",
       "  </div>\n",
       "  "
      ],
      "text/plain": [
       "        Score                                               Text  \\\n",
       "124918      1  I purchased this thinking \"what a great deal!\"...   \n",
       "147399      4  These thinkThin \"100 Chocolate Toffee Nut Bite...   \n",
       "5435        5  I purchased some of this special habanero sauc...   \n",
       "497248      3  My daughter loves this stuff.  I thought it ta...   \n",
       "219223      4  I have tried virtually every variety of the Bo...   \n",
       "...       ...                                                ...   \n",
       "286291      3  I am an expat living in Thailand so I know a t...   \n",
       "390514      3  This product is widely available in my area at...   \n",
       "295707      2  My main beef with this product is with the lab...   \n",
       "465988      4  I have been drinking this tea every night just...   \n",
       "80261       5  Wonderful hot cocoa! Great flavor, its very im...   \n",
       "\n",
       "                                                cleanText  \n",
       "124918  purchased thinking great deal know really bad ...  \n",
       "147399  thinkthin chocolate toffee nut bite good tasti...  \n",
       "5435    purchased special habanero sauce past year sup...  \n",
       "497248  daughter love stuff thought tasted pretty good...  \n",
       "219223  tried virtually every variety body armor brand...  \n",
       "...                                                   ...  \n",
       "286291  expat living thailand know thing two thai spic...  \n",
       "390514  product widely available area local grocery st...  \n",
       "295707  main beef product labeling box labeled decepti...  \n",
       "465988  drinking tea every night benefit claim produce...  \n",
       "80261   wonderful hot cocoa great flavor important sha...  \n",
       "\n",
       "[56838 rows x 3 columns]"
      ]
     },
     "execution_count": 53,
     "metadata": {},
     "output_type": "execute_result"
    }
   ],
   "source": [
    "rating_Pattern"
   ]
  },
  {
   "cell_type": "code",
   "execution_count": 63,
   "metadata": {
    "id": "uNjOwLuEcbtg"
   },
   "outputs": [],
   "source": [
    "def patternsnp(text):\n",
    "  return sentiment(text)"
   ]
  },
  {
   "cell_type": "code",
   "execution_count": 71,
   "metadata": {
    "id": "a2Gmor4HfX5T"
   },
   "outputs": [],
   "source": [
    "pol=[]\n",
    "sub=[]\n",
    "for t in rating_Pattern['cleanText']:\n",
    " pol.append(patternsnp(t)[0])\n",
    " sub.append(patternsnp(t)[1])\n",
    "\n",
    "rating_Pattern['Polarity'] = pol\n",
    "rating_Pattern['Subjectivity'] = sub"
   ]
  },
  {
   "cell_type": "code",
   "execution_count": 72,
   "metadata": {
    "colab": {
     "base_uri": "https://localhost:8080/",
     "height": 206
    },
    "id": "eXi9osWwbPO-",
    "outputId": "60383c5e-1552-470d-af30-69ba3718cf95"
   },
   "outputs": [
    {
     "data": {
      "text/html": [
       "\n",
       "  <div id=\"df-41761298-5ad1-45b4-a89d-fd0c37099baa\">\n",
       "    <div class=\"colab-df-container\">\n",
       "      <div>\n",
       "<style scoped>\n",
       "    .dataframe tbody tr th:only-of-type {\n",
       "        vertical-align: middle;\n",
       "    }\n",
       "\n",
       "    .dataframe tbody tr th {\n",
       "        vertical-align: top;\n",
       "    }\n",
       "\n",
       "    .dataframe thead th {\n",
       "        text-align: right;\n",
       "    }\n",
       "</style>\n",
       "<table border=\"1\" class=\"dataframe\">\n",
       "  <thead>\n",
       "    <tr style=\"text-align: right;\">\n",
       "      <th></th>\n",
       "      <th>Score</th>\n",
       "      <th>Text</th>\n",
       "      <th>cleanText</th>\n",
       "      <th>Polarity</th>\n",
       "      <th>Subjectivity</th>\n",
       "    </tr>\n",
       "  </thead>\n",
       "  <tbody>\n",
       "    <tr>\n",
       "      <th>124918</th>\n",
       "      <td>1</td>\n",
       "      <td>I purchased this thinking \"what a great deal!\"...</td>\n",
       "      <td>purchased thinking great deal know really bad ...</td>\n",
       "      <td>0.010714</td>\n",
       "      <td>0.422619</td>\n",
       "    </tr>\n",
       "    <tr>\n",
       "      <th>147399</th>\n",
       "      <td>4</td>\n",
       "      <td>These thinkThin \"100 Chocolate Toffee Nut Bite...</td>\n",
       "      <td>thinkthin chocolate toffee nut bite good tasti...</td>\n",
       "      <td>0.362500</td>\n",
       "      <td>0.425000</td>\n",
       "    </tr>\n",
       "    <tr>\n",
       "      <th>5435</th>\n",
       "      <td>5</td>\n",
       "      <td>I purchased some of this special habanero sauc...</td>\n",
       "      <td>purchased special habanero sauce past year sup...</td>\n",
       "      <td>0.336640</td>\n",
       "      <td>0.546958</td>\n",
       "    </tr>\n",
       "    <tr>\n",
       "      <th>497248</th>\n",
       "      <td>3</td>\n",
       "      <td>My daughter loves this stuff.  I thought it ta...</td>\n",
       "      <td>daughter love stuff thought tasted pretty good...</td>\n",
       "      <td>0.164062</td>\n",
       "      <td>0.643750</td>\n",
       "    </tr>\n",
       "    <tr>\n",
       "      <th>219223</th>\n",
       "      <td>4</td>\n",
       "      <td>I have tried virtually every variety of the Bo...</td>\n",
       "      <td>tried virtually every variety body armor brand...</td>\n",
       "      <td>0.234615</td>\n",
       "      <td>0.617949</td>\n",
       "    </tr>\n",
       "  </tbody>\n",
       "</table>\n",
       "</div>\n",
       "      <button class=\"colab-df-convert\" onclick=\"convertToInteractive('df-41761298-5ad1-45b4-a89d-fd0c37099baa')\"\n",
       "              title=\"Convert this dataframe to an interactive table.\"\n",
       "              style=\"display:none;\">\n",
       "        \n",
       "  <svg xmlns=\"http://www.w3.org/2000/svg\" height=\"24px\"viewBox=\"0 0 24 24\"\n",
       "       width=\"24px\">\n",
       "    <path d=\"M0 0h24v24H0V0z\" fill=\"none\"/>\n",
       "    <path d=\"M18.56 5.44l.94 2.06.94-2.06 2.06-.94-2.06-.94-.94-2.06-.94 2.06-2.06.94zm-11 1L8.5 8.5l.94-2.06 2.06-.94-2.06-.94L8.5 2.5l-.94 2.06-2.06.94zm10 10l.94 2.06.94-2.06 2.06-.94-2.06-.94-.94-2.06-.94 2.06-2.06.94z\"/><path d=\"M17.41 7.96l-1.37-1.37c-.4-.4-.92-.59-1.43-.59-.52 0-1.04.2-1.43.59L10.3 9.45l-7.72 7.72c-.78.78-.78 2.05 0 2.83L4 21.41c.39.39.9.59 1.41.59.51 0 1.02-.2 1.41-.59l7.78-7.78 2.81-2.81c.8-.78.8-2.07 0-2.86zM5.41 20L4 18.59l7.72-7.72 1.47 1.35L5.41 20z\"/>\n",
       "  </svg>\n",
       "      </button>\n",
       "      \n",
       "  <style>\n",
       "    .colab-df-container {\n",
       "      display:flex;\n",
       "      flex-wrap:wrap;\n",
       "      gap: 12px;\n",
       "    }\n",
       "\n",
       "    .colab-df-convert {\n",
       "      background-color: #E8F0FE;\n",
       "      border: none;\n",
       "      border-radius: 50%;\n",
       "      cursor: pointer;\n",
       "      display: none;\n",
       "      fill: #1967D2;\n",
       "      height: 32px;\n",
       "      padding: 0 0 0 0;\n",
       "      width: 32px;\n",
       "    }\n",
       "\n",
       "    .colab-df-convert:hover {\n",
       "      background-color: #E2EBFA;\n",
       "      box-shadow: 0px 1px 2px rgba(60, 64, 67, 0.3), 0px 1px 3px 1px rgba(60, 64, 67, 0.15);\n",
       "      fill: #174EA6;\n",
       "    }\n",
       "\n",
       "    [theme=dark] .colab-df-convert {\n",
       "      background-color: #3B4455;\n",
       "      fill: #D2E3FC;\n",
       "    }\n",
       "\n",
       "    [theme=dark] .colab-df-convert:hover {\n",
       "      background-color: #434B5C;\n",
       "      box-shadow: 0px 1px 3px 1px rgba(0, 0, 0, 0.15);\n",
       "      filter: drop-shadow(0px 1px 2px rgba(0, 0, 0, 0.3));\n",
       "      fill: #FFFFFF;\n",
       "    }\n",
       "  </style>\n",
       "\n",
       "      <script>\n",
       "        const buttonEl =\n",
       "          document.querySelector('#df-41761298-5ad1-45b4-a89d-fd0c37099baa button.colab-df-convert');\n",
       "        buttonEl.style.display =\n",
       "          google.colab.kernel.accessAllowed ? 'block' : 'none';\n",
       "\n",
       "        async function convertToInteractive(key) {\n",
       "          const element = document.querySelector('#df-41761298-5ad1-45b4-a89d-fd0c37099baa');\n",
       "          const dataTable =\n",
       "            await google.colab.kernel.invokeFunction('convertToInteractive',\n",
       "                                                     [key], {});\n",
       "          if (!dataTable) return;\n",
       "\n",
       "          const docLinkHtml = 'Like what you see? Visit the ' +\n",
       "            '<a target=\"_blank\" href=https://colab.research.google.com/notebooks/data_table.ipynb>data table notebook</a>'\n",
       "            + ' to learn more about interactive tables.';\n",
       "          element.innerHTML = '';\n",
       "          dataTable['output_type'] = 'display_data';\n",
       "          await google.colab.output.renderOutput(dataTable, element);\n",
       "          const docLink = document.createElement('div');\n",
       "          docLink.innerHTML = docLinkHtml;\n",
       "          element.appendChild(docLink);\n",
       "        }\n",
       "      </script>\n",
       "    </div>\n",
       "  </div>\n",
       "  "
      ],
      "text/plain": [
       "        Score                                               Text  \\\n",
       "124918      1  I purchased this thinking \"what a great deal!\"...   \n",
       "147399      4  These thinkThin \"100 Chocolate Toffee Nut Bite...   \n",
       "5435        5  I purchased some of this special habanero sauc...   \n",
       "497248      3  My daughter loves this stuff.  I thought it ta...   \n",
       "219223      4  I have tried virtually every variety of the Bo...   \n",
       "\n",
       "                                                cleanText  Polarity  \\\n",
       "124918  purchased thinking great deal know really bad ...  0.010714   \n",
       "147399  thinkthin chocolate toffee nut bite good tasti...  0.362500   \n",
       "5435    purchased special habanero sauce past year sup...  0.336640   \n",
       "497248  daughter love stuff thought tasted pretty good...  0.164062   \n",
       "219223  tried virtually every variety body armor brand...  0.234615   \n",
       "\n",
       "        Subjectivity  \n",
       "124918      0.422619  \n",
       "147399      0.425000  \n",
       "5435        0.546958  \n",
       "497248      0.643750  \n",
       "219223      0.617949  "
      ]
     },
     "execution_count": 72,
     "metadata": {},
     "output_type": "execute_result"
    }
   ],
   "source": [
    "rating_Pattern.head()"
   ]
  },
  {
   "cell_type": "code",
   "execution_count": 73,
   "metadata": {
    "colab": {
     "base_uri": "https://localhost:8080/",
     "height": 153
    },
    "id": "r7Xf1bUZezJc",
    "outputId": "4c752a89-5bfb-4110-8b2d-ce6daee2e89e"
   },
   "outputs": [
    {
     "data": {
      "image/png": "[encoded data removed]",
      "text/plain": [
       "<Figure size 864x144 with 2 Axes>"
      ]
     },
     "metadata": {
      "needs_background": "light"
     },
     "output_type": "display_data"
    }
   ],
   "source": [
    "fig, axs = plt.subplots(1, 2, figsize=(12, 2))\n",
    "sns.barplot(data=rating_Pattern, x='Score', y='Polarity', ax=axs[0])\n",
    "sns.barplot(data=rating_Pattern, x='Score', y='Subjectivity', ax=axs[1])\n",
    "axs[0].set_title('Polarity')\n",
    "axs[1].set_title('Subjectivity')\n",
    "plt.tight_layout()\n",
    "plt.show()"
   ]
  },
  {
   "cell_type": "markdown",
   "metadata": {
    "id": "uPsYPve5lxmo"
   },
   "source": [
    "***Business Insights***\n",
    "\n",
    "Here we can see that high scores are having high polarity which means  that higher scores are having postive sentiments.\n",
    "\n",
    "All the subjectivity scores are above 0.4, a higher subjectivity score implies that we are having more personal sentences."
   ]
  },
  {
   "cell_type": "markdown",
   "metadata": {
    "id": "da1tyfS2nRsS"
   },
   "source": [
    "***Using TEXTBLOB***"
   ]
  },
  {
   "cell_type": "code",
   "execution_count": 74,
   "metadata": {
    "id": "Fde9t3vwgjZv"
   },
   "outputs": [],
   "source": [
    "from textblob import TextBlob"
   ]
  },
  {
   "cell_type": "code",
   "execution_count": 98,
   "metadata": {
    "id": "hMszjkfBngPk"
   },
   "outputs": [],
   "source": [
    "rating_tb = pd.DataFrame(rating_df, columns=['Score', 'Text','cleanText'])"
   ]
  },
  {
   "cell_type": "code",
   "execution_count": 99,
   "metadata": {
    "id": "x9-O3wdwnWEj"
   },
   "outputs": [],
   "source": [
    "def sentiment_analysis(rating_tb):\n",
    " def getSubjectivity(text):\n",
    "   return TextBlob(text).sentiment.subjectivity\n",
    "  \n",
    " #Create a function to get the polarity\n",
    " def getPolarity(text):\n",
    "   return TextBlob(text).sentiment.polarity\n",
    "  \n",
    " #Create two new columns ‘Subjectivity’ & ‘Polarity’\n",
    " rating_tb['TextBlob_Subjectivity'] = rating_tb['cleanText'].apply(getSubjectivity)\n",
    " rating_tb['TextBlob_Polarity'] = rating_tb['cleanText'].apply(getPolarity)\n",
    " def getAnalysis(score):\n",
    "  if score < 0:\n",
    "    return 'Negative'\n",
    "  elif score == 0:\n",
    "    return 'Neutral'\n",
    "  else:\n",
    "    return 'Positive'\n",
    " rating_tb['TextBlob_Analysis'] = rating_tb['TextBlob_Polarity'].apply(getAnalysis)\n",
    " return rating_tb"
   ]
  },
  {
   "cell_type": "code",
   "execution_count": 100,
   "metadata": {
    "colab": {
     "base_uri": "https://localhost:8080/",
     "height": 424
    },
    "id": "ZsEiShOBsV8O",
    "outputId": "bd57c712-96ac-4496-930c-7e862d1c46d8"
   },
   "outputs": [
    {
     "data": {
      "text/html": [
       "\n",
       "  <div id=\"df-583226e5-aee3-4fd0-b915-7dc99158a4d1\">\n",
       "    <div class=\"colab-df-container\">\n",
       "      <div>\n",
       "<style scoped>\n",
       "    .dataframe tbody tr th:only-of-type {\n",
       "        vertical-align: middle;\n",
       "    }\n",
       "\n",
       "    .dataframe tbody tr th {\n",
       "        vertical-align: top;\n",
       "    }\n",
       "\n",
       "    .dataframe thead th {\n",
       "        text-align: right;\n",
       "    }\n",
       "</style>\n",
       "<table border=\"1\" class=\"dataframe\">\n",
       "  <thead>\n",
       "    <tr style=\"text-align: right;\">\n",
       "      <th></th>\n",
       "      <th>Score</th>\n",
       "      <th>Text</th>\n",
       "      <th>cleanText</th>\n",
       "      <th>TextBlob_Subjectivity</th>\n",
       "      <th>TextBlob_Polarity</th>\n",
       "      <th>TextBlob_Analysis</th>\n",
       "    </tr>\n",
       "  </thead>\n",
       "  <tbody>\n",
       "    <tr>\n",
       "      <th>124918</th>\n",
       "      <td>1</td>\n",
       "      <td>I purchased this thinking \"what a great deal!\"...</td>\n",
       "      <td>purchased thinking great deal know really bad ...</td>\n",
       "      <td>0.422619</td>\n",
       "      <td>0.010714</td>\n",
       "      <td>Positive</td>\n",
       "    </tr>\n",
       "    <tr>\n",
       "      <th>147399</th>\n",
       "      <td>4</td>\n",
       "      <td>These thinkThin \"100 Chocolate Toffee Nut Bite...</td>\n",
       "      <td>thinkthin chocolate toffee nut bite good tasti...</td>\n",
       "      <td>0.425000</td>\n",
       "      <td>0.362500</td>\n",
       "      <td>Positive</td>\n",
       "    </tr>\n",
       "    <tr>\n",
       "      <th>5435</th>\n",
       "      <td>5</td>\n",
       "      <td>I purchased some of this special habanero sauc...</td>\n",
       "      <td>purchased special habanero sauce past year sup...</td>\n",
       "      <td>0.546958</td>\n",
       "      <td>0.336640</td>\n",
       "      <td>Positive</td>\n",
       "    </tr>\n",
       "    <tr>\n",
       "      <th>497248</th>\n",
       "      <td>3</td>\n",
       "      <td>My daughter loves this stuff.  I thought it ta...</td>\n",
       "      <td>daughter love stuff thought tasted pretty good...</td>\n",
       "      <td>0.643750</td>\n",
       "      <td>0.164062</td>\n",
       "      <td>Positive</td>\n",
       "    </tr>\n",
       "    <tr>\n",
       "      <th>219223</th>\n",
       "      <td>4</td>\n",
       "      <td>I have tried virtually every variety of the Bo...</td>\n",
       "      <td>tried virtually every variety body armor brand...</td>\n",
       "      <td>0.617949</td>\n",
       "      <td>0.234615</td>\n",
       "      <td>Positive</td>\n",
       "    </tr>\n",
       "    <tr>\n",
       "      <th>...</th>\n",
       "      <td>...</td>\n",
       "      <td>...</td>\n",
       "      <td>...</td>\n",
       "      <td>...</td>\n",
       "      <td>...</td>\n",
       "      <td>...</td>\n",
       "    </tr>\n",
       "    <tr>\n",
       "      <th>286291</th>\n",
       "      <td>3</td>\n",
       "      <td>I am an expat living in Thailand so I know a t...</td>\n",
       "      <td>expat living thailand know thing two thai spic...</td>\n",
       "      <td>0.504889</td>\n",
       "      <td>0.134000</td>\n",
       "      <td>Positive</td>\n",
       "    </tr>\n",
       "    <tr>\n",
       "      <th>390514</th>\n",
       "      <td>3</td>\n",
       "      <td>This product is widely available in my area at...</td>\n",
       "      <td>product widely available area local grocery st...</td>\n",
       "      <td>0.465741</td>\n",
       "      <td>0.123611</td>\n",
       "      <td>Positive</td>\n",
       "    </tr>\n",
       "    <tr>\n",
       "      <th>295707</th>\n",
       "      <td>2</td>\n",
       "      <td>My main beef with this product is with the lab...</td>\n",
       "      <td>main beef product labeling box labeled decepti...</td>\n",
       "      <td>0.483333</td>\n",
       "      <td>-0.070909</td>\n",
       "      <td>Negative</td>\n",
       "    </tr>\n",
       "    <tr>\n",
       "      <th>465988</th>\n",
       "      <td>4</td>\n",
       "      <td>I have been drinking this tea every night just...</td>\n",
       "      <td>drinking tea every night benefit claim produce...</td>\n",
       "      <td>0.423485</td>\n",
       "      <td>-0.049242</td>\n",
       "      <td>Negative</td>\n",
       "    </tr>\n",
       "    <tr>\n",
       "      <th>80261</th>\n",
       "      <td>5</td>\n",
       "      <td>Wonderful hot cocoa! Great flavor, its very im...</td>\n",
       "      <td>wonderful hot cocoa great flavor important sha...</td>\n",
       "      <td>0.772619</td>\n",
       "      <td>0.455952</td>\n",
       "      <td>Positive</td>\n",
       "    </tr>\n",
       "  </tbody>\n",
       "</table>\n",
       "<p>56838 rows × 6 columns</p>\n",
       "</div>\n",
       "      <button class=\"colab-df-convert\" onclick=\"convertToInteractive('df-583226e5-aee3-4fd0-b915-7dc99158a4d1')\"\n",
       "              title=\"Convert this dataframe to an interactive table.\"\n",
       "              style=\"display:none;\">\n",
       "        \n",
       "  <svg xmlns=\"http://www.w3.org/2000/svg\" height=\"24px\"viewBox=\"0 0 24 24\"\n",
       "       width=\"24px\">\n",
       "    <path d=\"M0 0h24v24H0V0z\" fill=\"none\"/>\n",
       "    <path d=\"M18.56 5.44l.94 2.06.94-2.06 2.06-.94-2.06-.94-.94-2.06-.94 2.06-2.06.94zm-11 1L8.5 8.5l.94-2.06 2.06-.94-2.06-.94L8.5 2.5l-.94 2.06-2.06.94zm10 10l.94 2.06.94-2.06 2.06-.94-2.06-.94-.94-2.06-.94 2.06-2.06.94z\"/><path d=\"M17.41 7.96l-1.37-1.37c-.4-.4-.92-.59-1.43-.59-.52 0-1.04.2-1.43.59L10.3 9.45l-7.72 7.72c-.78.78-.78 2.05 0 2.83L4 21.41c.39.39.9.59 1.41.59.51 0 1.02-.2 1.41-.59l7.78-7.78 2.81-2.81c.8-.78.8-2.07 0-2.86zM5.41 20L4 18.59l7.72-7.72 1.47 1.35L5.41 20z\"/>\n",
       "  </svg>\n",
       "      </button>\n",
       "      \n",
       "  <style>\n",
       "    .colab-df-container {\n",
       "      display:flex;\n",
       "      flex-wrap:wrap;\n",
       "      gap: 12px;\n",
       "    }\n",
       "\n",
       "    .colab-df-convert {\n",
       "      background-color: #E8F0FE;\n",
       "      border: none;\n",
       "      border-radius: 50%;\n",
       "      cursor: pointer;\n",
       "      display: none;\n",
       "      fill: #1967D2;\n",
       "      height: 32px;\n",
       "      padding: 0 0 0 0;\n",
       "      width: 32px;\n",
       "    }\n",
       "\n",
       "    .colab-df-convert:hover {\n",
       "      background-color: #E2EBFA;\n",
       "      box-shadow: 0px 1px 2px rgba(60, 64, 67, 0.3), 0px 1px 3px 1px rgba(60, 64, 67, 0.15);\n",
       "      fill: #174EA6;\n",
       "    }\n",
       "\n",
       "    [theme=dark] .colab-df-convert {\n",
       "      background-color: #3B4455;\n",
       "      fill: #D2E3FC;\n",
       "    }\n",
       "\n",
       "    [theme=dark] .colab-df-convert:hover {\n",
       "      background-color: #434B5C;\n",
       "      box-shadow: 0px 1px 3px 1px rgba(0, 0, 0, 0.15);\n",
       "      filter: drop-shadow(0px 1px 2px rgba(0, 0, 0, 0.3));\n",
       "      fill: #FFFFFF;\n",
       "    }\n",
       "  </style>\n",
       "\n",
       "      <script>\n",
       "        const buttonEl =\n",
       "          document.querySelector('#df-583226e5-aee3-4fd0-b915-7dc99158a4d1 button.colab-df-convert');\n",
       "        buttonEl.style.display =\n",
       "          google.colab.kernel.accessAllowed ? 'block' : 'none';\n",
       "\n",
       "        async function convertToInteractive(key) {\n",
       "          const element = document.querySelector('#df-583226e5-aee3-4fd0-b915-7dc99158a4d1');\n",
       "          const dataTable =\n",
       "            await google.colab.kernel.invokeFunction('convertToInteractive',\n",
       "                                                     [key], {});\n",
       "          if (!dataTable) return;\n",
       "\n",
       "          const docLinkHtml = 'Like what you see? Visit the ' +\n",
       "            '<a target=\"_blank\" href=https://colab.research.google.com/notebooks/data_table.ipynb>data table notebook</a>'\n",
       "            + ' to learn more about interactive tables.';\n",
       "          element.innerHTML = '';\n",
       "          dataTable['output_type'] = 'display_data';\n",
       "          await google.colab.output.renderOutput(dataTable, element);\n",
       "          const docLink = document.createElement('div');\n",
       "          docLink.innerHTML = docLinkHtml;\n",
       "          element.appendChild(docLink);\n",
       "        }\n",
       "      </script>\n",
       "    </div>\n",
       "  </div>\n",
       "  "
      ],
      "text/plain": [
       "        Score                                               Text  \\\n",
       "124918      1  I purchased this thinking \"what a great deal!\"...   \n",
       "147399      4  These thinkThin \"100 Chocolate Toffee Nut Bite...   \n",
       "5435        5  I purchased some of this special habanero sauc...   \n",
       "497248      3  My daughter loves this stuff.  I thought it ta...   \n",
       "219223      4  I have tried virtually every variety of the Bo...   \n",
       "...       ...                                                ...   \n",
       "286291      3  I am an expat living in Thailand so I know a t...   \n",
       "390514      3  This product is widely available in my area at...   \n",
       "295707      2  My main beef with this product is with the lab...   \n",
       "465988      4  I have been drinking this tea every night just...   \n",
       "80261       5  Wonderful hot cocoa! Great flavor, its very im...   \n",
       "\n",
       "                                                cleanText  \\\n",
       "124918  purchased thinking great deal know really bad ...   \n",
       "147399  thinkthin chocolate toffee nut bite good tasti...   \n",
       "5435    purchased special habanero sauce past year sup...   \n",
       "497248  daughter love stuff thought tasted pretty good...   \n",
       "219223  tried virtually every variety body armor brand...   \n",
       "...                                                   ...   \n",
       "286291  expat living thailand know thing two thai spic...   \n",
       "390514  product widely available area local grocery st...   \n",
       "295707  main beef product labeling box labeled decepti...   \n",
       "465988  drinking tea every night benefit claim produce...   \n",
       "80261   wonderful hot cocoa great flavor important sha...   \n",
       "\n",
       "        TextBlob_Subjectivity  TextBlob_Polarity TextBlob_Analysis  \n",
       "124918               0.422619           0.010714          Positive  \n",
       "147399               0.425000           0.362500          Positive  \n",
       "5435                 0.546958           0.336640          Positive  \n",
       "497248               0.643750           0.164062          Positive  \n",
       "219223               0.617949           0.234615          Positive  \n",
       "...                       ...                ...               ...  \n",
       "286291               0.504889           0.134000          Positive  \n",
       "390514               0.465741           0.123611          Positive  \n",
       "295707               0.483333          -0.070909          Negative  \n",
       "465988               0.423485          -0.049242          Negative  \n",
       "80261                0.772619           0.455952          Positive  \n",
       "\n",
       "[56838 rows x 6 columns]"
      ]
     },
     "execution_count": 100,
     "metadata": {},
     "output_type": "execute_result"
    }
   ],
   "source": [
    "sentiment_analysis(rating_tb)"
   ]
  },
  {
   "cell_type": "code",
   "execution_count": 102,
   "metadata": {
    "colab": {
     "base_uri": "https://localhost:8080/",
     "height": 697
    },
    "id": "KN5z3E_xyP6g",
    "outputId": "f8fb5aeb-1af0-4691-c1ba-55c6fbe4112f"
   },
   "outputs": [
    {
     "name": "stderr",
     "output_type": "stream",
     "text": [
      "/usr/local/lib/python3.7/dist-packages/seaborn/_decorators.py:43: FutureWarning: Pass the following variable as a keyword arg: x. From version 0.12, the only valid positional argument will be `data`, and passing other arguments without an explicit keyword will result in an error or misinterpretation.\n",
      "  FutureWarning\n"
     ]
    },
    {
     "data": {
      "text/plain": [
       "Text(0.5, 1.0, 'Positive vs Negative vs Neutral Label count')"
      ]
     },
     "execution_count": 102,
     "metadata": {},
     "output_type": "execute_result"
    },
    {
     "data": {
      "image/png": "[encoded data removed]",
      "text/plain": [
       "<Figure size 720x720 with 1 Axes>"
      ]
     },
     "metadata": {
      "needs_background": "light"
     },
     "output_type": "display_data"
    }
   ],
   "source": [
    "import seaborn as sns\n",
    "sns.countplot(rating_tb['TextBlob_Analysis'], palette=\"plasma\")\n",
    "fig = plt.gcf()\n",
    "fig.set_size_inches(10,10)\n",
    "plt.title('Positive vs Negative vs Neutral Label count')"
   ]
  },
  {
   "cell_type": "markdown",
   "metadata": {
    "id": "cqJHlaqBzmiI"
   },
   "source": [
    "***Business Insights***\n",
    "\n",
    "We have highest number of positive sentiments for this product/service. So, we can say that this product/service is doing ***great*** in the market.\n",
    "\n",
    "We have observe that this product/service is having very less negative sentiments as compare to their positive ones which shows that the market is ***BOOM*** for them."
   ]
  }
 ],
 "metadata": {
  "colab": {
   "collapsed_sections": [],
   "provenance": []
  },
  "kernelspec": {
   "display_name": "Python 3",
   "language": "python",
   "name": "python3"
  },
  "language_info": {
   "codemirror_mode": {
    "name": "ipython",
    "version": 3
   },
   "file_extension": ".py",
   "mimetype": "text/x-python",
   "name": "python",
   "nbconvert_exporter": "python",
   "pygments_lexer": "ipython3",
   "version": "3.8.8"
  },
  "widgets": {
   "application/vnd.jupyter.widget-state+json": {
    "04a21c4899b54a3da62cb04a377988fb": {
     "model_module": "@jupyter-widgets/controls",
     "model_module_version": "1.5.0",
     "model_name": "HBoxModel",
     "state": {
      "_dom_classes": [],
      "_model_module": "@jupyter-widgets/controls",
      "_model_module_version": "1.5.0",
      "_model_name": "HBoxModel",
      "_view_count": null,
      "_view_module": "@jupyter-widgets/controls",
      "_view_module_version": "1.5.0",
      "_view_name": "HBoxView",
      "box_style": "",
      "children": [
       "IPY_MODEL_c364b4c53fbc4abfa0a9e5346c93d8ca",
       "IPY_MODEL_d060f68a092744abb5400cb51e9bde60",
       "IPY_MODEL_e853364885084cd28092a5d673bb4e4c"
      ],
      "layout": "IPY_MODEL_90b9452ca831466b95a1a47b3807919d"
     }
    },
    "08a016e825394afaba8bd2ba6e1a032c": {
     "model_module": "@jupyter-widgets/base",
     "model_module_version": "1.2.0",
     "model_name": "LayoutModel",
     "state": {
      "_model_module": "@jupyter-widgets/base",
      "_model_module_version": "1.2.0",
      "_model_name": "LayoutModel",
      "_view_count": null,
      "_view_module": "@jupyter-widgets/base",
      "_view_module_version": "1.2.0",
      "_view_name": "LayoutView",
      "align_content": null,
      "align_items": null,
      "align_self": null,
      "border": null,
      "bottom": null,
      "display": null,
      "flex": null,
      "flex_flow": null,
      "grid_area": null,
      "grid_auto_columns": null,
      "grid_auto_flow": null,
      "grid_auto_rows": null,
      "grid_column": null,
      "grid_gap": null,
      "grid_row": null,
      "grid_template_areas": null,
      "grid_template_columns": null,
      "grid_template_rows": null,
      "height": null,
      "justify_content": null,
      "justify_items": null,
      "left": null,
      "margin": null,
      "max_height": null,
      "max_width": null,
      "min_height": null,
      "min_width": null,
      "object_fit": null,
      "object_position": null,
      "order": null,
      "overflow": null,
      "overflow_x": null,
      "overflow_y": null,
      "padding": null,
      "right": null,
      "top": null,
      "visibility": null,
      "width": null
     }
    },
    "0ac20837d4134da1a2a3cc2f60ae65da": {
     "model_module": "@jupyter-widgets/base",
     "model_module_version": "1.2.0",
     "model_name": "LayoutModel",
     "state": {
      "_model_module": "@jupyter-widgets/base",
      "_model_module_version": "1.2.0",
      "_model_name": "LayoutModel",
      "_view_count": null,
      "_view_module": "@jupyter-widgets/base",
      "_view_module_version": "1.2.0",
      "_view_name": "LayoutView",
      "align_content": null,
      "align_items": null,
      "align_self": null,
      "border": null,
      "bottom": null,
      "display": null,
      "flex": null,
      "flex_flow": null,
      "grid_area": null,
      "grid_auto_columns": null,
      "grid_auto_flow": null,
      "grid_auto_rows": null,
      "grid_column": null,
      "grid_gap": null,
      "grid_row": null,
      "grid_template_areas": null,
      "grid_template_columns": null,
      "grid_template_rows": null,
      "height": null,
      "justify_content": null,
      "justify_items": null,
      "left": null,
      "margin": null,
      "max_height": null,
      "max_width": null,
      "min_height": null,
      "min_width": null,
      "object_fit": null,
      "object_position": null,
      "order": null,
      "overflow": null,
      "overflow_x": null,
      "overflow_y": null,
      "padding": null,
      "right": null,
      "top": null,
      "visibility": null,
      "width": null
     }
    },
    "0eb8e5edeb82460782d31da2461dc658": {
     "model_module": "@jupyter-widgets/controls",
     "model_module_version": "1.5.0",
     "model_name": "HTMLModel",
     "state": {
      "_dom_classes": [],
      "_model_module": "@jupyter-widgets/controls",
      "_model_module_version": "1.5.0",
      "_model_name": "HTMLModel",
      "_view_count": null,
      "_view_module": "@jupyter-widgets/controls",
      "_view_module_version": "1.5.0",
      "_view_name": "HTMLView",
      "description": "",
      "description_tooltip": null,
      "layout": "IPY_MODEL_63ab57ba8a924754834ea63300901c8e",
      "placeholder": "​",
      "style": "IPY_MODEL_397e32c2cdb74e17b80fb2f005e8305c",
      "value": " 232k/232k [00:00&lt;00:00, 6.14kB/s]"
     }
    },
    "105d8c9e4f3c435b8d460e66c2415392": {
     "model_module": "@jupyter-widgets/base",
     "model_module_version": "1.2.0",
     "model_name": "LayoutModel",
     "state": {
      "_model_module": "@jupyter-widgets/base",
      "_model_module_version": "1.2.0",
      "_model_name": "LayoutModel",
      "_view_count": null,
      "_view_module": "@jupyter-widgets/base",
      "_view_module_version": "1.2.0",
      "_view_name": "LayoutView",
      "align_content": null,
      "align_items": null,
      "align_self": null,
      "border": null,
      "bottom": null,
      "display": null,
      "flex": null,
      "flex_flow": null,
      "grid_area": null,
      "grid_auto_columns": null,
      "grid_auto_flow": null,
      "grid_auto_rows": null,
      "grid_column": null,
      "grid_gap": null,
      "grid_row": null,
      "grid_template_areas": null,
      "grid_template_columns": null,
      "grid_template_rows": null,
      "height": null,
      "justify_content": null,
      "justify_items": null,
      "left": null,
      "margin": null,
      "max_height": null,
      "max_width": null,
      "min_height": null,
      "min_width": null,
      "object_fit": null,
      "object_position": null,
      "order": null,
      "overflow": null,
      "overflow_x": null,
      "overflow_y": null,
      "padding": null,
      "right": null,
      "top": null,
      "visibility": null,
      "width": null
     }
    },
    "157cd1f150a343d2a6a8f2a67abc8cde": {
     "model_module": "@jupyter-widgets/base",
     "model_module_version": "1.2.0",
     "model_name": "LayoutModel",
     "state": {
      "_model_module": "@jupyter-widgets/base",
      "_model_module_version": "1.2.0",
      "_model_name": "LayoutModel",
      "_view_count": null,
      "_view_module": "@jupyter-widgets/base",
      "_view_module_version": "1.2.0",
      "_view_name": "LayoutView",
      "align_content": null,
      "align_items": null,
      "align_self": null,
      "border": null,
      "bottom": null,
      "display": null,
      "flex": null,
      "flex_flow": null,
      "grid_area": null,
      "grid_auto_columns": null,
      "grid_auto_flow": null,
      "grid_auto_rows": null,
      "grid_column": null,
      "grid_gap": null,
      "grid_row": null,
      "grid_template_areas": null,
      "grid_template_columns": null,
      "grid_template_rows": null,
      "height": null,
      "justify_content": null,
      "justify_items": null,
      "left": null,
      "margin": null,
      "max_height": null,
      "max_width": null,
      "min_height": null,
      "min_width": null,
      "object_fit": null,
      "object_position": null,
      "order": null,
      "overflow": null,
      "overflow_x": null,
      "overflow_y": null,
      "padding": null,
      "right": null,
      "top": null,
      "visibility": null,
      "width": null
     }
    },
    "1bd9a5f85245479bb01d1efc28705c33": {
     "model_module": "@jupyter-widgets/controls",
     "model_module_version": "1.5.0",
     "model_name": "FloatProgressModel",
     "state": {
      "_dom_classes": [],
      "_model_module": "@jupyter-widgets/controls",
      "_model_module_version": "1.5.0",
      "_model_name": "FloatProgressModel",
      "_view_count": null,
      "_view_module": "@jupyter-widgets/controls",
      "_view_module_version": "1.5.0",
      "_view_name": "ProgressView",
      "bar_style": "success",
      "description": "",
      "description_tooltip": null,
      "layout": "IPY_MODEL_157cd1f150a343d2a6a8f2a67abc8cde",
      "max": 267844284,
      "min": 0,
      "orientation": "horizontal",
      "style": "IPY_MODEL_b817d7cd1d4c4303810b360a017a4997",
      "value": 267844284
     }
    },
    "1bf2b3d59daf42abb45d07e1c2e62878": {
     "model_module": "@jupyter-widgets/controls",
     "model_module_version": "1.5.0",
     "model_name": "ProgressStyleModel",
     "state": {
      "_model_module": "@jupyter-widgets/controls",
      "_model_module_version": "1.5.0",
      "_model_name": "ProgressStyleModel",
      "_view_count": null,
      "_view_module": "@jupyter-widgets/base",
      "_view_module_version": "1.2.0",
      "_view_name": "StyleView",
      "bar_color": null,
      "description_width": ""
     }
    },
    "222902ffcd814e7d8c2d43e8ebd01489": {
     "model_module": "@jupyter-widgets/base",
     "model_module_version": "1.2.0",
     "model_name": "LayoutModel",
     "state": {
      "_model_module": "@jupyter-widgets/base",
      "_model_module_version": "1.2.0",
      "_model_name": "LayoutModel",
      "_view_count": null,
      "_view_module": "@jupyter-widgets/base",
      "_view_module_version": "1.2.0",
      "_view_name": "LayoutView",
      "align_content": null,
      "align_items": null,
      "align_self": null,
      "border": null,
      "bottom": null,
      "display": null,
      "flex": null,
      "flex_flow": null,
      "grid_area": null,
      "grid_auto_columns": null,
      "grid_auto_flow": null,
      "grid_auto_rows": null,
      "grid_column": null,
      "grid_gap": null,
      "grid_row": null,
      "grid_template_areas": null,
      "grid_template_columns": null,
      "grid_template_rows": null,
      "height": null,
      "justify_content": null,
      "justify_items": null,
      "left": null,
      "margin": null,
      "max_height": null,
      "max_width": null,
      "min_height": null,
      "min_width": null,
      "object_fit": null,
      "object_position": null,
      "order": null,
      "overflow": null,
      "overflow_x": null,
      "overflow_y": null,
      "padding": null,
      "right": null,
      "top": null,
      "visibility": null,
      "width": null
     }
    },
    "2379405948e64aa19a7846b3c27d1dc2": {
     "model_module": "@jupyter-widgets/controls",
     "model_module_version": "1.5.0",
     "model_name": "HTMLModel",
     "state": {
      "_dom_classes": [],
      "_model_module": "@jupyter-widgets/controls",
      "_model_module_version": "1.5.0",
      "_model_name": "HTMLModel",
      "_view_count": null,
      "_view_module": "@jupyter-widgets/controls",
      "_view_module_version": "1.5.0",
      "_view_name": "HTMLView",
      "description": "",
      "description_tooltip": null,
      "layout": "IPY_MODEL_592e513612704cfe8935bfe380a9aeff",
      "placeholder": "​",
      "style": "IPY_MODEL_9235d98a749d48e18bfe56a88bf94f6b",
      "value": " 48.0/48.0 [00:00&lt;00:00, 416B/s]"
     }
    },
    "246de737617b4cf99366ce34563bb039": {
     "model_module": "@jupyter-widgets/base",
     "model_module_version": "1.2.0",
     "model_name": "LayoutModel",
     "state": {
      "_model_module": "@jupyter-widgets/base",
      "_model_module_version": "1.2.0",
      "_model_name": "LayoutModel",
      "_view_count": null,
      "_view_module": "@jupyter-widgets/base",
      "_view_module_version": "1.2.0",
      "_view_name": "LayoutView",
      "align_content": null,
      "align_items": null,
      "align_self": null,
      "border": null,
      "bottom": null,
      "display": null,
      "flex": null,
      "flex_flow": null,
      "grid_area": null,
      "grid_auto_columns": null,
      "grid_auto_flow": null,
      "grid_auto_rows": null,
      "grid_column": null,
      "grid_gap": null,
      "grid_row": null,
      "grid_template_areas": null,
      "grid_template_columns": null,
      "grid_template_rows": null,
      "height": null,
      "justify_content": null,
      "justify_items": null,
      "left": null,
      "margin": null,
      "max_height": null,
      "max_width": null,
      "min_height": null,
      "min_width": null,
      "object_fit": null,
      "object_position": null,
      "order": null,
      "overflow": null,
      "overflow_x": null,
      "overflow_y": null,
      "padding": null,
      "right": null,
      "top": null,
      "visibility": null,
      "width": null
     }
    },
    "397e32c2cdb74e17b80fb2f005e8305c": {
     "model_module": "@jupyter-widgets/controls",
     "model_module_version": "1.5.0",
     "model_name": "DescriptionStyleModel",
     "state": {
      "_model_module": "@jupyter-widgets/controls",
      "_model_module_version": "1.5.0",
      "_model_name": "DescriptionStyleModel",
      "_view_count": null,
      "_view_module": "@jupyter-widgets/base",
      "_view_module_version": "1.2.0",
      "_view_name": "StyleView",
      "description_width": ""
     }
    },
    "4291626e61964cbe9f2c0b9c4c43275f": {
     "model_module": "@jupyter-widgets/controls",
     "model_module_version": "1.5.0",
     "model_name": "ProgressStyleModel",
     "state": {
      "_model_module": "@jupyter-widgets/controls",
      "_model_module_version": "1.5.0",
      "_model_name": "ProgressStyleModel",
      "_view_count": null,
      "_view_module": "@jupyter-widgets/base",
      "_view_module_version": "1.2.0",
      "_view_name": "StyleView",
      "bar_color": null,
      "description_width": ""
     }
    },
    "446eb6b3e0244ada935e669bf106dfbf": {
     "model_module": "@jupyter-widgets/controls",
     "model_module_version": "1.5.0",
     "model_name": "DescriptionStyleModel",
     "state": {
      "_model_module": "@jupyter-widgets/controls",
      "_model_module_version": "1.5.0",
      "_model_name": "DescriptionStyleModel",
      "_view_count": null,
      "_view_module": "@jupyter-widgets/base",
      "_view_module_version": "1.2.0",
      "_view_name": "StyleView",
      "description_width": ""
     }
    },
    "4bd70d167b894f15b6de53011e2a27de": {
     "model_module": "@jupyter-widgets/controls",
     "model_module_version": "1.5.0",
     "model_name": "DescriptionStyleModel",
     "state": {
      "_model_module": "@jupyter-widgets/controls",
      "_model_module_version": "1.5.0",
      "_model_name": "DescriptionStyleModel",
      "_view_count": null,
      "_view_module": "@jupyter-widgets/base",
      "_view_module_version": "1.2.0",
      "_view_name": "StyleView",
      "description_width": ""
     }
    },
    "4f7376296a5f4b92860a79e233d2dffd": {
     "model_module": "@jupyter-widgets/controls",
     "model_module_version": "1.5.0",
     "model_name": "HBoxModel",
     "state": {
      "_dom_classes": [],
      "_model_module": "@jupyter-widgets/controls",
      "_model_module_version": "1.5.0",
      "_model_name": "HBoxModel",
      "_view_count": null,
      "_view_module": "@jupyter-widgets/controls",
      "_view_module_version": "1.5.0",
      "_view_name": "HBoxView",
      "box_style": "",
      "children": [
       "IPY_MODEL_e0c1e3d44cf8462ea64915a423dc6695",
       "IPY_MODEL_68b00cbf5e844b128513b5d2492c236b",
       "IPY_MODEL_0eb8e5edeb82460782d31da2461dc658"
      ],
      "layout": "IPY_MODEL_08a016e825394afaba8bd2ba6e1a032c"
     }
    },
    "592e513612704cfe8935bfe380a9aeff": {
     "model_module": "@jupyter-widgets/base",
     "model_module_version": "1.2.0",
     "model_name": "LayoutModel",
     "state": {
      "_model_module": "@jupyter-widgets/base",
      "_model_module_version": "1.2.0",
      "_model_name": "LayoutModel",
      "_view_count": null,
      "_view_module": "@jupyter-widgets/base",
      "_view_module_version": "1.2.0",
      "_view_name": "LayoutView",
      "align_content": null,
      "align_items": null,
      "align_self": null,
      "border": null,
      "bottom": null,
      "display": null,
      "flex": null,
      "flex_flow": null,
      "grid_area": null,
      "grid_auto_columns": null,
      "grid_auto_flow": null,
      "grid_auto_rows": null,
      "grid_column": null,
      "grid_gap": null,
      "grid_row": null,
      "grid_template_areas": null,
      "grid_template_columns": null,
      "grid_template_rows": null,
      "height": null,
      "justify_content": null,
      "justify_items": null,
      "left": null,
      "margin": null,
      "max_height": null,
      "max_width": null,
      "min_height": null,
      "min_width": null,
      "object_fit": null,
      "object_position": null,
      "order": null,
      "overflow": null,
      "overflow_x": null,
      "overflow_y": null,
      "padding": null,
      "right": null,
      "top": null,
      "visibility": null,
      "width": null
     }
    },
    "5e9a07b0aef7450c9d9fbbafb76c272a": {
     "model_module": "@jupyter-widgets/controls",
     "model_module_version": "1.5.0",
     "model_name": "FloatProgressModel",
     "state": {
      "_dom_classes": [],
      "_model_module": "@jupyter-widgets/controls",
      "_model_module_version": "1.5.0",
      "_model_name": "FloatProgressModel",
      "_view_count": null,
      "_view_module": "@jupyter-widgets/controls",
      "_view_module_version": "1.5.0",
      "_view_name": "ProgressView",
      "bar_style": "success",
      "description": "",
      "description_tooltip": null,
      "layout": "IPY_MODEL_cee491595b81447ebcc26a5cf117c39a",
      "max": 1,
      "min": 0,
      "orientation": "horizontal",
      "style": "IPY_MODEL_4291626e61964cbe9f2c0b9c4c43275f",
      "value": 0
     }
    },
    "6065504b62324d069a9519bd390b6dcd": {
     "model_module": "@jupyter-widgets/controls",
     "model_module_version": "1.5.0",
     "model_name": "DescriptionStyleModel",
     "state": {
      "_model_module": "@jupyter-widgets/controls",
      "_model_module_version": "1.5.0",
      "_model_name": "DescriptionStyleModel",
      "_view_count": null,
      "_view_module": "@jupyter-widgets/base",
      "_view_module_version": "1.2.0",
      "_view_name": "StyleView",
      "description_width": ""
     }
    },
    "6287cfe0e52a40f6a646d18ba527616d": {
     "model_module": "@jupyter-widgets/controls",
     "model_module_version": "1.5.0",
     "model_name": "HBoxModel",
     "state": {
      "_dom_classes": [],
      "_model_module": "@jupyter-widgets/controls",
      "_model_module_version": "1.5.0",
      "_model_name": "HBoxModel",
      "_view_count": null,
      "_view_module": "@jupyter-widgets/controls",
      "_view_module_version": "1.5.0",
      "_view_name": "HBoxView",
      "box_style": "",
      "children": [
       "IPY_MODEL_d5e8e5ec4ab74518961c1988b0264270",
       "IPY_MODEL_f6079cb8a63145118d8ed130587a004c",
       "IPY_MODEL_2379405948e64aa19a7846b3c27d1dc2"
      ],
      "layout": "IPY_MODEL_222902ffcd814e7d8c2d43e8ebd01489"
     }
    },
    "63ab57ba8a924754834ea63300901c8e": {
     "model_module": "@jupyter-widgets/base",
     "model_module_version": "1.2.0",
     "model_name": "LayoutModel",
     "state": {
      "_model_module": "@jupyter-widgets/base",
      "_model_module_version": "1.2.0",
      "_model_name": "LayoutModel",
      "_view_count": null,
      "_view_module": "@jupyter-widgets/base",
      "_view_module_version": "1.2.0",
      "_view_name": "LayoutView",
      "align_content": null,
      "align_items": null,
      "align_self": null,
      "border": null,
      "bottom": null,
      "display": null,
      "flex": null,
      "flex_flow": null,
      "grid_area": null,
      "grid_auto_columns": null,
      "grid_auto_flow": null,
      "grid_auto_rows": null,
      "grid_column": null,
      "grid_gap": null,
      "grid_row": null,
      "grid_template_areas": null,
      "grid_template_columns": null,
      "grid_template_rows": null,
      "height": null,
      "justify_content": null,
      "justify_items": null,
      "left": null,
      "margin": null,
      "max_height": null,
      "max_width": null,
      "min_height": null,
      "min_width": null,
      "object_fit": null,
      "object_position": null,
      "order": null,
      "overflow": null,
      "overflow_x": null,
      "overflow_y": null,
      "padding": null,
      "right": null,
      "top": null,
      "visibility": null,
      "width": null
     }
    },
    "64e15b674d294136a6c514c3d11fc6aa": {
     "model_module": "@jupyter-widgets/controls",
     "model_module_version": "1.5.0",
     "model_name": "HTMLModel",
     "state": {
      "_dom_classes": [],
      "_model_module": "@jupyter-widgets/controls",
      "_model_module_version": "1.5.0",
      "_model_name": "HTMLModel",
      "_view_count": null,
      "_view_module": "@jupyter-widgets/controls",
      "_view_module_version": "1.5.0",
      "_view_name": "HTMLView",
      "description": "",
      "description_tooltip": null,
      "layout": "IPY_MODEL_246de737617b4cf99366ce34563bb039",
      "placeholder": "​",
      "style": "IPY_MODEL_a73f389d9edd48ceb24a0d4b5d8e6138",
      "value": " 268M/268M [00:21&lt;00:00, 10.1MB/s]"
     }
    },
    "65f51cbfb9a24204b8a26cc2c0e6f41e": {
     "model_module": "@jupyter-widgets/controls",
     "model_module_version": "1.5.0",
     "model_name": "HTMLModel",
     "state": {
      "_dom_classes": [],
      "_model_module": "@jupyter-widgets/controls",
      "_model_module_version": "1.5.0",
      "_model_name": "HTMLModel",
      "_view_count": null,
      "_view_module": "@jupyter-widgets/controls",
      "_view_module_version": "1.5.0",
      "_view_name": "HTMLView",
      "description": "",
      "description_tooltip": null,
      "layout": "IPY_MODEL_c38529505dec4d868cf556481885a9fd",
      "placeholder": "​",
      "style": "IPY_MODEL_819f861bf7364c2a85f56287e986597b",
      "value": "Downloading: 100%"
     }
    },
    "68b00cbf5e844b128513b5d2492c236b": {
     "model_module": "@jupyter-widgets/controls",
     "model_module_version": "1.5.0",
     "model_name": "FloatProgressModel",
     "state": {
      "_dom_classes": [],
      "_model_module": "@jupyter-widgets/controls",
      "_model_module_version": "1.5.0",
      "_model_name": "FloatProgressModel",
      "_view_count": null,
      "_view_module": "@jupyter-widgets/controls",
      "_view_module_version": "1.5.0",
      "_view_name": "ProgressView",
      "bar_style": "success",
      "description": "",
      "description_tooltip": null,
      "layout": "IPY_MODEL_95f7fd99d78a4a8dad46cba0876f8b58",
      "max": 231508,
      "min": 0,
      "orientation": "horizontal",
      "style": "IPY_MODEL_1bf2b3d59daf42abb45d07e1c2e62878",
      "value": 231508
     }
    },
    "819f861bf7364c2a85f56287e986597b": {
     "model_module": "@jupyter-widgets/controls",
     "model_module_version": "1.5.0",
     "model_name": "DescriptionStyleModel",
     "state": {
      "_model_module": "@jupyter-widgets/controls",
      "_model_module_version": "1.5.0",
      "_model_name": "DescriptionStyleModel",
      "_view_count": null,
      "_view_module": "@jupyter-widgets/base",
      "_view_module_version": "1.2.0",
      "_view_name": "StyleView",
      "description_width": ""
     }
    },
    "8cf3f8cbf5454245a5ae8f892b23ba49": {
     "model_module": "@jupyter-widgets/base",
     "model_module_version": "1.2.0",
     "model_name": "LayoutModel",
     "state": {
      "_model_module": "@jupyter-widgets/base",
      "_model_module_version": "1.2.0",
      "_model_name": "LayoutModel",
      "_view_count": null,
      "_view_module": "@jupyter-widgets/base",
      "_view_module_version": "1.2.0",
      "_view_name": "LayoutView",
      "align_content": null,
      "align_items": null,
      "align_self": null,
      "border": null,
      "bottom": null,
      "display": null,
      "flex": null,
      "flex_flow": null,
      "grid_area": null,
      "grid_auto_columns": null,
      "grid_auto_flow": null,
      "grid_auto_rows": null,
      "grid_column": null,
      "grid_gap": null,
      "grid_row": null,
      "grid_template_areas": null,
      "grid_template_columns": null,
      "grid_template_rows": null,
      "height": null,
      "justify_content": null,
      "justify_items": null,
      "left": null,
      "margin": null,
      "max_height": null,
      "max_width": null,
      "min_height": null,
      "min_width": null,
      "object_fit": null,
      "object_position": null,
      "order": null,
      "overflow": null,
      "overflow_x": null,
      "overflow_y": null,
      "padding": null,
      "right": null,
      "top": null,
      "visibility": null,
      "width": null
     }
    },
    "8e065b6fe90f4c0d9930f78d199d1969": {
     "model_module": "@jupyter-widgets/controls",
     "model_module_version": "1.5.0",
     "model_name": "DescriptionStyleModel",
     "state": {
      "_model_module": "@jupyter-widgets/controls",
      "_model_module_version": "1.5.0",
      "_model_name": "DescriptionStyleModel",
      "_view_count": null,
      "_view_module": "@jupyter-widgets/base",
      "_view_module_version": "1.2.0",
      "_view_name": "StyleView",
      "description_width": ""
     }
    },
    "8fd41a5bbb9a48dda69a1b28e3f3f44c": {
     "model_module": "@jupyter-widgets/base",
     "model_module_version": "1.2.0",
     "model_name": "LayoutModel",
     "state": {
      "_model_module": "@jupyter-widgets/base",
      "_model_module_version": "1.2.0",
      "_model_name": "LayoutModel",
      "_view_count": null,
      "_view_module": "@jupyter-widgets/base",
      "_view_module_version": "1.2.0",
      "_view_name": "LayoutView",
      "align_content": null,
      "align_items": null,
      "align_self": null,
      "border": null,
      "bottom": null,
      "display": null,
      "flex": null,
      "flex_flow": null,
      "grid_area": null,
      "grid_auto_columns": null,
      "grid_auto_flow": null,
      "grid_auto_rows": null,
      "grid_column": null,
      "grid_gap": null,
      "grid_row": null,
      "grid_template_areas": null,
      "grid_template_columns": null,
      "grid_template_rows": null,
      "height": null,
      "justify_content": null,
      "justify_items": null,
      "left": null,
      "margin": null,
      "max_height": null,
      "max_width": null,
      "min_height": null,
      "min_width": null,
      "object_fit": null,
      "object_position": null,
      "order": null,
      "overflow": null,
      "overflow_x": null,
      "overflow_y": null,
      "padding": null,
      "right": null,
      "top": null,
      "visibility": null,
      "width": null
     }
    },
    "90b9452ca831466b95a1a47b3807919d": {
     "model_module": "@jupyter-widgets/base",
     "model_module_version": "1.2.0",
     "model_name": "LayoutModel",
     "state": {
      "_model_module": "@jupyter-widgets/base",
      "_model_module_version": "1.2.0",
      "_model_name": "LayoutModel",
      "_view_count": null,
      "_view_module": "@jupyter-widgets/base",
      "_view_module_version": "1.2.0",
      "_view_name": "LayoutView",
      "align_content": null,
      "align_items": null,
      "align_self": null,
      "border": null,
      "bottom": null,
      "display": null,
      "flex": null,
      "flex_flow": null,
      "grid_area": null,
      "grid_auto_columns": null,
      "grid_auto_flow": null,
      "grid_auto_rows": null,
      "grid_column": null,
      "grid_gap": null,
      "grid_row": null,
      "grid_template_areas": null,
      "grid_template_columns": null,
      "grid_template_rows": null,
      "height": null,
      "justify_content": null,
      "justify_items": null,
      "left": null,
      "margin": null,
      "max_height": null,
      "max_width": null,
      "min_height": null,
      "min_width": null,
      "object_fit": null,
      "object_position": null,
      "order": null,
      "overflow": null,
      "overflow_x": null,
      "overflow_y": null,
      "padding": null,
      "right": null,
      "top": null,
      "visibility": null,
      "width": null
     }
    },
    "9235d98a749d48e18bfe56a88bf94f6b": {
     "model_module": "@jupyter-widgets/controls",
     "model_module_version": "1.5.0",
     "model_name": "DescriptionStyleModel",
     "state": {
      "_model_module": "@jupyter-widgets/controls",
      "_model_module_version": "1.5.0",
      "_model_name": "DescriptionStyleModel",
      "_view_count": null,
      "_view_module": "@jupyter-widgets/base",
      "_view_module_version": "1.2.0",
      "_view_name": "StyleView",
      "description_width": ""
     }
    },
    "924ee0d79bb84fa18d99ed7159058292": {
     "model_module": "@jupyter-widgets/controls",
     "model_module_version": "1.5.0",
     "model_name": "DescriptionStyleModel",
     "state": {
      "_model_module": "@jupyter-widgets/controls",
      "_model_module_version": "1.5.0",
      "_model_name": "DescriptionStyleModel",
      "_view_count": null,
      "_view_module": "@jupyter-widgets/base",
      "_view_module_version": "1.2.0",
      "_view_name": "StyleView",
      "description_width": ""
     }
    },
    "95f7fd99d78a4a8dad46cba0876f8b58": {
     "model_module": "@jupyter-widgets/base",
     "model_module_version": "1.2.0",
     "model_name": "LayoutModel",
     "state": {
      "_model_module": "@jupyter-widgets/base",
      "_model_module_version": "1.2.0",
      "_model_name": "LayoutModel",
      "_view_count": null,
      "_view_module": "@jupyter-widgets/base",
      "_view_module_version": "1.2.0",
      "_view_name": "LayoutView",
      "align_content": null,
      "align_items": null,
      "align_self": null,
      "border": null,
      "bottom": null,
      "display": null,
      "flex": null,
      "flex_flow": null,
      "grid_area": null,
      "grid_auto_columns": null,
      "grid_auto_flow": null,
      "grid_auto_rows": null,
      "grid_column": null,
      "grid_gap": null,
      "grid_row": null,
      "grid_template_areas": null,
      "grid_template_columns": null,
      "grid_template_rows": null,
      "height": null,
      "justify_content": null,
      "justify_items": null,
      "left": null,
      "margin": null,
      "max_height": null,
      "max_width": null,
      "min_height": null,
      "min_width": null,
      "object_fit": null,
      "object_position": null,
      "order": null,
      "overflow": null,
      "overflow_x": null,
      "overflow_y": null,
      "padding": null,
      "right": null,
      "top": null,
      "visibility": null,
      "width": null
     }
    },
    "9cc5d9082df8426fb747b60b634902d9": {
     "model_module": "@jupyter-widgets/base",
     "model_module_version": "1.2.0",
     "model_name": "LayoutModel",
     "state": {
      "_model_module": "@jupyter-widgets/base",
      "_model_module_version": "1.2.0",
      "_model_name": "LayoutModel",
      "_view_count": null,
      "_view_module": "@jupyter-widgets/base",
      "_view_module_version": "1.2.0",
      "_view_name": "LayoutView",
      "align_content": null,
      "align_items": null,
      "align_self": null,
      "border": null,
      "bottom": null,
      "display": null,
      "flex": null,
      "flex_flow": null,
      "grid_area": null,
      "grid_auto_columns": null,
      "grid_auto_flow": null,
      "grid_auto_rows": null,
      "grid_column": null,
      "grid_gap": null,
      "grid_row": null,
      "grid_template_areas": null,
      "grid_template_columns": null,
      "grid_template_rows": null,
      "height": null,
      "justify_content": null,
      "justify_items": null,
      "left": null,
      "margin": null,
      "max_height": null,
      "max_width": null,
      "min_height": null,
      "min_width": null,
      "object_fit": null,
      "object_position": null,
      "order": null,
      "overflow": null,
      "overflow_x": null,
      "overflow_y": null,
      "padding": null,
      "right": null,
      "top": null,
      "visibility": null,
      "width": null
     }
    },
    "a716d74333be4c9993888c9d70ff0e8d": {
     "model_module": "@jupyter-widgets/base",
     "model_module_version": "1.2.0",
     "model_name": "LayoutModel",
     "state": {
      "_model_module": "@jupyter-widgets/base",
      "_model_module_version": "1.2.0",
      "_model_name": "LayoutModel",
      "_view_count": null,
      "_view_module": "@jupyter-widgets/base",
      "_view_module_version": "1.2.0",
      "_view_name": "LayoutView",
      "align_content": null,
      "align_items": null,
      "align_self": null,
      "border": null,
      "bottom": null,
      "display": null,
      "flex": null,
      "flex_flow": null,
      "grid_area": null,
      "grid_auto_columns": null,
      "grid_auto_flow": null,
      "grid_auto_rows": null,
      "grid_column": null,
      "grid_gap": null,
      "grid_row": null,
      "grid_template_areas": null,
      "grid_template_columns": null,
      "grid_template_rows": null,
      "height": null,
      "justify_content": null,
      "justify_items": null,
      "left": null,
      "margin": null,
      "max_height": null,
      "max_width": null,
      "min_height": null,
      "min_width": null,
      "object_fit": null,
      "object_position": null,
      "order": null,
      "overflow": null,
      "overflow_x": null,
      "overflow_y": null,
      "padding": null,
      "right": null,
      "top": null,
      "visibility": null,
      "width": null
     }
    },
    "a73f389d9edd48ceb24a0d4b5d8e6138": {
     "model_module": "@jupyter-widgets/controls",
     "model_module_version": "1.5.0",
     "model_name": "DescriptionStyleModel",
     "state": {
      "_model_module": "@jupyter-widgets/controls",
      "_model_module_version": "1.5.0",
      "_model_name": "DescriptionStyleModel",
      "_view_count": null,
      "_view_module": "@jupyter-widgets/base",
      "_view_module_version": "1.2.0",
      "_view_name": "StyleView",
      "description_width": ""
     }
    },
    "b625c8130ace4535a1f80f522a14d47f": {
     "model_module": "@jupyter-widgets/controls",
     "model_module_version": "1.5.0",
     "model_name": "HTMLModel",
     "state": {
      "_dom_classes": [],
      "_model_module": "@jupyter-widgets/controls",
      "_model_module_version": "1.5.0",
      "_model_name": "HTMLModel",
      "_view_count": null,
      "_view_module": "@jupyter-widgets/controls",
      "_view_module_version": "1.5.0",
      "_view_name": "HTMLView",
      "description": "",
      "description_tooltip": null,
      "layout": "IPY_MODEL_a716d74333be4c9993888c9d70ff0e8d",
      "placeholder": "​",
      "style": "IPY_MODEL_4bd70d167b894f15b6de53011e2a27de",
      "value": ""
     }
    },
    "b817d7cd1d4c4303810b360a017a4997": {
     "model_module": "@jupyter-widgets/controls",
     "model_module_version": "1.5.0",
     "model_name": "ProgressStyleModel",
     "state": {
      "_model_module": "@jupyter-widgets/controls",
      "_model_module_version": "1.5.0",
      "_model_name": "ProgressStyleModel",
      "_view_count": null,
      "_view_module": "@jupyter-widgets/base",
      "_view_module_version": "1.2.0",
      "_view_name": "StyleView",
      "bar_color": null,
      "description_width": ""
     }
    },
    "beea2415bd7f4b3e9592e190b76a5a9d": {
     "model_module": "@jupyter-widgets/base",
     "model_module_version": "1.2.0",
     "model_name": "LayoutModel",
     "state": {
      "_model_module": "@jupyter-widgets/base",
      "_model_module_version": "1.2.0",
      "_model_name": "LayoutModel",
      "_view_count": null,
      "_view_module": "@jupyter-widgets/base",
      "_view_module_version": "1.2.0",
      "_view_name": "LayoutView",
      "align_content": null,
      "align_items": null,
      "align_self": null,
      "border": null,
      "bottom": null,
      "display": null,
      "flex": null,
      "flex_flow": null,
      "grid_area": null,
      "grid_auto_columns": null,
      "grid_auto_flow": null,
      "grid_auto_rows": null,
      "grid_column": null,
      "grid_gap": null,
      "grid_row": null,
      "grid_template_areas": null,
      "grid_template_columns": null,
      "grid_template_rows": null,
      "height": null,
      "justify_content": null,
      "justify_items": null,
      "left": null,
      "margin": null,
      "max_height": null,
      "max_width": null,
      "min_height": null,
      "min_width": null,
      "object_fit": null,
      "object_position": null,
      "order": null,
      "overflow": null,
      "overflow_x": null,
      "overflow_y": null,
      "padding": null,
      "right": null,
      "top": null,
      "visibility": null,
      "width": null
     }
    },
    "c364b4c53fbc4abfa0a9e5346c93d8ca": {
     "model_module": "@jupyter-widgets/controls",
     "model_module_version": "1.5.0",
     "model_name": "HTMLModel",
     "state": {
      "_dom_classes": [],
      "_model_module": "@jupyter-widgets/controls",
      "_model_module_version": "1.5.0",
      "_model_name": "HTMLModel",
      "_view_count": null,
      "_view_module": "@jupyter-widgets/controls",
      "_view_module_version": "1.5.0",
      "_view_name": "HTMLView",
      "description": "",
      "description_tooltip": null,
      "layout": "IPY_MODEL_9cc5d9082df8426fb747b60b634902d9",
      "placeholder": "​",
      "style": "IPY_MODEL_924ee0d79bb84fa18d99ed7159058292",
      "value": "Downloading: 100%"
     }
    },
    "c38529505dec4d868cf556481885a9fd": {
     "model_module": "@jupyter-widgets/base",
     "model_module_version": "1.2.0",
     "model_name": "LayoutModel",
     "state": {
      "_model_module": "@jupyter-widgets/base",
      "_model_module_version": "1.2.0",
      "_model_name": "LayoutModel",
      "_view_count": null,
      "_view_module": "@jupyter-widgets/base",
      "_view_module_version": "1.2.0",
      "_view_name": "LayoutView",
      "align_content": null,
      "align_items": null,
      "align_self": null,
      "border": null,
      "bottom": null,
      "display": null,
      "flex": null,
      "flex_flow": null,
      "grid_area": null,
      "grid_auto_columns": null,
      "grid_auto_flow": null,
      "grid_auto_rows": null,
      "grid_column": null,
      "grid_gap": null,
      "grid_row": null,
      "grid_template_areas": null,
      "grid_template_columns": null,
      "grid_template_rows": null,
      "height": null,
      "justify_content": null,
      "justify_items": null,
      "left": null,
      "margin": null,
      "max_height": null,
      "max_width": null,
      "min_height": null,
      "min_width": null,
      "object_fit": null,
      "object_position": null,
      "order": null,
      "overflow": null,
      "overflow_x": null,
      "overflow_y": null,
      "padding": null,
      "right": null,
      "top": null,
      "visibility": null,
      "width": null
     }
    },
    "c74de56032ea4181b443642e2f91ba16": {
     "model_module": "@jupyter-widgets/controls",
     "model_module_version": "1.5.0",
     "model_name": "ProgressStyleModel",
     "state": {
      "_model_module": "@jupyter-widgets/controls",
      "_model_module_version": "1.5.0",
      "_model_name": "ProgressStyleModel",
      "_view_count": null,
      "_view_module": "@jupyter-widgets/base",
      "_view_module_version": "1.2.0",
      "_view_name": "StyleView",
      "bar_color": null,
      "description_width": ""
     }
    },
    "cb09d1c7a24e4312846c2f416900e25a": {
     "model_module": "@jupyter-widgets/controls",
     "model_module_version": "1.5.0",
     "model_name": "HTMLModel",
     "state": {
      "_dom_classes": [],
      "_model_module": "@jupyter-widgets/controls",
      "_model_module_version": "1.5.0",
      "_model_name": "HTMLModel",
      "_view_count": null,
      "_view_module": "@jupyter-widgets/controls",
      "_view_module_version": "1.5.0",
      "_view_name": "HTMLView",
      "description": "",
      "description_tooltip": null,
      "layout": "IPY_MODEL_d78a383a9f4e47bab16982fed6be6e73",
      "placeholder": "​",
      "style": "IPY_MODEL_6065504b62324d069a9519bd390b6dcd",
      "value": " 0/0 [00:00&lt;?, ?it/s]"
     }
    },
    "cee491595b81447ebcc26a5cf117c39a": {
     "model_module": "@jupyter-widgets/base",
     "model_module_version": "1.2.0",
     "model_name": "LayoutModel",
     "state": {
      "_model_module": "@jupyter-widgets/base",
      "_model_module_version": "1.2.0",
      "_model_name": "LayoutModel",
      "_view_count": null,
      "_view_module": "@jupyter-widgets/base",
      "_view_module_version": "1.2.0",
      "_view_name": "LayoutView",
      "align_content": null,
      "align_items": null,
      "align_self": null,
      "border": null,
      "bottom": null,
      "display": null,
      "flex": null,
      "flex_flow": null,
      "grid_area": null,
      "grid_auto_columns": null,
      "grid_auto_flow": null,
      "grid_auto_rows": null,
      "grid_column": null,
      "grid_gap": null,
      "grid_row": null,
      "grid_template_areas": null,
      "grid_template_columns": null,
      "grid_template_rows": null,
      "height": null,
      "justify_content": null,
      "justify_items": null,
      "left": null,
      "margin": null,
      "max_height": null,
      "max_width": null,
      "min_height": null,
      "min_width": null,
      "object_fit": null,
      "object_position": null,
      "order": null,
      "overflow": null,
      "overflow_x": null,
      "overflow_y": null,
      "padding": null,
      "right": null,
      "top": null,
      "visibility": null,
      "width": "20px"
     }
    },
    "d060f68a092744abb5400cb51e9bde60": {
     "model_module": "@jupyter-widgets/controls",
     "model_module_version": "1.5.0",
     "model_name": "FloatProgressModel",
     "state": {
      "_dom_classes": [],
      "_model_module": "@jupyter-widgets/controls",
      "_model_module_version": "1.5.0",
      "_model_name": "FloatProgressModel",
      "_view_count": null,
      "_view_module": "@jupyter-widgets/controls",
      "_view_module_version": "1.5.0",
      "_view_name": "ProgressView",
      "bar_style": "success",
      "description": "",
      "description_tooltip": null,
      "layout": "IPY_MODEL_8cf3f8cbf5454245a5ae8f892b23ba49",
      "max": 629,
      "min": 0,
      "orientation": "horizontal",
      "style": "IPY_MODEL_c74de56032ea4181b443642e2f91ba16",
      "value": 629
     }
    },
    "d4c5c5194c344a308f0d0d8d90f520de": {
     "model_module": "@jupyter-widgets/base",
     "model_module_version": "1.2.0",
     "model_name": "LayoutModel",
     "state": {
      "_model_module": "@jupyter-widgets/base",
      "_model_module_version": "1.2.0",
      "_model_name": "LayoutModel",
      "_view_count": null,
      "_view_module": "@jupyter-widgets/base",
      "_view_module_version": "1.2.0",
      "_view_name": "LayoutView",
      "align_content": null,
      "align_items": null,
      "align_self": null,
      "border": null,
      "bottom": null,
      "display": null,
      "flex": null,
      "flex_flow": null,
      "grid_area": null,
      "grid_auto_columns": null,
      "grid_auto_flow": null,
      "grid_auto_rows": null,
      "grid_column": null,
      "grid_gap": null,
      "grid_row": null,
      "grid_template_areas": null,
      "grid_template_columns": null,
      "grid_template_rows": null,
      "height": null,
      "justify_content": null,
      "justify_items": null,
      "left": null,
      "margin": null,
      "max_height": null,
      "max_width": null,
      "min_height": null,
      "min_width": null,
      "object_fit": null,
      "object_position": null,
      "order": null,
      "overflow": null,
      "overflow_x": null,
      "overflow_y": null,
      "padding": null,
      "right": null,
      "top": null,
      "visibility": null,
      "width": null
     }
    },
    "d5e8e5ec4ab74518961c1988b0264270": {
     "model_module": "@jupyter-widgets/controls",
     "model_module_version": "1.5.0",
     "model_name": "HTMLModel",
     "state": {
      "_dom_classes": [],
      "_model_module": "@jupyter-widgets/controls",
      "_model_module_version": "1.5.0",
      "_model_name": "HTMLModel",
      "_view_count": null,
      "_view_module": "@jupyter-widgets/controls",
      "_view_module_version": "1.5.0",
      "_view_name": "HTMLView",
      "description": "",
      "description_tooltip": null,
      "layout": "IPY_MODEL_beea2415bd7f4b3e9592e190b76a5a9d",
      "placeholder": "​",
      "style": "IPY_MODEL_8e065b6fe90f4c0d9930f78d199d1969",
      "value": "Downloading: 100%"
     }
    },
    "d78a383a9f4e47bab16982fed6be6e73": {
     "model_module": "@jupyter-widgets/base",
     "model_module_version": "1.2.0",
     "model_name": "LayoutModel",
     "state": {
      "_model_module": "@jupyter-widgets/base",
      "_model_module_version": "1.2.0",
      "_model_name": "LayoutModel",
      "_view_count": null,
      "_view_module": "@jupyter-widgets/base",
      "_view_module_version": "1.2.0",
      "_view_name": "LayoutView",
      "align_content": null,
      "align_items": null,
      "align_self": null,
      "border": null,
      "bottom": null,
      "display": null,
      "flex": null,
      "flex_flow": null,
      "grid_area": null,
      "grid_auto_columns": null,
      "grid_auto_flow": null,
      "grid_auto_rows": null,
      "grid_column": null,
      "grid_gap": null,
      "grid_row": null,
      "grid_template_areas": null,
      "grid_template_columns": null,
      "grid_template_rows": null,
      "height": null,
      "justify_content": null,
      "justify_items": null,
      "left": null,
      "margin": null,
      "max_height": null,
      "max_width": null,
      "min_height": null,
      "min_width": null,
      "object_fit": null,
      "object_position": null,
      "order": null,
      "overflow": null,
      "overflow_x": null,
      "overflow_y": null,
      "padding": null,
      "right": null,
      "top": null,
      "visibility": null,
      "width": null
     }
    },
    "dd8fa013bb1c4126b6fd00374559e724": {
     "model_module": "@jupyter-widgets/controls",
     "model_module_version": "1.5.0",
     "model_name": "HBoxModel",
     "state": {
      "_dom_classes": [],
      "_model_module": "@jupyter-widgets/controls",
      "_model_module_version": "1.5.0",
      "_model_name": "HBoxModel",
      "_view_count": null,
      "_view_module": "@jupyter-widgets/controls",
      "_view_module_version": "1.5.0",
      "_view_name": "HBoxView",
      "box_style": "",
      "children": [
       "IPY_MODEL_65f51cbfb9a24204b8a26cc2c0e6f41e",
       "IPY_MODEL_1bd9a5f85245479bb01d1efc28705c33",
       "IPY_MODEL_64e15b674d294136a6c514c3d11fc6aa"
      ],
      "layout": "IPY_MODEL_8fd41a5bbb9a48dda69a1b28e3f3f44c"
     }
    },
    "e0c1e3d44cf8462ea64915a423dc6695": {
     "model_module": "@jupyter-widgets/controls",
     "model_module_version": "1.5.0",
     "model_name": "HTMLModel",
     "state": {
      "_dom_classes": [],
      "_model_module": "@jupyter-widgets/controls",
      "_model_module_version": "1.5.0",
      "_model_name": "HTMLModel",
      "_view_count": null,
      "_view_module": "@jupyter-widgets/controls",
      "_view_module_version": "1.5.0",
      "_view_name": "HTMLView",
      "description": "",
      "description_tooltip": null,
      "layout": "IPY_MODEL_d4c5c5194c344a308f0d0d8d90f520de",
      "placeholder": "​",
      "style": "IPY_MODEL_446eb6b3e0244ada935e669bf106dfbf",
      "value": "Downloading: 100%"
     }
    },
    "e853364885084cd28092a5d673bb4e4c": {
     "model_module": "@jupyter-widgets/controls",
     "model_module_version": "1.5.0",
     "model_name": "HTMLModel",
     "state": {
      "_dom_classes": [],
      "_model_module": "@jupyter-widgets/controls",
      "_model_module_version": "1.5.0",
      "_model_name": "HTMLModel",
      "_view_count": null,
      "_view_module": "@jupyter-widgets/controls",
      "_view_module_version": "1.5.0",
      "_view_name": "HTMLView",
      "description": "",
      "description_tooltip": null,
      "layout": "IPY_MODEL_105d8c9e4f3c435b8d460e66c2415392",
      "placeholder": "​",
      "style": "IPY_MODEL_fe5ed21536154cd2ab3b4ec6a3f0d2a6",
      "value": " 629/629 [00:00&lt;00:00, 4.83kB/s]"
     }
    },
    "ea1bfd3206ca431a89ebf3c0098fd970": {
     "model_module": "@jupyter-widgets/controls",
     "model_module_version": "1.5.0",
     "model_name": "HBoxModel",
     "state": {
      "_dom_classes": [],
      "_model_module": "@jupyter-widgets/controls",
      "_model_module_version": "1.5.0",
      "_model_name": "HBoxModel",
      "_view_count": null,
      "_view_module": "@jupyter-widgets/controls",
      "_view_module_version": "1.5.0",
      "_view_name": "HBoxView",
      "box_style": "",
      "children": [
       "IPY_MODEL_b625c8130ace4535a1f80f522a14d47f",
       "IPY_MODEL_5e9a07b0aef7450c9d9fbbafb76c272a",
       "IPY_MODEL_cb09d1c7a24e4312846c2f416900e25a"
      ],
      "layout": "IPY_MODEL_0ac20837d4134da1a2a3cc2f60ae65da"
     }
    },
    "edb367ea52044487862f0a4b29450665": {
     "model_module": "@jupyter-widgets/base",
     "model_module_version": "1.2.0",
     "model_name": "LayoutModel",
     "state": {
      "_model_module": "@jupyter-widgets/base",
      "_model_module_version": "1.2.0",
      "_model_name": "LayoutModel",
      "_view_count": null,
      "_view_module": "@jupyter-widgets/base",
      "_view_module_version": "1.2.0",
      "_view_name": "LayoutView",
      "align_content": null,
      "align_items": null,
      "align_self": null,
      "border": null,
      "bottom": null,
      "display": null,
      "flex": null,
      "flex_flow": null,
      "grid_area": null,
      "grid_auto_columns": null,
      "grid_auto_flow": null,
      "grid_auto_rows": null,
      "grid_column": null,
      "grid_gap": null,
      "grid_row": null,
      "grid_template_areas": null,
      "grid_template_columns": null,
      "grid_template_rows": null,
      "height": null,
      "justify_content": null,
      "justify_items": null,
      "left": null,
      "margin": null,
      "max_height": null,
      "max_width": null,
      "min_height": null,
      "min_width": null,
      "object_fit": null,
      "object_position": null,
      "order": null,
      "overflow": null,
      "overflow_x": null,
      "overflow_y": null,
      "padding": null,
      "right": null,
      "top": null,
      "visibility": null,
      "width": null
     }
    },
    "f4f510f8a3434719816e19c0a9f2a7e7": {
     "model_module": "@jupyter-widgets/controls",
     "model_module_version": "1.5.0",
     "model_name": "ProgressStyleModel",
     "state": {
      "_model_module": "@jupyter-widgets/controls",
      "_model_module_version": "1.5.0",
      "_model_name": "ProgressStyleModel",
      "_view_count": null,
      "_view_module": "@jupyter-widgets/base",
      "_view_module_version": "1.2.0",
      "_view_name": "StyleView",
      "bar_color": null,
      "description_width": ""
     }
    },
    "f6079cb8a63145118d8ed130587a004c": {
     "model_module": "@jupyter-widgets/controls",
     "model_module_version": "1.5.0",
     "model_name": "FloatProgressModel",
     "state": {
      "_dom_classes": [],
      "_model_module": "@jupyter-widgets/controls",
      "_model_module_version": "1.5.0",
      "_model_name": "FloatProgressModel",
      "_view_count": null,
      "_view_module": "@jupyter-widgets/controls",
      "_view_module_version": "1.5.0",
      "_view_name": "ProgressView",
      "bar_style": "success",
      "description": "",
      "description_tooltip": null,
      "layout": "IPY_MODEL_edb367ea52044487862f0a4b29450665",
      "max": 48,
      "min": 0,
      "orientation": "horizontal",
      "style": "IPY_MODEL_f4f510f8a3434719816e19c0a9f2a7e7",
      "value": 48
     }
    },
    "fe5ed21536154cd2ab3b4ec6a3f0d2a6": {
     "model_module": "@jupyter-widgets/controls",
     "model_module_version": "1.5.0",
     "model_name": "DescriptionStyleModel",
     "state": {
      "_model_module": "@jupyter-widgets/controls",
      "_model_module_version": "1.5.0",
      "_model_name": "DescriptionStyleModel",
      "_view_count": null,
      "_view_module": "@jupyter-widgets/base",
      "_view_module_version": "1.2.0",
      "_view_name": "StyleView",
      "description_width": ""
     }
    }
   }
  }
 },
 "nbformat": 4,
 "nbformat_minor": 1
}
